{
 "cells": [
  {
   "cell_type": "markdown",
   "id": "b9063b79-d4fa-4799-8a15-d712953e4579",
   "metadata": {},
   "source": [
    "# **Análisis Juegos Olímpicos de Invierno**"
   ]
  },
  {
   "cell_type": "code",
   "execution_count": 1,
   "id": "41b54193-7215-4166-bd06-efe1a3e472c9",
   "metadata": {},
   "outputs": [],
   "source": [
    "import numpy as np  # muy útil para cálculos científicos con Python\n",
    "import pandas as pd # Librería para estructar datos primarios\n",
    "\n",
    "%matplotlib inline \n",
    "\n",
    "import matplotlib as mpl\n",
    "import matplotlib.pyplot as plt\n",
    "import seaborn as sns\n",
    "import plotly.figure_factory as ff\n",
    "import matplotlib.lines as mlines\n",
    "import matplotlib.gridspec as gridspec\n"
   ]
  },
  {
   "cell_type": "code",
   "execution_count": 2,
   "id": "5e161bff-2d61-4b0d-9c65-11e7889a3a83",
   "metadata": {},
   "outputs": [
    {
     "name": "stdout",
     "output_type": "stream",
     "text": [
      "Data read into a pandas dataframe!\n"
     ]
    }
   ],
   "source": [
    "#IMPORTANTE: Se debe revisar previamente el nombre del archivo, para que el documento sea leído. Si está mal escrito, se mostrará un mensaje de error.\n",
    "athletes = pd.read_csv(\"athlete_events_dataset.csv\") #pd.read_csv(\"athlete_events_dataset.csv\")\n",
    "regions = pd.read_csv(\"country_definitions.csv\")     #pd.read_csv(\"noc_regions.csv\") \n",
    "oly_medal = pd.read_csv(\"olympic_medalist.csv\")\n",
    "medal_2018 = pd.read_csv(\"pyeongchang_medal_2018.csv\")\n",
    "print('Data read into a pandas dataframe!')"
   ]
  },
  {
   "cell_type": "markdown",
   "id": "008d1500-89ed-47b3-8718-1b7d989caa68",
   "metadata": {},
   "source": [
    "Se empieza con un vistazo al medallero en los últimos Juegos Olímpicos en Pyeongchang (República de Corea) en 2018."
   ]
  },
  {
   "cell_type": "code",
   "execution_count": 3,
   "id": "2102783c-0a1c-468b-9ba6-0bff5c026008",
   "metadata": {},
   "outputs": [
    {
     "data": {
      "text/html": [
       "<div>\n",
       "<style scoped>\n",
       "    .dataframe tbody tr th:only-of-type {\n",
       "        vertical-align: middle;\n",
       "    }\n",
       "\n",
       "    .dataframe tbody tr th {\n",
       "        vertical-align: top;\n",
       "    }\n",
       "\n",
       "    .dataframe thead th {\n",
       "        text-align: right;\n",
       "    }\n",
       "</style>\n",
       "<table border=\"1\" class=\"dataframe\">\n",
       "  <thead>\n",
       "    <tr style=\"text-align: right;\">\n",
       "      <th></th>\n",
       "      <th>Rank</th>\n",
       "      <th>Country</th>\n",
       "      <th>NOC</th>\n",
       "      <th>Gold</th>\n",
       "      <th>Silver</th>\n",
       "      <th>Bronze</th>\n",
       "      <th>Total</th>\n",
       "    </tr>\n",
       "  </thead>\n",
       "  <tbody>\n",
       "    <tr>\n",
       "      <th>0</th>\n",
       "      <td>1</td>\n",
       "      <td>Norway</td>\n",
       "      <td>NOR</td>\n",
       "      <td>14</td>\n",
       "      <td>14</td>\n",
       "      <td>11</td>\n",
       "      <td>39</td>\n",
       "    </tr>\n",
       "    <tr>\n",
       "      <th>1</th>\n",
       "      <td>2</td>\n",
       "      <td>Germany</td>\n",
       "      <td>GER</td>\n",
       "      <td>14</td>\n",
       "      <td>10</td>\n",
       "      <td>7</td>\n",
       "      <td>31</td>\n",
       "    </tr>\n",
       "    <tr>\n",
       "      <th>2</th>\n",
       "      <td>3</td>\n",
       "      <td>Canada</td>\n",
       "      <td>CAN</td>\n",
       "      <td>11</td>\n",
       "      <td>8</td>\n",
       "      <td>10</td>\n",
       "      <td>29</td>\n",
       "    </tr>\n",
       "    <tr>\n",
       "      <th>3</th>\n",
       "      <td>4</td>\n",
       "      <td>United States of America</td>\n",
       "      <td>USA</td>\n",
       "      <td>9</td>\n",
       "      <td>8</td>\n",
       "      <td>6</td>\n",
       "      <td>23</td>\n",
       "    </tr>\n",
       "    <tr>\n",
       "      <th>4</th>\n",
       "      <td>5</td>\n",
       "      <td>Netherlands</td>\n",
       "      <td>NED</td>\n",
       "      <td>8</td>\n",
       "      <td>6</td>\n",
       "      <td>6</td>\n",
       "      <td>20</td>\n",
       "    </tr>\n",
       "    <tr>\n",
       "      <th>5</th>\n",
       "      <td>6</td>\n",
       "      <td>Sweden</td>\n",
       "      <td>SWE</td>\n",
       "      <td>7</td>\n",
       "      <td>6</td>\n",
       "      <td>1</td>\n",
       "      <td>14</td>\n",
       "    </tr>\n",
       "    <tr>\n",
       "      <th>6</th>\n",
       "      <td>7</td>\n",
       "      <td>South Korea</td>\n",
       "      <td>KOR</td>\n",
       "      <td>5</td>\n",
       "      <td>8</td>\n",
       "      <td>4</td>\n",
       "      <td>17</td>\n",
       "    </tr>\n",
       "    <tr>\n",
       "      <th>7</th>\n",
       "      <td>8</td>\n",
       "      <td>Switzerland</td>\n",
       "      <td>SUI</td>\n",
       "      <td>5</td>\n",
       "      <td>6</td>\n",
       "      <td>4</td>\n",
       "      <td>15</td>\n",
       "    </tr>\n",
       "    <tr>\n",
       "      <th>8</th>\n",
       "      <td>9</td>\n",
       "      <td>France</td>\n",
       "      <td>FRA</td>\n",
       "      <td>5</td>\n",
       "      <td>4</td>\n",
       "      <td>6</td>\n",
       "      <td>15</td>\n",
       "    </tr>\n",
       "    <tr>\n",
       "      <th>9</th>\n",
       "      <td>10</td>\n",
       "      <td>Austria</td>\n",
       "      <td>AUT</td>\n",
       "      <td>5</td>\n",
       "      <td>3</td>\n",
       "      <td>6</td>\n",
       "      <td>14</td>\n",
       "    </tr>\n",
       "    <tr>\n",
       "      <th>10</th>\n",
       "      <td>11</td>\n",
       "      <td>Japan</td>\n",
       "      <td>JPN</td>\n",
       "      <td>4</td>\n",
       "      <td>5</td>\n",
       "      <td>4</td>\n",
       "      <td>13</td>\n",
       "    </tr>\n",
       "    <tr>\n",
       "      <th>11</th>\n",
       "      <td>12</td>\n",
       "      <td>Italy</td>\n",
       "      <td>ITA</td>\n",
       "      <td>3</td>\n",
       "      <td>2</td>\n",
       "      <td>5</td>\n",
       "      <td>10</td>\n",
       "    </tr>\n",
       "    <tr>\n",
       "      <th>12</th>\n",
       "      <td>13</td>\n",
       "      <td>Russia</td>\n",
       "      <td>OAR</td>\n",
       "      <td>2</td>\n",
       "      <td>6</td>\n",
       "      <td>9</td>\n",
       "      <td>17</td>\n",
       "    </tr>\n",
       "    <tr>\n",
       "      <th>13</th>\n",
       "      <td>14</td>\n",
       "      <td>Czech Republic</td>\n",
       "      <td>CZE</td>\n",
       "      <td>2</td>\n",
       "      <td>2</td>\n",
       "      <td>3</td>\n",
       "      <td>7</td>\n",
       "    </tr>\n",
       "    <tr>\n",
       "      <th>14</th>\n",
       "      <td>15</td>\n",
       "      <td>Belarus</td>\n",
       "      <td>BLR</td>\n",
       "      <td>2</td>\n",
       "      <td>1</td>\n",
       "      <td>0</td>\n",
       "      <td>3</td>\n",
       "    </tr>\n",
       "    <tr>\n",
       "      <th>15</th>\n",
       "      <td>16</td>\n",
       "      <td>China</td>\n",
       "      <td>CHN</td>\n",
       "      <td>1</td>\n",
       "      <td>6</td>\n",
       "      <td>2</td>\n",
       "      <td>9</td>\n",
       "    </tr>\n",
       "    <tr>\n",
       "      <th>16</th>\n",
       "      <td>17</td>\n",
       "      <td>Slovakia</td>\n",
       "      <td>SVK</td>\n",
       "      <td>1</td>\n",
       "      <td>2</td>\n",
       "      <td>0</td>\n",
       "      <td>3</td>\n",
       "    </tr>\n",
       "    <tr>\n",
       "      <th>17</th>\n",
       "      <td>18</td>\n",
       "      <td>Finland</td>\n",
       "      <td>FIN</td>\n",
       "      <td>1</td>\n",
       "      <td>1</td>\n",
       "      <td>4</td>\n",
       "      <td>6</td>\n",
       "    </tr>\n",
       "    <tr>\n",
       "      <th>18</th>\n",
       "      <td>19</td>\n",
       "      <td>Great Britain</td>\n",
       "      <td>GBR</td>\n",
       "      <td>1</td>\n",
       "      <td>0</td>\n",
       "      <td>4</td>\n",
       "      <td>5</td>\n",
       "    </tr>\n",
       "    <tr>\n",
       "      <th>19</th>\n",
       "      <td>20</td>\n",
       "      <td>Poland</td>\n",
       "      <td>POL</td>\n",
       "      <td>1</td>\n",
       "      <td>0</td>\n",
       "      <td>1</td>\n",
       "      <td>2</td>\n",
       "    </tr>\n",
       "  </tbody>\n",
       "</table>\n",
       "</div>"
      ],
      "text/plain": [
       "    Rank                   Country  NOC  Gold  Silver  Bronze  Total\n",
       "0      1                    Norway  NOR    14      14      11     39\n",
       "1      2                   Germany  GER    14      10       7     31\n",
       "2      3                    Canada  CAN    11       8      10     29\n",
       "3      4  United States of America  USA     9       8       6     23\n",
       "4      5               Netherlands  NED     8       6       6     20\n",
       "5      6                    Sweden  SWE     7       6       1     14\n",
       "6      7               South Korea  KOR     5       8       4     17\n",
       "7      8               Switzerland  SUI     5       6       4     15\n",
       "8      9                    France  FRA     5       4       6     15\n",
       "9     10                   Austria  AUT     5       3       6     14\n",
       "10    11                     Japan  JPN     4       5       4     13\n",
       "11    12                     Italy  ITA     3       2       5     10\n",
       "12    13                    Russia  OAR     2       6       9     17\n",
       "13    14            Czech Republic  CZE     2       2       3      7\n",
       "14    15                   Belarus  BLR     2       1       0      3\n",
       "15    16                     China  CHN     1       6       2      9\n",
       "16    17                  Slovakia  SVK     1       2       0      3\n",
       "17    18                   Finland  FIN     1       1       4      6\n",
       "18    19             Great Britain  GBR     1       0       4      5\n",
       "19    20                    Poland  POL     1       0       1      2"
      ]
     },
     "execution_count": 3,
     "metadata": {},
     "output_type": "execute_result"
    }
   ],
   "source": [
    "medal_2018.head(20)"
   ]
  },
  {
   "cell_type": "markdown",
   "id": "a6ce918a-f56b-456c-a5a5-46e8e9a5de74",
   "metadata": {},
   "source": [
    "Ahora, se muestra el dataset de los atletas que participaron en los Juegos Olímpicos hasta 2014 (Invierno) y Rio 2016 (Verano)"
   ]
  },
  {
   "cell_type": "code",
   "execution_count": 4,
   "id": "c3a13534-5dad-48a3-bafb-3df4d0ac616f",
   "metadata": {},
   "outputs": [
    {
     "data": {
      "text/html": [
       "<div>\n",
       "<style scoped>\n",
       "    .dataframe tbody tr th:only-of-type {\n",
       "        vertical-align: middle;\n",
       "    }\n",
       "\n",
       "    .dataframe tbody tr th {\n",
       "        vertical-align: top;\n",
       "    }\n",
       "\n",
       "    .dataframe thead th {\n",
       "        text-align: right;\n",
       "    }\n",
       "</style>\n",
       "<table border=\"1\" class=\"dataframe\">\n",
       "  <thead>\n",
       "    <tr style=\"text-align: right;\">\n",
       "      <th></th>\n",
       "      <th>ID</th>\n",
       "      <th>Name</th>\n",
       "      <th>Sex</th>\n",
       "      <th>Age</th>\n",
       "      <th>Height</th>\n",
       "      <th>Weight</th>\n",
       "      <th>Team</th>\n",
       "      <th>NOC</th>\n",
       "      <th>Games</th>\n",
       "      <th>Year</th>\n",
       "      <th>Season</th>\n",
       "      <th>City</th>\n",
       "      <th>Sport</th>\n",
       "      <th>Event</th>\n",
       "      <th>Medal</th>\n",
       "      <th>region</th>\n",
       "      <th>notes</th>\n",
       "    </tr>\n",
       "  </thead>\n",
       "  <tbody>\n",
       "    <tr>\n",
       "      <th>0</th>\n",
       "      <td>1</td>\n",
       "      <td>A Dijiang</td>\n",
       "      <td>M</td>\n",
       "      <td>24.0</td>\n",
       "      <td>180.0</td>\n",
       "      <td>80.0</td>\n",
       "      <td>China</td>\n",
       "      <td>CHN</td>\n",
       "      <td>1992 Summer</td>\n",
       "      <td>1992</td>\n",
       "      <td>Summer</td>\n",
       "      <td>Barcelona</td>\n",
       "      <td>Basketball</td>\n",
       "      <td>Basketball Men's Basketball</td>\n",
       "      <td>NaN</td>\n",
       "      <td>China</td>\n",
       "      <td>NaN</td>\n",
       "    </tr>\n",
       "    <tr>\n",
       "      <th>1</th>\n",
       "      <td>2</td>\n",
       "      <td>A Lamusi</td>\n",
       "      <td>M</td>\n",
       "      <td>23.0</td>\n",
       "      <td>170.0</td>\n",
       "      <td>60.0</td>\n",
       "      <td>China</td>\n",
       "      <td>CHN</td>\n",
       "      <td>2012 Summer</td>\n",
       "      <td>2012</td>\n",
       "      <td>Summer</td>\n",
       "      <td>London</td>\n",
       "      <td>Judo</td>\n",
       "      <td>Judo Men's Extra-Lightweight</td>\n",
       "      <td>NaN</td>\n",
       "      <td>China</td>\n",
       "      <td>NaN</td>\n",
       "    </tr>\n",
       "  </tbody>\n",
       "</table>\n",
       "</div>"
      ],
      "text/plain": [
       "   ID       Name Sex   Age  Height  Weight   Team  NOC        Games  Year  \\\n",
       "0   1  A Dijiang   M  24.0   180.0    80.0  China  CHN  1992 Summer  1992   \n",
       "1   2   A Lamusi   M  23.0   170.0    60.0  China  CHN  2012 Summer  2012   \n",
       "\n",
       "   Season       City       Sport                         Event Medal region  \\\n",
       "0  Summer  Barcelona  Basketball   Basketball Men's Basketball   NaN  China   \n",
       "1  Summer     London        Judo  Judo Men's Extra-Lightweight   NaN  China   \n",
       "\n",
       "  notes  \n",
       "0   NaN  \n",
       "1   NaN  "
      ]
     },
     "execution_count": 4,
     "metadata": {},
     "output_type": "execute_result"
    }
   ],
   "source": [
    "df_athletes = athletes.merge(regions, how='left', on='NOC')\n",
    "df_athletes.head(2)"
   ]
  },
  {
   "cell_type": "code",
   "execution_count": 5,
   "id": "93468cc0-6ee2-408a-9109-24605413f908",
   "metadata": {},
   "outputs": [
    {
     "data": {
      "text/html": [
       "<div>\n",
       "<style scoped>\n",
       "    .dataframe tbody tr th:only-of-type {\n",
       "        vertical-align: middle;\n",
       "    }\n",
       "\n",
       "    .dataframe tbody tr th {\n",
       "        vertical-align: top;\n",
       "    }\n",
       "\n",
       "    .dataframe thead th {\n",
       "        text-align: right;\n",
       "    }\n",
       "</style>\n",
       "<table border=\"1\" class=\"dataframe\">\n",
       "  <thead>\n",
       "    <tr style=\"text-align: right;\">\n",
       "      <th></th>\n",
       "      <th>ID</th>\n",
       "      <th>Name</th>\n",
       "      <th>Sex</th>\n",
       "      <th>Age</th>\n",
       "      <th>Height</th>\n",
       "      <th>Weight</th>\n",
       "      <th>Team</th>\n",
       "      <th>NOC</th>\n",
       "      <th>Games</th>\n",
       "      <th>Year</th>\n",
       "      <th>Season</th>\n",
       "      <th>City</th>\n",
       "      <th>Sport</th>\n",
       "      <th>Event</th>\n",
       "      <th>Medal</th>\n",
       "      <th>Country</th>\n",
       "      <th>Notes</th>\n",
       "    </tr>\n",
       "  </thead>\n",
       "  <tbody>\n",
       "    <tr>\n",
       "      <th>0</th>\n",
       "      <td>1</td>\n",
       "      <td>A Dijiang</td>\n",
       "      <td>M</td>\n",
       "      <td>24.0</td>\n",
       "      <td>180.0</td>\n",
       "      <td>80.0</td>\n",
       "      <td>China</td>\n",
       "      <td>CHN</td>\n",
       "      <td>1992 Summer</td>\n",
       "      <td>1992</td>\n",
       "      <td>Summer</td>\n",
       "      <td>Barcelona</td>\n",
       "      <td>Basketball</td>\n",
       "      <td>Basketball Men's Basketball</td>\n",
       "      <td>NaN</td>\n",
       "      <td>China</td>\n",
       "      <td>NaN</td>\n",
       "    </tr>\n",
       "    <tr>\n",
       "      <th>1</th>\n",
       "      <td>2</td>\n",
       "      <td>A Lamusi</td>\n",
       "      <td>M</td>\n",
       "      <td>23.0</td>\n",
       "      <td>170.0</td>\n",
       "      <td>60.0</td>\n",
       "      <td>China</td>\n",
       "      <td>CHN</td>\n",
       "      <td>2012 Summer</td>\n",
       "      <td>2012</td>\n",
       "      <td>Summer</td>\n",
       "      <td>London</td>\n",
       "      <td>Judo</td>\n",
       "      <td>Judo Men's Extra-Lightweight</td>\n",
       "      <td>NaN</td>\n",
       "      <td>China</td>\n",
       "      <td>NaN</td>\n",
       "    </tr>\n",
       "  </tbody>\n",
       "</table>\n",
       "</div>"
      ],
      "text/plain": [
       "   ID       Name Sex   Age  Height  Weight   Team  NOC        Games  Year  \\\n",
       "0   1  A Dijiang   M  24.0   180.0    80.0  China  CHN  1992 Summer  1992   \n",
       "1   2   A Lamusi   M  23.0   170.0    60.0  China  CHN  2012 Summer  2012   \n",
       "\n",
       "   Season       City       Sport                         Event Medal Country  \\\n",
       "0  Summer  Barcelona  Basketball   Basketball Men's Basketball   NaN   China   \n",
       "1  Summer     London        Judo  Judo Men's Extra-Lightweight   NaN   China   \n",
       "\n",
       "  Notes  \n",
       "0   NaN  \n",
       "1   NaN  "
      ]
     },
     "execution_count": 5,
     "metadata": {},
     "output_type": "execute_result"
    }
   ],
   "source": [
    "df_athletes.rename(columns={'region':'Country','notes':'Notes'}, inplace=True)\n",
    "df_athletes.head(2)"
   ]
  },
  {
   "cell_type": "markdown",
   "id": "b1979afc-971d-46cc-b445-9dc9af0685fb",
   "metadata": {},
   "source": [
    "Antes de empezar a trabajar con el dataset de los Juegos Olímpicos, se debe hacer un pre-procesamiento de los datos. Esto consiste en cuantificar los valores nulos, y cómo manejar cada variable faltante."
   ]
  },
  {
   "cell_type": "markdown",
   "id": "d1049006-3316-4950-b39e-5119ff4b153a",
   "metadata": {},
   "source": [
    "**0. PRE-PROCESAMIENTO DEL DATAFRAME**"
   ]
  },
  {
   "cell_type": "markdown",
   "id": "b71b4f5a-c149-4f31-81b3-3e7e9e61fe81",
   "metadata": {},
   "source": [
    "En primera instancia, queremos saber cuántos valores nulos hay."
   ]
  },
  {
   "cell_type": "code",
   "execution_count": 6,
   "id": "961e504d-3033-41bf-87f5-430bdd7f51dd",
   "metadata": {},
   "outputs": [
    {
     "name": "stdout",
     "output_type": "stream",
     "text": [
      "ID\n",
      "False    271116\n",
      "Name: ID, dtype: int64\n",
      "\n",
      "Name\n",
      "False    271116\n",
      "Name: Name, dtype: int64\n",
      "\n",
      "Sex\n",
      "False    271116\n",
      "Name: Sex, dtype: int64\n",
      "\n",
      "Age\n",
      "False    261642\n",
      "True       9474\n",
      "Name: Age, dtype: int64\n",
      "\n",
      "Height\n",
      "False    210945\n",
      "True      60171\n",
      "Name: Height, dtype: int64\n",
      "\n",
      "Weight\n",
      "False    208241\n",
      "True      62875\n",
      "Name: Weight, dtype: int64\n",
      "\n",
      "Team\n",
      "False    271116\n",
      "Name: Team, dtype: int64\n",
      "\n",
      "NOC\n",
      "False    271116\n",
      "Name: NOC, dtype: int64\n",
      "\n",
      "Games\n",
      "False    271116\n",
      "Name: Games, dtype: int64\n",
      "\n",
      "Year\n",
      "False    271116\n",
      "Name: Year, dtype: int64\n",
      "\n",
      "Season\n",
      "False    271116\n",
      "Name: Season, dtype: int64\n",
      "\n",
      "City\n",
      "False    271116\n",
      "Name: City, dtype: int64\n",
      "\n",
      "Sport\n",
      "False    271116\n",
      "Name: Sport, dtype: int64\n",
      "\n",
      "Event\n",
      "False    271116\n",
      "Name: Event, dtype: int64\n",
      "\n",
      "Medal\n",
      "True     231333\n",
      "False     39783\n",
      "Name: Medal, dtype: int64\n",
      "\n",
      "Country\n",
      "False    271114\n",
      "True          2\n",
      "Name: Country, dtype: int64\n",
      "\n",
      "Notes\n",
      "True     266077\n",
      "False      5039\n",
      "Name: Notes, dtype: int64\n",
      "\n"
     ]
    }
   ],
   "source": [
    "missing_data = df_athletes.isnull()\n",
    "\n",
    "for column in missing_data.columns.values.tolist():\n",
    "    print(column)\n",
    "    print (missing_data[column].value_counts())\n",
    "    print(\"\")"
   ]
  },
  {
   "cell_type": "markdown",
   "id": "08dfc896-dc60-4f85-9d98-a4be77be51c4",
   "metadata": {},
   "source": [
    "Con base en el resumen de arriba, cada columna tiene 27116 filas de datos, cinco columnas contienen información faltante:\n",
    "\n",
    "<ol>\n",
    "    <li>\"Age\": 9474 datos faltantes</li>\n",
    "    <li>\"Height\": 60171 datos faltantes</li>\n",
    "    <li>\"Weight\": 62875 datos faltantes</li>\n",
    "    <li>\"Country\" : 2 datos faltantes</li>\n",
    "    <li>\"Notes\": 5039 datos faltantes</li>\n",
    "</ol>"
   ]
  },
  {
   "cell_type": "markdown",
   "id": "408ee2d2-cc14-433d-b4d3-2499e3dff99e",
   "metadata": {},
   "source": [
    "Los datos faltantes de Edad, Peso y Altura, se sustituirán por la media de los mismos. Por su parte hay que revisar los datos de Country y Notes para determinar si amerita una sustitución."
   ]
  },
  {
   "cell_type": "markdown",
   "id": "ee7f0004-bbe1-428d-95e5-86ad2561f9e3",
   "metadata": {},
   "source": [
    "**Calcular el promedio de las columnas Age, Height y Weight**"
   ]
  },
  {
   "cell_type": "code",
   "execution_count": 7,
   "id": "66985480-267b-42a3-8956-78df799c1e6b",
   "metadata": {},
   "outputs": [
    {
     "name": "stdout",
     "output_type": "stream",
     "text": [
      "Average of Age: 25.556898357297374\n"
     ]
    }
   ],
   "source": [
    "avg_age_loss = df_athletes[\"Age\"].astype(\"float\").mean(axis=0)\n",
    "print(\"Average of Age:\", avg_age_loss)\n",
    "\n",
    "df_athletes[\"Age\"].replace(np.nan, avg_age_loss, inplace=True)"
   ]
  },
  {
   "cell_type": "code",
   "execution_count": 8,
   "id": "3d35dde3-3333-4b22-8b08-0a0e8bb29650",
   "metadata": {},
   "outputs": [
    {
     "name": "stdout",
     "output_type": "stream",
     "text": [
      "Average of Height: 175.33896987366376\n"
     ]
    }
   ],
   "source": [
    "avg_height_loss = df_athletes[\"Height\"].astype(\"float\").mean(axis=0)\n",
    "print(\"Average of Height:\", avg_height_loss)\n",
    "\n",
    "df_athletes[\"Height\"].replace(np.nan, avg_height_loss, inplace=True)"
   ]
  },
  {
   "cell_type": "code",
   "execution_count": 9,
   "id": "8c87110b-1abd-40de-9888-4db1fddb0d2e",
   "metadata": {},
   "outputs": [
    {
     "name": "stdout",
     "output_type": "stream",
     "text": [
      "Average of Weight: 70.70239290053351\n"
     ]
    }
   ],
   "source": [
    "avg_weight_loss = df_athletes[\"Weight\"].astype(\"float\").mean(axis=0)\n",
    "print(\"Average of Weight:\", avg_weight_loss)\n",
    "\n",
    "df_athletes[\"Weight\"].replace(np.nan, avg_weight_loss, inplace=True)"
   ]
  },
  {
   "cell_type": "markdown",
   "id": "f689de29-0cfa-428e-8658-4125ca3560ea",
   "metadata": {},
   "source": [
    "Para el preprocesamiento, no se tomará en cuenta los valores faltantes en la columna Medal, ya que se creará un dataframe aparte que contenga todas las medallas ganadas por los países que han participado en los Juegos Olímpicos."
   ]
  },
  {
   "cell_type": "markdown",
   "id": "18bd698e-9972-43fd-8b4b-b7a7576c83a9",
   "metadata": {},
   "source": [
    "Antes de realizar este paso, se divide el dataset en dos: uno para los Juegos de Verano y otro para los Juegos Olímpicos de Invierno."
   ]
  },
  {
   "cell_type": "code",
   "execution_count": 10,
   "id": "a33e77f6-278b-49f3-8e54-981b1e1fc951",
   "metadata": {},
   "outputs": [
    {
     "data": {
      "text/html": [
       "<div>\n",
       "<style scoped>\n",
       "    .dataframe tbody tr th:only-of-type {\n",
       "        vertical-align: middle;\n",
       "    }\n",
       "\n",
       "    .dataframe tbody tr th {\n",
       "        vertical-align: top;\n",
       "    }\n",
       "\n",
       "    .dataframe thead th {\n",
       "        text-align: right;\n",
       "    }\n",
       "</style>\n",
       "<table border=\"1\" class=\"dataframe\">\n",
       "  <thead>\n",
       "    <tr style=\"text-align: right;\">\n",
       "      <th></th>\n",
       "      <th>ID</th>\n",
       "      <th>Name</th>\n",
       "      <th>Sex</th>\n",
       "      <th>Age</th>\n",
       "      <th>Height</th>\n",
       "      <th>Weight</th>\n",
       "      <th>Team</th>\n",
       "      <th>NOC</th>\n",
       "      <th>Games</th>\n",
       "      <th>Year</th>\n",
       "      <th>Season</th>\n",
       "      <th>City</th>\n",
       "      <th>Sport</th>\n",
       "      <th>Event</th>\n",
       "      <th>Medal</th>\n",
       "      <th>Country</th>\n",
       "      <th>Notes</th>\n",
       "    </tr>\n",
       "  </thead>\n",
       "  <tbody>\n",
       "    <tr>\n",
       "      <th>4</th>\n",
       "      <td>5</td>\n",
       "      <td>Christine Jacoba Aaftink</td>\n",
       "      <td>F</td>\n",
       "      <td>21.0</td>\n",
       "      <td>185.0</td>\n",
       "      <td>82.0</td>\n",
       "      <td>Netherlands</td>\n",
       "      <td>NED</td>\n",
       "      <td>1988 Winter</td>\n",
       "      <td>1988</td>\n",
       "      <td>Winter</td>\n",
       "      <td>Calgary</td>\n",
       "      <td>Speed Skating</td>\n",
       "      <td>Speed Skating Women's 500 metres</td>\n",
       "      <td>NaN</td>\n",
       "      <td>Netherlands</td>\n",
       "      <td>NaN</td>\n",
       "    </tr>\n",
       "    <tr>\n",
       "      <th>5</th>\n",
       "      <td>5</td>\n",
       "      <td>Christine Jacoba Aaftink</td>\n",
       "      <td>F</td>\n",
       "      <td>21.0</td>\n",
       "      <td>185.0</td>\n",
       "      <td>82.0</td>\n",
       "      <td>Netherlands</td>\n",
       "      <td>NED</td>\n",
       "      <td>1988 Winter</td>\n",
       "      <td>1988</td>\n",
       "      <td>Winter</td>\n",
       "      <td>Calgary</td>\n",
       "      <td>Speed Skating</td>\n",
       "      <td>Speed Skating Women's 1,000 metres</td>\n",
       "      <td>NaN</td>\n",
       "      <td>Netherlands</td>\n",
       "      <td>NaN</td>\n",
       "    </tr>\n",
       "  </tbody>\n",
       "</table>\n",
       "</div>"
      ],
      "text/plain": [
       "   ID                      Name Sex   Age  Height  Weight         Team  NOC  \\\n",
       "4   5  Christine Jacoba Aaftink   F  21.0   185.0    82.0  Netherlands  NED   \n",
       "5   5  Christine Jacoba Aaftink   F  21.0   185.0    82.0  Netherlands  NED   \n",
       "\n",
       "         Games  Year  Season     City          Sport  \\\n",
       "4  1988 Winter  1988  Winter  Calgary  Speed Skating   \n",
       "5  1988 Winter  1988  Winter  Calgary  Speed Skating   \n",
       "\n",
       "                                Event Medal      Country Notes  \n",
       "4    Speed Skating Women's 500 metres   NaN  Netherlands   NaN  \n",
       "5  Speed Skating Women's 1,000 metres   NaN  Netherlands   NaN  "
      ]
     },
     "execution_count": 10,
     "metadata": {},
     "output_type": "execute_result"
    }
   ],
   "source": [
    "df_winter = df_athletes[df_athletes['Season']=='Winter']\n",
    "df_winter.head(2)"
   ]
  },
  {
   "cell_type": "code",
   "execution_count": 11,
   "id": "ca6346c9-6025-429e-9eeb-fbebc87e6ba7",
   "metadata": {},
   "outputs": [
    {
     "data": {
      "text/html": [
       "<div>\n",
       "<style scoped>\n",
       "    .dataframe tbody tr th:only-of-type {\n",
       "        vertical-align: middle;\n",
       "    }\n",
       "\n",
       "    .dataframe tbody tr th {\n",
       "        vertical-align: top;\n",
       "    }\n",
       "\n",
       "    .dataframe thead th {\n",
       "        text-align: right;\n",
       "    }\n",
       "</style>\n",
       "<table border=\"1\" class=\"dataframe\">\n",
       "  <thead>\n",
       "    <tr style=\"text-align: right;\">\n",
       "      <th></th>\n",
       "      <th>ID</th>\n",
       "      <th>Name</th>\n",
       "      <th>Sex</th>\n",
       "      <th>Age</th>\n",
       "      <th>Height</th>\n",
       "      <th>Weight</th>\n",
       "      <th>Team</th>\n",
       "      <th>NOC</th>\n",
       "      <th>Games</th>\n",
       "      <th>Year</th>\n",
       "      <th>Season</th>\n",
       "      <th>City</th>\n",
       "      <th>Sport</th>\n",
       "      <th>Event</th>\n",
       "      <th>Medal</th>\n",
       "      <th>Country</th>\n",
       "      <th>Notes</th>\n",
       "    </tr>\n",
       "  </thead>\n",
       "  <tbody>\n",
       "    <tr>\n",
       "      <th>0</th>\n",
       "      <td>1</td>\n",
       "      <td>A Dijiang</td>\n",
       "      <td>M</td>\n",
       "      <td>24.0</td>\n",
       "      <td>180.0</td>\n",
       "      <td>80.0</td>\n",
       "      <td>China</td>\n",
       "      <td>CHN</td>\n",
       "      <td>1992 Summer</td>\n",
       "      <td>1992</td>\n",
       "      <td>Summer</td>\n",
       "      <td>Barcelona</td>\n",
       "      <td>Basketball</td>\n",
       "      <td>Basketball Men's Basketball</td>\n",
       "      <td>NaN</td>\n",
       "      <td>China</td>\n",
       "      <td>NaN</td>\n",
       "    </tr>\n",
       "    <tr>\n",
       "      <th>1</th>\n",
       "      <td>2</td>\n",
       "      <td>A Lamusi</td>\n",
       "      <td>M</td>\n",
       "      <td>23.0</td>\n",
       "      <td>170.0</td>\n",
       "      <td>60.0</td>\n",
       "      <td>China</td>\n",
       "      <td>CHN</td>\n",
       "      <td>2012 Summer</td>\n",
       "      <td>2012</td>\n",
       "      <td>Summer</td>\n",
       "      <td>London</td>\n",
       "      <td>Judo</td>\n",
       "      <td>Judo Men's Extra-Lightweight</td>\n",
       "      <td>NaN</td>\n",
       "      <td>China</td>\n",
       "      <td>NaN</td>\n",
       "    </tr>\n",
       "  </tbody>\n",
       "</table>\n",
       "</div>"
      ],
      "text/plain": [
       "   ID       Name Sex   Age  Height  Weight   Team  NOC        Games  Year  \\\n",
       "0   1  A Dijiang   M  24.0   180.0    80.0  China  CHN  1992 Summer  1992   \n",
       "1   2   A Lamusi   M  23.0   170.0    60.0  China  CHN  2012 Summer  2012   \n",
       "\n",
       "   Season       City       Sport                         Event Medal Country  \\\n",
       "0  Summer  Barcelona  Basketball   Basketball Men's Basketball   NaN   China   \n",
       "1  Summer     London        Judo  Judo Men's Extra-Lightweight   NaN   China   \n",
       "\n",
       "  Notes  \n",
       "0   NaN  \n",
       "1   NaN  "
      ]
     },
     "execution_count": 11,
     "metadata": {},
     "output_type": "execute_result"
    }
   ],
   "source": [
    "df_summer = df_athletes[df_athletes['Season']=='Summer']\n",
    "df_summer.head(2)"
   ]
  },
  {
   "cell_type": "markdown",
   "id": "e972b759-afcd-4c3c-b191-3e0c511d2c0e",
   "metadata": {},
   "source": [
    "Luego de la separación de los dataframes, se depura los atletas que no ganaron medallas en WOG y SOG."
   ]
  },
  {
   "cell_type": "code",
   "execution_count": 12,
   "id": "869d78c2-df16-4a42-985b-1d6b3e6e8f85",
   "metadata": {},
   "outputs": [
    {
     "data": {
      "text/plain": [
       "Index(['Season'], dtype='object')"
      ]
     },
     "execution_count": 12,
     "metadata": {},
     "output_type": "execute_result"
    }
   ],
   "source": [
    "# elimina toda la fila con NaN en la columna \"Medal\"\n",
    "athletesSummer = df_summer.dropna(subset=['Medal'])\n",
    "athletesSummer.columns[athletesSummer.nunique() <= 1]"
   ]
  },
  {
   "cell_type": "code",
   "execution_count": 13,
   "id": "db849429-c9e5-45d5-8d3e-b27685d02260",
   "metadata": {},
   "outputs": [
    {
     "data": {
      "text/plain": [
       "Index(['Season', 'Notes'], dtype='object')"
      ]
     },
     "execution_count": 13,
     "metadata": {},
     "output_type": "execute_result"
    }
   ],
   "source": [
    "# elimina toda la fila con NaN en la columna \"Medal\"\n",
    "athletesWinter = df_winter.dropna(subset=['Medal'])\n",
    "athletesWinter.columns[athletesWinter.nunique() <= 1]"
   ]
  },
  {
   "cell_type": "markdown",
   "id": "c66d6f08-9d1e-42d1-83c8-7fc087400125",
   "metadata": {},
   "source": [
    "Ahora, se procederá a eliminar las medallas duplicadas. Esto aplica principalmente en los deportes de conjunto (Como Hockey sobre Hielo) ya que las medallas se otorgan al país ganador mientras que en el dataset, cada jugador de Hockey (siguiendo con el ejemplo) suma medalla y, a la larga, aumenta artificialmente la cantidad de preseas ganadas en los WOG y SOG."
   ]
  },
  {
   "cell_type": "code",
   "execution_count": 14,
   "id": "96d20422-b44f-4379-a2af-fd7c421d2d68",
   "metadata": {},
   "outputs": [
    {
     "data": {
      "text/html": [
       "<div>\n",
       "<style scoped>\n",
       "    .dataframe tbody tr th:only-of-type {\n",
       "        vertical-align: middle;\n",
       "    }\n",
       "\n",
       "    .dataframe tbody tr th {\n",
       "        vertical-align: top;\n",
       "    }\n",
       "\n",
       "    .dataframe thead th {\n",
       "        text-align: right;\n",
       "    }\n",
       "</style>\n",
       "<table border=\"1\" class=\"dataframe\">\n",
       "  <thead>\n",
       "    <tr style=\"text-align: right;\">\n",
       "      <th></th>\n",
       "      <th>Bronze</th>\n",
       "      <th>Gold</th>\n",
       "      <th>Silver</th>\n",
       "    </tr>\n",
       "  </thead>\n",
       "  <tbody>\n",
       "    <tr>\n",
       "      <th>40</th>\n",
       "      <td>1</td>\n",
       "      <td>0</td>\n",
       "      <td>0</td>\n",
       "    </tr>\n",
       "    <tr>\n",
       "      <th>60</th>\n",
       "      <td>0</td>\n",
       "      <td>1</td>\n",
       "      <td>0</td>\n",
       "    </tr>\n",
       "    <tr>\n",
       "      <th>61</th>\n",
       "      <td>1</td>\n",
       "      <td>0</td>\n",
       "      <td>0</td>\n",
       "    </tr>\n",
       "    <tr>\n",
       "      <th>63</th>\n",
       "      <td>0</td>\n",
       "      <td>0</td>\n",
       "      <td>1</td>\n",
       "    </tr>\n",
       "    <tr>\n",
       "      <th>64</th>\n",
       "      <td>1</td>\n",
       "      <td>0</td>\n",
       "      <td>0</td>\n",
       "    </tr>\n",
       "    <tr>\n",
       "      <th>...</th>\n",
       "      <td>...</td>\n",
       "      <td>...</td>\n",
       "      <td>...</td>\n",
       "    </tr>\n",
       "    <tr>\n",
       "      <th>270641</th>\n",
       "      <td>0</td>\n",
       "      <td>1</td>\n",
       "      <td>0</td>\n",
       "    </tr>\n",
       "    <tr>\n",
       "      <th>270827</th>\n",
       "      <td>0</td>\n",
       "      <td>0</td>\n",
       "      <td>1</td>\n",
       "    </tr>\n",
       "    <tr>\n",
       "      <th>270876</th>\n",
       "      <td>0</td>\n",
       "      <td>1</td>\n",
       "      <td>0</td>\n",
       "    </tr>\n",
       "    <tr>\n",
       "      <th>270878</th>\n",
       "      <td>1</td>\n",
       "      <td>0</td>\n",
       "      <td>0</td>\n",
       "    </tr>\n",
       "    <tr>\n",
       "      <th>270886</th>\n",
       "      <td>1</td>\n",
       "      <td>0</td>\n",
       "      <td>0</td>\n",
       "    </tr>\n",
       "  </tbody>\n",
       "</table>\n",
       "<p>5695 rows × 3 columns</p>\n",
       "</div>"
      ],
      "text/plain": [
       "        Bronze  Gold  Silver\n",
       "40           1     0       0\n",
       "60           0     1       0\n",
       "61           1     0       0\n",
       "63           0     0       1\n",
       "64           1     0       0\n",
       "...        ...   ...     ...\n",
       "270641       0     1       0\n",
       "270827       0     0       1\n",
       "270876       0     1       0\n",
       "270878       1     0       0\n",
       "270886       1     0       0\n",
       "\n",
       "[5695 rows x 3 columns]"
      ]
     },
     "execution_count": 14,
     "metadata": {},
     "output_type": "execute_result"
    }
   ],
   "source": [
    "pd.get_dummies(athletesSummer['Medal'])\n",
    "pd.get_dummies(athletesWinter['Medal'])"
   ]
  },
  {
   "cell_type": "code",
   "execution_count": 15,
   "id": "f3b86b01-373d-4f77-846e-e319557db9d9",
   "metadata": {},
   "outputs": [
    {
     "data": {
      "text/plain": [
       "0"
      ]
     },
     "execution_count": 15,
     "metadata": {},
     "output_type": "execute_result"
    }
   ],
   "source": [
    "athletesSummer.duplicated().sum()\n",
    "athletesWinter.duplicated().sum()"
   ]
  },
  {
   "cell_type": "code",
   "execution_count": 16,
   "id": "7a564f8d-4511-4f9c-a12f-816402f58b49",
   "metadata": {},
   "outputs": [],
   "source": [
    "athletesSummer.drop_duplicates(inplace=True)\n",
    "athletesWinter.drop_duplicates(inplace=True)"
   ]
  },
  {
   "cell_type": "code",
   "execution_count": 17,
   "id": "4788f388-8474-4257-b0e5-835958d7b849",
   "metadata": {},
   "outputs": [
    {
     "data": {
      "text/html": [
       "<div>\n",
       "<style scoped>\n",
       "    .dataframe tbody tr th:only-of-type {\n",
       "        vertical-align: middle;\n",
       "    }\n",
       "\n",
       "    .dataframe tbody tr th {\n",
       "        vertical-align: top;\n",
       "    }\n",
       "\n",
       "    .dataframe thead th {\n",
       "        text-align: right;\n",
       "    }\n",
       "</style>\n",
       "<table border=\"1\" class=\"dataframe\">\n",
       "  <thead>\n",
       "    <tr style=\"text-align: right;\">\n",
       "      <th></th>\n",
       "      <th>Bronze</th>\n",
       "      <th>Gold</th>\n",
       "      <th>Silver</th>\n",
       "    </tr>\n",
       "  </thead>\n",
       "  <tbody>\n",
       "    <tr>\n",
       "      <th>40</th>\n",
       "      <td>1</td>\n",
       "      <td>0</td>\n",
       "      <td>0</td>\n",
       "    </tr>\n",
       "    <tr>\n",
       "      <th>60</th>\n",
       "      <td>0</td>\n",
       "      <td>1</td>\n",
       "      <td>0</td>\n",
       "    </tr>\n",
       "    <tr>\n",
       "      <th>61</th>\n",
       "      <td>1</td>\n",
       "      <td>0</td>\n",
       "      <td>0</td>\n",
       "    </tr>\n",
       "    <tr>\n",
       "      <th>63</th>\n",
       "      <td>0</td>\n",
       "      <td>0</td>\n",
       "      <td>1</td>\n",
       "    </tr>\n",
       "    <tr>\n",
       "      <th>64</th>\n",
       "      <td>1</td>\n",
       "      <td>0</td>\n",
       "      <td>0</td>\n",
       "    </tr>\n",
       "    <tr>\n",
       "      <th>...</th>\n",
       "      <td>...</td>\n",
       "      <td>...</td>\n",
       "      <td>...</td>\n",
       "    </tr>\n",
       "    <tr>\n",
       "      <th>270641</th>\n",
       "      <td>0</td>\n",
       "      <td>1</td>\n",
       "      <td>0</td>\n",
       "    </tr>\n",
       "    <tr>\n",
       "      <th>270827</th>\n",
       "      <td>0</td>\n",
       "      <td>0</td>\n",
       "      <td>1</td>\n",
       "    </tr>\n",
       "    <tr>\n",
       "      <th>270876</th>\n",
       "      <td>0</td>\n",
       "      <td>1</td>\n",
       "      <td>0</td>\n",
       "    </tr>\n",
       "    <tr>\n",
       "      <th>270878</th>\n",
       "      <td>1</td>\n",
       "      <td>0</td>\n",
       "      <td>0</td>\n",
       "    </tr>\n",
       "    <tr>\n",
       "      <th>270886</th>\n",
       "      <td>1</td>\n",
       "      <td>0</td>\n",
       "      <td>0</td>\n",
       "    </tr>\n",
       "  </tbody>\n",
       "</table>\n",
       "<p>5695 rows × 3 columns</p>\n",
       "</div>"
      ],
      "text/plain": [
       "        Bronze  Gold  Silver\n",
       "40           1     0       0\n",
       "60           0     1       0\n",
       "61           1     0       0\n",
       "63           0     0       1\n",
       "64           1     0       0\n",
       "...        ...   ...     ...\n",
       "270641       0     1       0\n",
       "270827       0     0       1\n",
       "270876       0     1       0\n",
       "270878       1     0       0\n",
       "270886       1     0       0\n",
       "\n",
       "[5695 rows x 3 columns]"
      ]
     },
     "execution_count": 17,
     "metadata": {},
     "output_type": "execute_result"
    }
   ],
   "source": [
    "pd.get_dummies(athletesSummer['Medal'])\n",
    "pd.get_dummies(athletesWinter['Medal'])"
   ]
  },
  {
   "cell_type": "code",
   "execution_count": 18,
   "id": "524ce23c-ed04-438c-9b69-d7ac6b2cdb8f",
   "metadata": {},
   "outputs": [
    {
     "data": {
      "text/html": [
       "<div>\n",
       "<style scoped>\n",
       "    .dataframe tbody tr th:only-of-type {\n",
       "        vertical-align: middle;\n",
       "    }\n",
       "\n",
       "    .dataframe tbody tr th {\n",
       "        vertical-align: top;\n",
       "    }\n",
       "\n",
       "    .dataframe thead th {\n",
       "        text-align: right;\n",
       "    }\n",
       "</style>\n",
       "<table border=\"1\" class=\"dataframe\">\n",
       "  <thead>\n",
       "    <tr style=\"text-align: right;\">\n",
       "      <th></th>\n",
       "      <th>ID</th>\n",
       "      <th>Name</th>\n",
       "      <th>Sex</th>\n",
       "      <th>Age</th>\n",
       "      <th>Height</th>\n",
       "      <th>Weight</th>\n",
       "      <th>Team</th>\n",
       "      <th>NOC</th>\n",
       "      <th>Games</th>\n",
       "      <th>Year</th>\n",
       "      <th>Season</th>\n",
       "      <th>City</th>\n",
       "      <th>Sport</th>\n",
       "      <th>Event</th>\n",
       "      <th>Medal</th>\n",
       "      <th>Country</th>\n",
       "      <th>Notes</th>\n",
       "      <th>Bronze</th>\n",
       "      <th>Gold</th>\n",
       "      <th>Silver</th>\n",
       "    </tr>\n",
       "  </thead>\n",
       "  <tbody>\n",
       "    <tr>\n",
       "      <th>3</th>\n",
       "      <td>4</td>\n",
       "      <td>Edgar Lindenau Aabye</td>\n",
       "      <td>M</td>\n",
       "      <td>34.0</td>\n",
       "      <td>175.33897</td>\n",
       "      <td>70.702393</td>\n",
       "      <td>Denmark/Sweden</td>\n",
       "      <td>DEN</td>\n",
       "      <td>1900 Summer</td>\n",
       "      <td>1900</td>\n",
       "      <td>Summer</td>\n",
       "      <td>Paris</td>\n",
       "      <td>Tug-Of-War</td>\n",
       "      <td>Tug-Of-War Men's Tug-Of-War</td>\n",
       "      <td>Gold</td>\n",
       "      <td>Denmark</td>\n",
       "      <td>NaN</td>\n",
       "      <td>0</td>\n",
       "      <td>1</td>\n",
       "      <td>0</td>\n",
       "    </tr>\n",
       "    <tr>\n",
       "      <th>37</th>\n",
       "      <td>15</td>\n",
       "      <td>Arvo Ossian Aaltonen</td>\n",
       "      <td>M</td>\n",
       "      <td>30.0</td>\n",
       "      <td>175.33897</td>\n",
       "      <td>70.702393</td>\n",
       "      <td>Finland</td>\n",
       "      <td>FIN</td>\n",
       "      <td>1920 Summer</td>\n",
       "      <td>1920</td>\n",
       "      <td>Summer</td>\n",
       "      <td>Antwerpen</td>\n",
       "      <td>Swimming</td>\n",
       "      <td>Swimming Men's 200 metres Breaststroke</td>\n",
       "      <td>Bronze</td>\n",
       "      <td>Finland</td>\n",
       "      <td>NaN</td>\n",
       "      <td>1</td>\n",
       "      <td>0</td>\n",
       "      <td>0</td>\n",
       "    </tr>\n",
       "  </tbody>\n",
       "</table>\n",
       "</div>"
      ],
      "text/plain": [
       "    ID                  Name Sex   Age     Height     Weight            Team  \\\n",
       "3    4  Edgar Lindenau Aabye   M  34.0  175.33897  70.702393  Denmark/Sweden   \n",
       "37  15  Arvo Ossian Aaltonen   M  30.0  175.33897  70.702393         Finland   \n",
       "\n",
       "    NOC        Games  Year  Season       City       Sport  \\\n",
       "3   DEN  1900 Summer  1900  Summer      Paris  Tug-Of-War   \n",
       "37  FIN  1920 Summer  1920  Summer  Antwerpen    Swimming   \n",
       "\n",
       "                                     Event   Medal  Country Notes  Bronze  \\\n",
       "3              Tug-Of-War Men's Tug-Of-War    Gold  Denmark   NaN       0   \n",
       "37  Swimming Men's 200 metres Breaststroke  Bronze  Finland   NaN       1   \n",
       "\n",
       "    Gold  Silver  \n",
       "3      1       0  \n",
       "37     0       0  "
      ]
     },
     "execution_count": 18,
     "metadata": {},
     "output_type": "execute_result"
    }
   ],
   "source": [
    "summer = pd.concat([athletesSummer,pd.get_dummies(athletesSummer['Medal'])],axis=1)\n",
    "#winter.head(2)\n",
    "winter = pd.concat([athletesWinter,pd.get_dummies(athletesWinter['Medal'])],axis=1)\n",
    "summer.head(2)"
   ]
  },
  {
   "cell_type": "code",
   "execution_count": 19,
   "id": "dd8416ca-8546-4bd1-9b8f-59902dea5380",
   "metadata": {},
   "outputs": [
    {
     "name": "stdout",
     "output_type": "stream",
     "text": [
      "<class 'pandas.core.frame.DataFrame'>\n",
      "Int64Index: 271116 entries, 0 to 271115\n",
      "Data columns (total 17 columns):\n",
      " #   Column   Non-Null Count   Dtype  \n",
      "---  ------   --------------   -----  \n",
      " 0   ID       271116 non-null  int64  \n",
      " 1   Name     271116 non-null  object \n",
      " 2   Sex      271116 non-null  object \n",
      " 3   Age      271116 non-null  float64\n",
      " 4   Height   271116 non-null  float64\n",
      " 5   Weight   271116 non-null  float64\n",
      " 6   Team     271116 non-null  object \n",
      " 7   NOC      271116 non-null  object \n",
      " 8   Games    271116 non-null  object \n",
      " 9   Year     271116 non-null  int64  \n",
      " 10  Season   271116 non-null  object \n",
      " 11  City     271116 non-null  object \n",
      " 12  Sport    271116 non-null  object \n",
      " 13  Event    271116 non-null  object \n",
      " 14  Medal    39783 non-null   object \n",
      " 15  Country  271114 non-null  object \n",
      " 16  Notes    5039 non-null    object \n",
      "dtypes: float64(3), int64(2), object(12)\n",
      "memory usage: 37.2+ MB\n"
     ]
    }
   ],
   "source": [
    "df_athletes.info()"
   ]
  },
  {
   "cell_type": "code",
   "execution_count": 20,
   "id": "ae3c3b16-6b06-4ab0-ac60-edf07630a3cc",
   "metadata": {},
   "outputs": [
    {
     "name": "stdout",
     "output_type": "stream",
     "text": [
      "<class 'pandas.core.frame.DataFrame'>\n",
      "Int64Index: 48564 entries, 4 to 271115\n",
      "Data columns (total 17 columns):\n",
      " #   Column   Non-Null Count  Dtype  \n",
      "---  ------   --------------  -----  \n",
      " 0   ID       48564 non-null  int64  \n",
      " 1   Name     48564 non-null  object \n",
      " 2   Sex      48564 non-null  object \n",
      " 3   Age      48564 non-null  float64\n",
      " 4   Height   48564 non-null  float64\n",
      " 5   Weight   48564 non-null  float64\n",
      " 6   Team     48564 non-null  object \n",
      " 7   NOC      48564 non-null  object \n",
      " 8   Games    48564 non-null  object \n",
      " 9   Year     48564 non-null  int64  \n",
      " 10  Season   48564 non-null  object \n",
      " 11  City     48564 non-null  object \n",
      " 12  Sport    48564 non-null  object \n",
      " 13  Event    48564 non-null  object \n",
      " 14  Medal    5695 non-null   object \n",
      " 15  Country  48564 non-null  object \n",
      " 16  Notes    638 non-null    object \n",
      "dtypes: float64(3), int64(2), object(12)\n",
      "memory usage: 6.7+ MB\n"
     ]
    }
   ],
   "source": [
    "df_winter.info()"
   ]
  },
  {
   "cell_type": "code",
   "execution_count": 21,
   "id": "009c82e2-819c-4366-86b4-058e18d7e9d4",
   "metadata": {},
   "outputs": [
    {
     "name": "stdout",
     "output_type": "stream",
     "text": [
      "<class 'pandas.core.frame.DataFrame'>\n",
      "Int64Index: 5695 entries, 40 to 270886\n",
      "Data columns (total 17 columns):\n",
      " #   Column   Non-Null Count  Dtype  \n",
      "---  ------   --------------  -----  \n",
      " 0   ID       5695 non-null   int64  \n",
      " 1   Name     5695 non-null   object \n",
      " 2   Sex      5695 non-null   object \n",
      " 3   Age      5695 non-null   float64\n",
      " 4   Height   5695 non-null   float64\n",
      " 5   Weight   5695 non-null   float64\n",
      " 6   Team     5695 non-null   object \n",
      " 7   NOC      5695 non-null   object \n",
      " 8   Games    5695 non-null   object \n",
      " 9   Year     5695 non-null   int64  \n",
      " 10  Season   5695 non-null   object \n",
      " 11  City     5695 non-null   object \n",
      " 12  Sport    5695 non-null   object \n",
      " 13  Event    5695 non-null   object \n",
      " 14  Medal    5695 non-null   object \n",
      " 15  Country  5695 non-null   object \n",
      " 16  Notes    7 non-null      object \n",
      "dtypes: float64(3), int64(2), object(12)\n",
      "memory usage: 800.9+ KB\n"
     ]
    }
   ],
   "source": [
    "athletesWinter.info()"
   ]
  },
  {
   "cell_type": "code",
   "execution_count": 22,
   "id": "5610f96d-f89c-4af7-ba93-032656fe06aa",
   "metadata": {},
   "outputs": [
    {
     "name": "stdout",
     "output_type": "stream",
     "text": [
      "<class 'pandas.core.frame.DataFrame'>\n",
      "Int64Index: 5695 entries, 40 to 270886\n",
      "Data columns (total 20 columns):\n",
      " #   Column   Non-Null Count  Dtype  \n",
      "---  ------   --------------  -----  \n",
      " 0   ID       5695 non-null   int64  \n",
      " 1   Name     5695 non-null   object \n",
      " 2   Sex      5695 non-null   object \n",
      " 3   Age      5695 non-null   float64\n",
      " 4   Height   5695 non-null   float64\n",
      " 5   Weight   5695 non-null   float64\n",
      " 6   Team     5695 non-null   object \n",
      " 7   NOC      5695 non-null   object \n",
      " 8   Games    5695 non-null   object \n",
      " 9   Year     5695 non-null   int64  \n",
      " 10  Season   5695 non-null   object \n",
      " 11  City     5695 non-null   object \n",
      " 12  Sport    5695 non-null   object \n",
      " 13  Event    5695 non-null   object \n",
      " 14  Medal    5695 non-null   object \n",
      " 15  Country  5695 non-null   object \n",
      " 16  Notes    7 non-null      object \n",
      " 17  Bronze   5695 non-null   uint8  \n",
      " 18  Gold     5695 non-null   uint8  \n",
      " 19  Silver   5695 non-null   uint8  \n",
      "dtypes: float64(3), int64(2), object(12), uint8(3)\n",
      "memory usage: 817.5+ KB\n"
     ]
    }
   ],
   "source": [
    "winter.info()"
   ]
  },
  {
   "cell_type": "markdown",
   "id": "0704dd52-d53c-4ef6-80d9-fb3dc7a9ef3e",
   "metadata": {},
   "source": [
    "Se valida los deportes que están en el programa de los WOG y SOG."
   ]
  },
  {
   "cell_type": "code",
   "execution_count": 23,
   "id": "d7efaf23-595d-4f9b-ae9a-6135b98d9331",
   "metadata": {},
   "outputs": [
    {
     "data": {
      "text/plain": [
       "array(['Speed Skating', 'Cross Country Skiing', 'Ice Hockey', 'Biathlon',\n",
       "       'Alpine Skiing', 'Luge', 'Bobsleigh', 'Figure Skating',\n",
       "       'Nordic Combined', 'Freestyle Skiing', 'Ski Jumping', 'Curling',\n",
       "       'Snowboarding', 'Short Track Speed Skating', 'Skeleton',\n",
       "       'Military Ski Patrol', 'Alpinism'], dtype=object)"
      ]
     },
     "execution_count": 23,
     "metadata": {},
     "output_type": "execute_result"
    }
   ],
   "source": [
    "winter_sport = df_winter[df_winter.Season=='Winter'].Sport.unique()\n",
    "winter_sport"
   ]
  },
  {
   "cell_type": "code",
   "execution_count": 24,
   "id": "aeb77757-d5d4-49c3-908c-facf4e0d3f22",
   "metadata": {},
   "outputs": [
    {
     "data": {
      "text/plain": [
       "array(['Basketball', 'Judo', 'Football', 'Tug-Of-War', 'Athletics',\n",
       "       'Swimming', 'Badminton', 'Sailing', 'Gymnastics',\n",
       "       'Art Competitions', 'Handball', 'Weightlifting', 'Wrestling',\n",
       "       'Water Polo', 'Hockey', 'Rowing', 'Fencing', 'Equestrianism',\n",
       "       'Shooting', 'Boxing', 'Taekwondo', 'Cycling', 'Diving', 'Canoeing',\n",
       "       'Tennis', 'Modern Pentathlon', 'Golf', 'Softball', 'Archery',\n",
       "       'Volleyball', 'Synchronized Swimming', 'Table Tennis', 'Baseball',\n",
       "       'Rhythmic Gymnastics', 'Rugby Sevens', 'Trampolining',\n",
       "       'Beach Volleyball', 'Triathlon', 'Rugby', 'Lacrosse', 'Polo',\n",
       "       'Cricket', 'Ice Hockey', 'Racquets', 'Motorboating', 'Croquet',\n",
       "       'Figure Skating', 'Jeu De Paume', 'Roque', 'Basque Pelota',\n",
       "       'Alpinism', 'Aeronautics'], dtype=object)"
      ]
     },
     "execution_count": 24,
     "metadata": {},
     "output_type": "execute_result"
    }
   ],
   "source": [
    "summer_sport = df_summer[df_summer.Season=='Summer'].Sport.unique()\n",
    "summer_sport"
   ]
  },
  {
   "cell_type": "markdown",
   "id": "fc4cfcb5-0311-405d-99f9-52ae5ebb11ea",
   "metadata": {},
   "source": [
    "Se crea un dataset que tome en consideración las medallas ganadas por país. "
   ]
  },
  {
   "cell_type": "code",
   "execution_count": 25,
   "id": "16d9622c-eeb6-428a-ba81-0b9b7b8351e8",
   "metadata": {},
   "outputs": [
    {
     "data": {
      "text/html": [
       "<div>\n",
       "<style scoped>\n",
       "    .dataframe tbody tr th:only-of-type {\n",
       "        vertical-align: middle;\n",
       "    }\n",
       "\n",
       "    .dataframe tbody tr th {\n",
       "        vertical-align: top;\n",
       "    }\n",
       "\n",
       "    .dataframe thead th {\n",
       "        text-align: right;\n",
       "    }\n",
       "</style>\n",
       "<table border=\"1\" class=\"dataframe\">\n",
       "  <thead>\n",
       "    <tr style=\"text-align: right;\">\n",
       "      <th></th>\n",
       "      <th>ID</th>\n",
       "      <th>Name</th>\n",
       "      <th>Sex</th>\n",
       "      <th>Age</th>\n",
       "      <th>Height</th>\n",
       "      <th>Weight</th>\n",
       "      <th>Team</th>\n",
       "      <th>NOC</th>\n",
       "      <th>Games</th>\n",
       "      <th>Year</th>\n",
       "      <th>Season</th>\n",
       "      <th>City</th>\n",
       "      <th>Sport</th>\n",
       "      <th>Event</th>\n",
       "      <th>Medal</th>\n",
       "      <th>Country</th>\n",
       "      <th>Notes</th>\n",
       "      <th>Bronze</th>\n",
       "      <th>Gold</th>\n",
       "      <th>Silver</th>\n",
       "    </tr>\n",
       "  </thead>\n",
       "  <tbody>\n",
       "    <tr>\n",
       "      <th>40</th>\n",
       "      <td>16</td>\n",
       "      <td>Juhamatti Tapio Aaltonen</td>\n",
       "      <td>M</td>\n",
       "      <td>28.0</td>\n",
       "      <td>184.0</td>\n",
       "      <td>85.0</td>\n",
       "      <td>Finland</td>\n",
       "      <td>FIN</td>\n",
       "      <td>2014 Winter</td>\n",
       "      <td>2014</td>\n",
       "      <td>Winter</td>\n",
       "      <td>Sochi</td>\n",
       "      <td>Ice Hockey</td>\n",
       "      <td>Ice Hockey Men's Ice Hockey</td>\n",
       "      <td>Bronze</td>\n",
       "      <td>Finland</td>\n",
       "      <td>NaN</td>\n",
       "      <td>1</td>\n",
       "      <td>0</td>\n",
       "      <td>0</td>\n",
       "    </tr>\n",
       "    <tr>\n",
       "      <th>60</th>\n",
       "      <td>20</td>\n",
       "      <td>Kjetil Andr Aamodt</td>\n",
       "      <td>M</td>\n",
       "      <td>20.0</td>\n",
       "      <td>176.0</td>\n",
       "      <td>85.0</td>\n",
       "      <td>Norway</td>\n",
       "      <td>NOR</td>\n",
       "      <td>1992 Winter</td>\n",
       "      <td>1992</td>\n",
       "      <td>Winter</td>\n",
       "      <td>Albertville</td>\n",
       "      <td>Alpine Skiing</td>\n",
       "      <td>Alpine Skiing Men's Super G</td>\n",
       "      <td>Gold</td>\n",
       "      <td>Norway</td>\n",
       "      <td>NaN</td>\n",
       "      <td>0</td>\n",
       "      <td>1</td>\n",
       "      <td>0</td>\n",
       "    </tr>\n",
       "  </tbody>\n",
       "</table>\n",
       "</div>"
      ],
      "text/plain": [
       "    ID                      Name Sex   Age  Height  Weight     Team  NOC  \\\n",
       "40  16  Juhamatti Tapio Aaltonen   M  28.0   184.0    85.0  Finland  FIN   \n",
       "60  20        Kjetil Andr Aamodt   M  20.0   176.0    85.0   Norway  NOR   \n",
       "\n",
       "          Games  Year  Season         City          Sport  \\\n",
       "40  2014 Winter  2014  Winter        Sochi     Ice Hockey   \n",
       "60  1992 Winter  1992  Winter  Albertville  Alpine Skiing   \n",
       "\n",
       "                          Event   Medal  Country Notes  Bronze  Gold  Silver  \n",
       "40  Ice Hockey Men's Ice Hockey  Bronze  Finland   NaN       1     0       0  \n",
       "60  Alpine Skiing Men's Super G    Gold   Norway   NaN       0     1       0  "
      ]
     },
     "execution_count": 25,
     "metadata": {},
     "output_type": "execute_result"
    }
   ],
   "source": [
    "countMedal_winter = winter.drop_duplicates(subset=['Team','NOC','Country','Games','Year','City','Sport','Event','Medal'])\n",
    "#countMedal_winter = countMedal_winter.drop_duplicates(subset=['NOC','Country','Event','Medal'])\n",
    "countMedal_winter.head(2)"
   ]
  },
  {
   "cell_type": "code",
   "execution_count": 26,
   "id": "d10dc168-e308-4cc4-ad3f-5d705951ec3d",
   "metadata": {},
   "outputs": [
    {
     "name": "stdout",
     "output_type": "stream",
     "text": [
      "<class 'pandas.core.frame.DataFrame'>\n",
      "Int64Index: 2853 entries, 40 to 270886\n",
      "Data columns (total 20 columns):\n",
      " #   Column   Non-Null Count  Dtype  \n",
      "---  ------   --------------  -----  \n",
      " 0   ID       2853 non-null   int64  \n",
      " 1   Name     2853 non-null   object \n",
      " 2   Sex      2853 non-null   object \n",
      " 3   Age      2853 non-null   float64\n",
      " 4   Height   2853 non-null   float64\n",
      " 5   Weight   2853 non-null   float64\n",
      " 6   Team     2853 non-null   object \n",
      " 7   NOC      2853 non-null   object \n",
      " 8   Games    2853 non-null   object \n",
      " 9   Year     2853 non-null   int64  \n",
      " 10  Season   2853 non-null   object \n",
      " 11  City     2853 non-null   object \n",
      " 12  Sport    2853 non-null   object \n",
      " 13  Event    2853 non-null   object \n",
      " 14  Medal    2853 non-null   object \n",
      " 15  Country  2853 non-null   object \n",
      " 16  Notes    4 non-null      object \n",
      " 17  Bronze   2853 non-null   uint8  \n",
      " 18  Gold     2853 non-null   uint8  \n",
      " 19  Silver   2853 non-null   uint8  \n",
      "dtypes: float64(3), int64(2), object(12), uint8(3)\n",
      "memory usage: 409.6+ KB\n"
     ]
    }
   ],
   "source": [
    "countMedal_winter.info()"
   ]
  },
  {
   "cell_type": "code",
   "execution_count": 27,
   "id": "4ec09de7-9e97-4630-9af8-b643d90483d3",
   "metadata": {},
   "outputs": [
    {
     "data": {
      "text/html": [
       "<div>\n",
       "<style scoped>\n",
       "    .dataframe tbody tr th:only-of-type {\n",
       "        vertical-align: middle;\n",
       "    }\n",
       "\n",
       "    .dataframe tbody tr th {\n",
       "        vertical-align: top;\n",
       "    }\n",
       "\n",
       "    .dataframe thead th {\n",
       "        text-align: right;\n",
       "    }\n",
       "</style>\n",
       "<table border=\"1\" class=\"dataframe\">\n",
       "  <thead>\n",
       "    <tr style=\"text-align: right;\">\n",
       "      <th></th>\n",
       "      <th>ID</th>\n",
       "      <th>Name</th>\n",
       "      <th>Sex</th>\n",
       "      <th>Age</th>\n",
       "      <th>Height</th>\n",
       "      <th>Weight</th>\n",
       "      <th>Team</th>\n",
       "      <th>NOC</th>\n",
       "      <th>Games</th>\n",
       "      <th>Year</th>\n",
       "      <th>Season</th>\n",
       "      <th>City</th>\n",
       "      <th>Sport</th>\n",
       "      <th>Event</th>\n",
       "      <th>Medal</th>\n",
       "      <th>Country</th>\n",
       "      <th>Notes</th>\n",
       "      <th>Bronze</th>\n",
       "      <th>Gold</th>\n",
       "      <th>Silver</th>\n",
       "    </tr>\n",
       "  </thead>\n",
       "  <tbody>\n",
       "    <tr>\n",
       "      <th>3</th>\n",
       "      <td>4</td>\n",
       "      <td>Edgar Lindenau Aabye</td>\n",
       "      <td>M</td>\n",
       "      <td>34.0</td>\n",
       "      <td>175.33897</td>\n",
       "      <td>70.702393</td>\n",
       "      <td>Denmark/Sweden</td>\n",
       "      <td>DEN</td>\n",
       "      <td>1900 Summer</td>\n",
       "      <td>1900</td>\n",
       "      <td>Summer</td>\n",
       "      <td>Paris</td>\n",
       "      <td>Tug-Of-War</td>\n",
       "      <td>Tug-Of-War Men's Tug-Of-War</td>\n",
       "      <td>Gold</td>\n",
       "      <td>Denmark</td>\n",
       "      <td>NaN</td>\n",
       "      <td>0</td>\n",
       "      <td>1</td>\n",
       "      <td>0</td>\n",
       "    </tr>\n",
       "    <tr>\n",
       "      <th>37</th>\n",
       "      <td>15</td>\n",
       "      <td>Arvo Ossian Aaltonen</td>\n",
       "      <td>M</td>\n",
       "      <td>30.0</td>\n",
       "      <td>175.33897</td>\n",
       "      <td>70.702393</td>\n",
       "      <td>Finland</td>\n",
       "      <td>FIN</td>\n",
       "      <td>1920 Summer</td>\n",
       "      <td>1920</td>\n",
       "      <td>Summer</td>\n",
       "      <td>Antwerpen</td>\n",
       "      <td>Swimming</td>\n",
       "      <td>Swimming Men's 200 metres Breaststroke</td>\n",
       "      <td>Bronze</td>\n",
       "      <td>Finland</td>\n",
       "      <td>NaN</td>\n",
       "      <td>1</td>\n",
       "      <td>0</td>\n",
       "      <td>0</td>\n",
       "    </tr>\n",
       "  </tbody>\n",
       "</table>\n",
       "</div>"
      ],
      "text/plain": [
       "    ID                  Name Sex   Age     Height     Weight            Team  \\\n",
       "3    4  Edgar Lindenau Aabye   M  34.0  175.33897  70.702393  Denmark/Sweden   \n",
       "37  15  Arvo Ossian Aaltonen   M  30.0  175.33897  70.702393         Finland   \n",
       "\n",
       "    NOC        Games  Year  Season       City       Sport  \\\n",
       "3   DEN  1900 Summer  1900  Summer      Paris  Tug-Of-War   \n",
       "37  FIN  1920 Summer  1920  Summer  Antwerpen    Swimming   \n",
       "\n",
       "                                     Event   Medal  Country Notes  Bronze  \\\n",
       "3              Tug-Of-War Men's Tug-Of-War    Gold  Denmark   NaN       0   \n",
       "37  Swimming Men's 200 metres Breaststroke  Bronze  Finland   NaN       1   \n",
       "\n",
       "    Gold  Silver  \n",
       "3      1       0  \n",
       "37     0       0  "
      ]
     },
     "execution_count": 27,
     "metadata": {},
     "output_type": "execute_result"
    }
   ],
   "source": [
    "countMedal_summer = summer.drop_duplicates(subset=['Team','NOC','Country','Games','Year','City','Sport','Event','Medal'])\n",
    "countMedal_summer.head(2)"
   ]
  },
  {
   "cell_type": "markdown",
   "id": "747b00b9-baa8-4923-826f-ad49e82f00f7",
   "metadata": {},
   "source": [
    "Ya preprocesado en primera instancia los dataset, se empezará a continuación el análisis/obtención de información relacionada de los Juegos Olímpicos."
   ]
  },
  {
   "cell_type": "markdown",
   "id": "bed3218b-6b83-49e4-88ac-b3d02a7fb32b",
   "metadata": {},
   "source": [
    "**1. RENDIMIENTO POR DEPORTE**"
   ]
  },
  {
   "cell_type": "markdown",
   "id": "eae83778-c5d9-4fec-a723-7e530e08f2b9",
   "metadata": {},
   "source": [
    "En este apartado, se desea mostrar qué países son potencia en los deportes que forman (o formaron) parte de los Juegos Olímpicos de Invierno. Para ello, se agrupan los deportes con la mayor cantidad de medallas ganadas por los países participantes."
   ]
  },
  {
   "cell_type": "code",
   "execution_count": 28,
   "id": "07345d34-2c06-4f7f-89ab-1ccc214f86a6",
   "metadata": {},
   "outputs": [
    {
     "name": "stdout",
     "output_type": "stream",
     "text": [
      "Alpine Skiing --- Austria\n",
      "Alpinism --- Great Britain\n",
      "Biathlon --- Germany\n",
      "Bobsleigh --- Germany\n",
      "Cross Country Skiing --- Russia\n",
      "Curling --- Canada\n",
      "Figure Skating --- Russia\n",
      "Freestyle Skiing --- United States of America\n",
      "Ice Hockey --- Canada\n",
      "Luge --- Germany\n",
      "Military Ski Patrol --- Switzerland\n",
      "Nordic Combined --- Norway\n",
      "Short Track Speed Skating --- South Korea\n",
      "Skeleton --- United States of America\n",
      "Ski Jumping --- Norway\n",
      "Snowboarding --- United States of America\n",
      "Speed Skating --- Netherlands\n"
     ]
    }
   ],
   "source": [
    "data_groupby = countMedal_winter.groupby(['Sport'])\n",
    "data_groupby.head(10)\n",
    "selected_sport_country = {}\n",
    "for key, item in data_groupby:\n",
    "    selected_df = data_groupby.get_group(key)\n",
    "    selected_df = selected_df[selected_df['Medal'] != 'None'] # != None\n",
    "    \n",
    "    selected_sport_country[key] = selected_df['Country'].value_counts().index[0]\n",
    "    selected_sport_country[key]\n",
    "\n",
    "for key in selected_sport_country.keys():\n",
    "    print(key, '---', selected_sport_country[key])"
   ]
  },
  {
   "cell_type": "markdown",
   "id": "988337c8-6d4d-422b-9092-2f7696345f1a",
   "metadata": {},
   "source": [
    "La función creada a continuación, es similar a la usada arriba para determinar los países que son dominantes en las disciplinas olímpicas."
   ]
  },
  {
   "cell_type": "code",
   "execution_count": 29,
   "id": "d9d4d3a7-7f65-459c-b0ec-d7925b2ae8e9",
   "metadata": {
    "slideshow": {
     "slide_type": "slide"
    },
    "tags": []
   },
   "outputs": [],
   "source": [
    "def sucessful_event(medal):\n",
    "    flag = 0\n",
    "    data_groupby = winter.groupby(['Sport'])\n",
    "    selected_sport_country = {}\n",
    "    for key, item in data_groupby:\n",
    "        selected_df = data_groupby.get_group(key)\n",
    "        if medal == 'Overall':\n",
    "            selected_df = selected_df[selected_df['Medal'] == medal]\n",
    "        if medal == 'Gold':\n",
    "            selected_df = selected_df[selected_df['Medal'] == medal]\n",
    "        if medal == 'Silver':\n",
    "            selected_df = selected_df[selected_df['Medal'] == medal]\n",
    "        if medal == 'Bronze':\n",
    "            selected_df = selected_df[selected_df['Medal'] == medal]\n",
    "        \n",
    "        selected_sport_country[key] = selected_df['NOC'].value_counts().index[0]\n",
    "    \n",
    "    for key in selected_sport_country.keys():\n",
    "        print(key, '---', selected_sport_country[key])"
   ]
  },
  {
   "cell_type": "code",
   "execution_count": 30,
   "id": "a92a9168-58cd-4e7a-bdf8-018e1d740ca0",
   "metadata": {
    "slideshow": {
     "slide_type": "skip"
    },
    "tags": []
   },
   "outputs": [
    {
     "name": "stdout",
     "output_type": "stream",
     "text": [
      "Alpine Skiing --- AUT\n",
      "Alpinism --- GBR\n",
      "Biathlon --- GER\n",
      "Bobsleigh --- GER\n",
      "Cross Country Skiing --- NOR\n",
      "Curling --- CAN\n",
      "Figure Skating --- RUS\n",
      "Freestyle Skiing --- USA\n",
      "Ice Hockey --- CAN\n",
      "Luge --- GER\n",
      "Military Ski Patrol --- SUI\n",
      "Nordic Combined --- NOR\n",
      "Short Track Speed Skating --- KOR\n",
      "Skeleton --- USA\n",
      "Ski Jumping --- FIN\n",
      "Snowboarding --- USA\n",
      "Speed Skating --- NED\n"
     ]
    }
   ],
   "source": [
    "sucessful_event('Gold')"
   ]
  },
  {
   "cell_type": "markdown",
   "id": "71dea249-46b4-46f7-98ea-771c77c15bbd",
   "metadata": {},
   "source": [
    "Ahora,se crea la función top_sport, la cual muestra los 5 países (Comités Olímpicos Nacionales) con la mayor cantidad de medallas ganadas. Se debe recordar que estos datos son hasta los juegos de Sochi 2014."
   ]
  },
  {
   "cell_type": "code",
   "execution_count": 31,
   "id": "4a0cad0c-1d0c-4401-988d-db19cc73bee1",
   "metadata": {},
   "outputs": [],
   "source": [
    "def top_sport(sport):\n",
    "    selected_df = countMedal_winter[countMedal_winter['Sport'] == sport]\n",
    "    selected_country = selected_sport_country[sport]\n",
    "    \n",
    "    counted_df_index = selected_df['NOC'].value_counts().index[0:5]\n",
    "    selected_df = selected_df[selected_df['NOC'].isin(counted_df_index)]\n",
    "    sns.countplot(y=\"NOC\", data=selected_df, order=counted_df_index, palette=sns.color_palette(\"mako\")).set_title(sport)"
   ]
  },
  {
   "cell_type": "code",
   "execution_count": 32,
   "id": "930a37ee-a76f-4dc2-9941-9b8dce502b29",
   "metadata": {},
   "outputs": [
    {
     "data": {
      "image/png": "[encoded data removed]",
      "text/plain": [
       "<Figure size 432x288 with 1 Axes>"
      ]
     },
     "metadata": {
      "needs_background": "light"
     },
     "output_type": "display_data"
    }
   ],
   "source": [
    "top_sport('Snowboarding') #Medallas totales por Comité Olímpico Nacional"
   ]
  },
  {
   "cell_type": "markdown",
   "id": "e2f5b894-709e-4902-bb25-28c60a617c43",
   "metadata": {},
   "source": [
    "Se crea la función top_sport_winter_games tomando como base la función top_sport, en el cual se toma en cuenta el género (másculino/femenino) y las medallas (Total/Oro/Plata/Bronce), así como el deporte invernal. Con esto, se observará con mejor detalle el rendimiento de los países en diferentes aspectos. Se debe recordar que estos datos son hasta los juegos de Sochi 2014."
   ]
  },
  {
   "cell_type": "code",
   "execution_count": 33,
   "id": "bc080e28-1680-4620-a626-fc886112e93c",
   "metadata": {},
   "outputs": [],
   "source": [
    "def top_sport_winter_games(sport, gender, medal):\n",
    "    if gender == 'Overall' and medal == 'Overall':\n",
    "        selected_df = countMedal_winter[countMedal_winter['Sport'] == sport]\n",
    "    if gender != 'Overall' and medal == 'Overall':\n",
    "        selected_df = countMedal_winter[countMedal_winter['Sport'] == sport]\n",
    "        selected_df = selected_df[selected_df['Sex'] == gender]\n",
    "    if gender == 'Overall' and medal != 'Overall':\n",
    "        selected_df = countMedal_winter[countMedal_winter['Sport'] == sport]\n",
    "        selected_df = selected_df[selected_df['Medal'] == medal]\n",
    "    if gender != 'Overall' and medal != 'Overall':\n",
    "        selected_df = countMedal_winter[countMedal_winter['Sport'] == sport]\n",
    "        selected_df = selected_df[selected_df['Sex'] == gender]\n",
    "        selected_df = selected_df[selected_df['Medal'] == medal]\n",
    "\n",
    "    fig, ax = plt.subplots(1,1, figsize=(10,4), facecolor='azure')\n",
    "    ax.set_facecolor('azure')\n",
    "    ax.set_axisbelow(True)\n",
    "\n",
    "    ax.tick_params(axis=u'both', which=u'both',length=0)\n",
    "    ax.set_ylabel(\"Country\",fontfamily='monospace',loc='bottom',color='gray')\n",
    "    ax.set_xlabel(\"Total Medals\",fontfamily='monospace',loc='center',color='gray')\n",
    "    \n",
    "    ax.set_title('Top 5 countries in: '+ sport +', Gender: ' + gender +', Medal: ' + medal, fontsize=15,fontweight='bold',fontfamily='serif',color='#323232')\n",
    "    \n",
    "    counted_df_index = selected_df['Country'].value_counts().index[0:5]\n",
    "    selected_df = selected_df[selected_df['Country'].isin(counted_df_index)]\n",
    "    sns.countplot(y=\"Country\", data=selected_df, order=counted_df_index, palette=sns.color_palette(\"mako\"))"
   ]
  },
  {
   "cell_type": "code",
   "execution_count": 34,
   "id": "00772f5d-9456-4969-9be8-ba3b175b9166",
   "metadata": {},
   "outputs": [
    {
     "data": {
      "image/png": "[encoded data removed]",
      "text/plain": [
       "<Figure size 720x288 with 1 Axes>"
      ]
     },
     "metadata": {},
     "output_type": "display_data"
    }
   ],
   "source": [
    "top_sport_winter_games('Curling','Overall','Gold')"
   ]
  },
  {
   "cell_type": "markdown",
   "id": "e45d156d-9554-4816-98bf-914d7c1796b7",
   "metadata": {},
   "source": [
    "En esta oprtunidad, la función sport_years grafica el comportamiento de las disciplinas olímpicas a lo largo del tiempo, destacando los 5 países con mejores resultados."
   ]
  },
  {
   "cell_type": "code",
   "execution_count": 35,
   "id": "a1b874a9-7d79-498f-82cd-ed3bd3be0bb3",
   "metadata": {},
   "outputs": [],
   "source": [
    "def sport_years(sport):\n",
    "    selected_df = winter[winter['Sport'] == sport]\n",
    "    years = selected_df['Year'].sort_values().unique()\n",
    "    default_medal_df = pd.DataFrame(columns=['Year', 'Medal_Num'])\n",
    "    default_medal_df['Year'] = years\n",
    "    default_medal_df['Medal_Num'] = 0\n",
    "    default_medal_df = default_medal_df.set_index('Year')\n",
    "    selected_country = selected_sport_country[sport]\n",
    "    \n",
    "    counted_df_index = selected_df['Country'].value_counts().index[0:5]\n",
    "    selected_df = selected_df[selected_df['Country'].isin(counted_df_index)]\n",
    "    \n",
    "    counted_df_index\n",
    "    \n",
    "    fig, ax = plt.subplots(1,1, figsize=(10,4), facecolor='azure')\n",
    "    ax.set_facecolor('azure')\n",
    "    ax.set_axisbelow(True)\n",
    "\n",
    "    ax.tick_params(axis=u'both', which=u'both',length=0)\n",
    "    ax.set_ylabel(\"Total Medals\",fontfamily='monospace',loc='bottom',color='gray')\n",
    "    ax.set_xlabel(\"\")\n",
    "    \n",
    "    ax.set_title('Top 5 countries in '+ sport, fontsize=15,fontweight='bold',fontfamily='serif',color='#323232')\n",
    "        \n",
    "    for team in selected_df['Country'].unique():\n",
    "        temp_df = selected_df[selected_df['Country'] == team]\n",
    "        temp_df['Medal_Num'] = 1\n",
    "        temp_group_df = temp_df.groupby(['Year']).sum()\n",
    "        temp_group_df = temp_group_df.reset_index()\n",
    "        temp_group_df = temp_group_df[['Year', 'Medal_Num']]\n",
    "        temp_group_df = temp_group_df.set_index('Year')\n",
    "\n",
    "        olympics_df = temp_group_df.add(default_medal_df, fill_value=0)\n",
    "        \n",
    "        if team == selected_country:\n",
    "            sns.lineplot(data=olympics_df, x=olympics_df.index, y=\"Medal_Num\", label=team, linewidth=5) \n",
    "            #Aplica SOLO si se quere analizar Rusia\n",
    "            #plt.axvline(1988, color='r')\n",
    "            #plt.axvline(1992, color='g')\n",
    "            #plt.axvline(1994, color='b')\n",
    "        else:\n",
    "            sns.lineplot(data=olympics_df, x=olympics_df.index, y=\"Medal_Num\", label=team, alpha=0.7, linewidth=2, markers=True, dashes=False)"
   ]
  },
  {
   "cell_type": "code",
   "execution_count": 36,
   "id": "276c1f7c-df19-403a-998a-f14e60acb387",
   "metadata": {},
   "outputs": [
    {
     "data": {
      "image/png": "[encoded data removed]",
      "text/plain": [
       "<Figure size 720x288 with 1 Axes>"
      ]
     },
     "metadata": {},
     "output_type": "display_data"
    }
   ],
   "source": [
    "sport_years('Curling')"
   ]
  },
  {
   "cell_type": "markdown",
   "id": "de40854b-36e9-43b6-b2f3-2cfef2ee2efc",
   "metadata": {},
   "source": [
    "**2. RENDIMIENTO POR PAÍS**"
   ]
  },
  {
   "cell_type": "markdown",
   "id": "195e3a91-6fc2-4f6e-ba14-9db1f087d9e4",
   "metadata": {},
   "source": [
    "Las funciones mencionadas a continuación: fetch_medal_tally_winter y fetch_medal_tally_summer se implementaron para conocer la cantidad de medallas de cada NOC a lo largo de la historia de los Juegos Olímpicos de Verano e Invierno. Esto con el fin de determinar qué NOC son especialistas en deportes de verano e invierno."
   ]
  },
  {
   "cell_type": "code",
   "execution_count": 37,
   "id": "6f80c166-fe13-4525-9e05-60bbf4534bcb",
   "metadata": {},
   "outputs": [],
   "source": [
    "def fetch_medal_tally_winter(year,noc):\n",
    "    flag = 0\n",
    "    if year == 'Overall'and noc == 'Overall':\n",
    "        temp_df = countMedal_winter #summer.drop_duplicates(subset=['Team','NOC','Games','Year','City','Sport','Event','Medal'])\n",
    "    if year =='Overall' and noc != 'Overall':\n",
    "        flag = 1\n",
    "        temp_df = countMedal_winter[countMedal_winter['NOC'] == noc]\n",
    "    if year !='Overall' and noc == 'Overall':\n",
    "        temp_df = countMedal_winter[countMedal_winter['Year'] == int(year)]\n",
    "    if year !='Overall' and noc != 'Overall':\n",
    "        temp_df = countMedal_winter[(countMedal_winter['Year'] == int(year)) & (countMedal_winter['NOC'] == noc)]\n",
    "    \n",
    "    if flag == 1:\n",
    "        x = temp_df.groupby('Year').sum()[['Gold','Silver','Bronze']].sort_values('Year').reset_index()\n",
    "    else:\n",
    "        x = temp_df.groupby('NOC').sum()[['Gold','Silver','Bronze']].sort_values('Gold', ascending=False).reset_index()\n",
    "        \n",
    "    x['Total'] = x['Gold'] + x['Silver'] + x['Bronze']\n",
    "    \n",
    "    print(x)"
   ]
  },
  {
   "cell_type": "code",
   "execution_count": 38,
   "id": "dc5e5031-934c-4776-ba8f-559b30aa3380",
   "metadata": {},
   "outputs": [
    {
     "name": "stdout",
     "output_type": "stream",
     "text": [
      "    NOC  Gold  Silver  Bronze  Total\n",
      "0   FIN     4       4       3     11\n",
      "1   NOR     4       7       6     17\n",
      "2   AUT     2       1       0      3\n",
      "3   GBR     2       1       2      5\n",
      "4   SUI     2       0       1      3\n",
      "5   AUS     1       0       0      1\n",
      "6   CAN     1       0       0      1\n",
      "7   IND     1       0       0      1\n",
      "8   NEP     1       0       0      1\n",
      "9   SWE     1       1       0      2\n",
      "10  USA     1       2       1      4\n",
      "11  BEL     0       0       1      1\n",
      "12  FRA     0       0       3      3\n"
     ]
    }
   ],
   "source": [
    "fetch_medal_tally_winter(year='1924',noc='Overall') "
   ]
  },
  {
   "cell_type": "code",
   "execution_count": 39,
   "id": "46d8b240-d514-402b-86f0-5a5b2ea918d1",
   "metadata": {},
   "outputs": [
    {
     "name": "stdout",
     "output_type": "stream",
     "text": [
      "   NOC  Gold  Silver  Bronze  Total\n",
      "0  CAN    14       7       5     26\n"
     ]
    }
   ],
   "source": [
    "fetch_medal_tally_winter(year='2010',noc='CAN')"
   ]
  },
  {
   "cell_type": "code",
   "execution_count": 40,
   "id": "520accb7-e389-40b0-86cf-b84e2c08c35f",
   "metadata": {},
   "outputs": [
    {
     "name": "stdout",
     "output_type": "stream",
     "text": [
      "   Year  Gold  Silver  Bronze  Total\n",
      "0  1992     0       3       0      3\n",
      "1  1994     0       1       2      3\n",
      "2  1998     0       6       2      8\n",
      "3  2002     2       2       4      8\n",
      "4  2006     2       4       5     11\n",
      "5  2010     5       2       4     11\n",
      "6  2014     3       4       2      9\n"
     ]
    }
   ],
   "source": [
    "fetch_medal_tally_winter(year='Overall',noc='CHN')"
   ]
  },
  {
   "cell_type": "code",
   "execution_count": 41,
   "id": "e0ea9754-84cd-4dd2-a9ed-214e9b37965d",
   "metadata": {},
   "outputs": [],
   "source": [
    "def fetch_medal_tally_summer(year,noc):\n",
    "    flag = 0\n",
    "    if year == 'Overall'and noc == 'Overall':\n",
    "        temp_df = countMedal_summer #summer.drop_duplicates(subset=['Team','NOC','Games','Year','City','Sport','Event','Medal'])\n",
    "    if year =='Overall' and noc != 'Overall':\n",
    "        flag = 1\n",
    "        temp_df = countMedal_summer[countMedal_summer['NOC'] == noc]\n",
    "    if year !='Overall' and noc == 'Overall':\n",
    "        temp_df = countMedal_summer[countMedal_summer['Year'] == int(year)]\n",
    "    if year !='Overall' and noc != 'Overall':\n",
    "        temp_df = countMedal_summer[(countMedal_summer['Year'] == int(year)) & (countMedal_summer['NOC'] == noc)]\n",
    "    \n",
    "    if flag == 1:\n",
    "        x = temp_df.groupby('Year').sum()[['Gold','Silver','Bronze']].sort_values('Year').reset_index()\n",
    "    else:\n",
    "        x = temp_df.groupby('NOC').sum()[['Gold','Silver','Bronze']].sort_values('Gold', ascending=False).reset_index()\n",
    "        \n",
    "    x['Total'] = x['Gold'] + x['Silver'] + x['Bronze']\n",
    "    \n",
    "    print(x)"
   ]
  },
  {
   "cell_type": "code",
   "execution_count": 42,
   "id": "bbec15ed-02ff-4207-bc3e-27785c7cbe94",
   "metadata": {},
   "outputs": [
    {
     "name": "stdout",
     "output_type": "stream",
     "text": [
      "    Year  Gold  Silver  Bronze  Total\n",
      "0   1896     2       1       2      5\n",
      "1   1900     0       3       3      6\n",
      "2   1904     2       1       1      4\n",
      "3   1906     3       3       3      9\n",
      "4   1908     0       0       1      1\n",
      "5   1912     0       2       2      4\n",
      "6   1924     0       3       1      4\n",
      "7   1928     3       0       1      4\n",
      "8   1932     1       1       3      5\n",
      "9   1936     5       7       5     17\n",
      "10  1948     2       2       4      8\n",
      "11  1952     0       1       1      2\n",
      "12  1956     0       0       2      2\n",
      "13  1960     1       1       0      2\n",
      "14  1968     0       2       2      4\n",
      "15  1972     0       1       2      3\n",
      "16  1976     0       0       1      1\n",
      "17  1980     1       2       1      4\n",
      "18  1984     1       1       1      3\n",
      "19  1988     1       0       0      1\n",
      "20  1992     0       2       0      2\n",
      "21  1996     0       1       2      3\n",
      "22  2000     2       1       0      3\n",
      "23  2004     2       4       1      7\n",
      "24  2008     0       1       2      3\n",
      "25  2016     0       0       1      1\n"
     ]
    }
   ],
   "source": [
    "resume_summer = fetch_medal_tally_summer(year='Overall',noc='AUT')\n",
    "resume_summer"
   ]
  },
  {
   "cell_type": "markdown",
   "id": "a6b981b7-727c-490b-b2ab-45bcd479e6b9",
   "metadata": {},
   "source": [
    "A continuación, se presentan las funciones noc_winter_games y noc_winter.\n",
    "\n",
    "La primera de ellas es usada para recabar las medallas ganadas por los NOC participantes de los WOG. Se tiene la opción de seleccionar por medalla ganada y por género. Estos resultados serán usados para graficar el porcentaje de medallas ganadas.\n",
    "\n",
    "Por su parte, la segunda es usada para conocer la distribución de las medallas ganadas en las disciplinas olímpicas de invierno."
   ]
  },
  {
   "cell_type": "code",
   "execution_count": 43,
   "id": "969c416a-b0cc-4a95-b752-5c5d6f432dfd",
   "metadata": {},
   "outputs": [],
   "source": [
    "def noc_winter_games(noc, gender, medal):\n",
    "    if gender == 'Overall' and medal == 'Overall':\n",
    "        selected_df = countMedal_winter[countMedal_winter['Country'] == noc]\n",
    "    if gender != 'Overall' and medal == 'Overall':\n",
    "        selected_df = countMedal_winter[countMedal_winter['Country'] == noc]\n",
    "        selected_df = selected_df[selected_df['Sex'] == gender]\n",
    "    if gender == 'Overall' and medal != 'Overall':\n",
    "        selected_df = countMedal_winter[countMedal_winter['Country'] == noc]\n",
    "        selected_df = selected_df[selected_df['Medal'] == medal]\n",
    "    if gender != 'Overall' and medal != 'Overall':\n",
    "        selected_df = countMedal_winter[countMedal_winter['Country'] == noc]\n",
    "        selected_df = selected_df[selected_df['Sex'] == gender]\n",
    "        selected_df = selected_df[selected_df['Medal'] == medal]  \n",
    "    \n",
    "    counted_df_index = selected_df['Country'].value_counts().index[0:5]\n",
    "    selected_df = selected_df[selected_df['Country'].isin(counted_df_index)]\n",
    "    \n",
    "    return selected_df"
   ]
  },
  {
   "cell_type": "code",
   "execution_count": 44,
   "id": "5a93cbfd-d02b-4fff-9be1-8361e54fe9ad",
   "metadata": {},
   "outputs": [
    {
     "data": {
      "text/html": [
       "<div>\n",
       "<style scoped>\n",
       "    .dataframe tbody tr th:only-of-type {\n",
       "        vertical-align: middle;\n",
       "    }\n",
       "\n",
       "    .dataframe tbody tr th {\n",
       "        vertical-align: top;\n",
       "    }\n",
       "\n",
       "    .dataframe thead th {\n",
       "        text-align: right;\n",
       "    }\n",
       "</style>\n",
       "<table border=\"1\" class=\"dataframe\">\n",
       "  <thead>\n",
       "    <tr style=\"text-align: right;\">\n",
       "      <th></th>\n",
       "      <th>Sport</th>\n",
       "      <th>Medal</th>\n",
       "    </tr>\n",
       "  </thead>\n",
       "  <tbody>\n",
       "    <tr>\n",
       "      <th>1</th>\n",
       "      <td>Luge</td>\n",
       "      <td>4</td>\n",
       "    </tr>\n",
       "    <tr>\n",
       "      <th>2</th>\n",
       "      <td>Skeleton</td>\n",
       "      <td>2</td>\n",
       "    </tr>\n",
       "    <tr>\n",
       "      <th>0</th>\n",
       "      <td>Bobsleigh</td>\n",
       "      <td>1</td>\n",
       "    </tr>\n",
       "  </tbody>\n",
       "</table>\n",
       "</div>"
      ],
      "text/plain": [
       "       Sport  Medal\n",
       "1       Luge      4\n",
       "2   Skeleton      2\n",
       "0  Bobsleigh      1"
      ]
     },
     "execution_count": 44,
     "metadata": {},
     "output_type": "execute_result"
    }
   ],
   "source": [
    "ns = noc_winter_games('Latvia', 'Overall', 'Overall')\n",
    "noc_sport = ns.groupby('Sport').count()['Medal'].reset_index().sort_values('Medal', ascending=False)\n",
    "noc_sport"
   ]
  },
  {
   "cell_type": "code",
   "execution_count": 45,
   "id": "c9ce190a-51ba-4174-ae8d-e04d286e93e7",
   "metadata": {},
   "outputs": [],
   "source": [
    "def noc_winter(noc, gender):\n",
    "    if gender == 'Overall':\n",
    "        selected_df = countMedal_winter[countMedal_winter['Country'] == noc]\n",
    "    if gender != 'Overall':\n",
    "        selected_df = countMedal_winter[countMedal_winter['Country'] == noc]\n",
    "        selected_df = selected_df[selected_df['Sex'] == gender]\n",
    "    \n",
    "    counted_df_index = selected_df['Country'].value_counts().index[0:5]\n",
    "    selected_df = selected_df[selected_df['Country'].isin(counted_df_index)]\n",
    "    \n",
    "    return selected_df"
   ]
  },
  {
   "cell_type": "code",
   "execution_count": 46,
   "id": "d96ffea1-49bb-4cf0-8faa-58d0810ed377",
   "metadata": {},
   "outputs": [
    {
     "data": {
      "text/html": [
       "<div>\n",
       "<style scoped>\n",
       "    .dataframe tbody tr th:only-of-type {\n",
       "        vertical-align: middle;\n",
       "    }\n",
       "\n",
       "    .dataframe tbody tr th {\n",
       "        vertical-align: top;\n",
       "    }\n",
       "\n",
       "    .dataframe thead th {\n",
       "        text-align: right;\n",
       "    }\n",
       "</style>\n",
       "<table border=\"1\" class=\"dataframe\">\n",
       "  <thead>\n",
       "    <tr style=\"text-align: right;\">\n",
       "      <th></th>\n",
       "      <th>Sport</th>\n",
       "      <th>Gold</th>\n",
       "      <th>Silver</th>\n",
       "      <th>Bronze</th>\n",
       "      <th>Total</th>\n",
       "    </tr>\n",
       "  </thead>\n",
       "  <tbody>\n",
       "    <tr>\n",
       "      <th>2</th>\n",
       "      <td>Cross Country Skiing</td>\n",
       "      <td>29</td>\n",
       "      <td>22</td>\n",
       "      <td>23</td>\n",
       "      <td>74</td>\n",
       "    </tr>\n",
       "    <tr>\n",
       "      <th>10</th>\n",
       "      <td>Speed Skating</td>\n",
       "      <td>7</td>\n",
       "      <td>4</td>\n",
       "      <td>5</td>\n",
       "      <td>16</td>\n",
       "    </tr>\n",
       "    <tr>\n",
       "      <th>0</th>\n",
       "      <td>Alpine Skiing</td>\n",
       "      <td>5</td>\n",
       "      <td>2</td>\n",
       "      <td>9</td>\n",
       "      <td>16</td>\n",
       "    </tr>\n",
       "    <tr>\n",
       "      <th>1</th>\n",
       "      <td>Biathlon</td>\n",
       "      <td>3</td>\n",
       "      <td>1</td>\n",
       "      <td>6</td>\n",
       "      <td>10</td>\n",
       "    </tr>\n",
       "    <tr>\n",
       "      <th>3</th>\n",
       "      <td>Curling</td>\n",
       "      <td>2</td>\n",
       "      <td>2</td>\n",
       "      <td>2</td>\n",
       "      <td>6</td>\n",
       "    </tr>\n",
       "    <tr>\n",
       "      <th>4</th>\n",
       "      <td>Figure Skating</td>\n",
       "      <td>2</td>\n",
       "      <td>1</td>\n",
       "      <td>1</td>\n",
       "      <td>4</td>\n",
       "    </tr>\n",
       "    <tr>\n",
       "      <th>6</th>\n",
       "      <td>Ice Hockey</td>\n",
       "      <td>2</td>\n",
       "      <td>4</td>\n",
       "      <td>5</td>\n",
       "      <td>11</td>\n",
       "    </tr>\n",
       "    <tr>\n",
       "      <th>5</th>\n",
       "      <td>Freestyle Skiing</td>\n",
       "      <td>0</td>\n",
       "      <td>1</td>\n",
       "      <td>1</td>\n",
       "      <td>2</td>\n",
       "    </tr>\n",
       "    <tr>\n",
       "      <th>7</th>\n",
       "      <td>Nordic Combined</td>\n",
       "      <td>0</td>\n",
       "      <td>1</td>\n",
       "      <td>1</td>\n",
       "      <td>2</td>\n",
       "    </tr>\n",
       "    <tr>\n",
       "      <th>8</th>\n",
       "      <td>Ski Jumping</td>\n",
       "      <td>0</td>\n",
       "      <td>1</td>\n",
       "      <td>1</td>\n",
       "      <td>2</td>\n",
       "    </tr>\n",
       "    <tr>\n",
       "      <th>9</th>\n",
       "      <td>Snowboarding</td>\n",
       "      <td>0</td>\n",
       "      <td>1</td>\n",
       "      <td>0</td>\n",
       "      <td>1</td>\n",
       "    </tr>\n",
       "  </tbody>\n",
       "</table>\n",
       "</div>"
      ],
      "text/plain": [
       "                   Sport  Gold  Silver  Bronze  Total\n",
       "2   Cross Country Skiing    29      22      23     74\n",
       "10         Speed Skating     7       4       5     16\n",
       "0          Alpine Skiing     5       2       9     16\n",
       "1               Biathlon     3       1       6     10\n",
       "3                Curling     2       2       2      6\n",
       "4         Figure Skating     2       1       1      4\n",
       "6             Ice Hockey     2       4       5     11\n",
       "5       Freestyle Skiing     0       1       1      2\n",
       "7        Nordic Combined     0       1       1      2\n",
       "8            Ski Jumping     0       1       1      2\n",
       "9           Snowboarding     0       1       0      1"
      ]
     },
     "execution_count": 46,
     "metadata": {},
     "output_type": "execute_result"
    }
   ],
   "source": [
    "w = noc_winter('Sweden', 'Overall')\n",
    "winterNOC = w.groupby('Sport').sum()[['Gold','Silver','Bronze']].reset_index() #.sort_values('Gold', ascending=False)\n",
    "winterNOC['Total'] = winterNOC['Gold'] + winterNOC['Silver'] + winterNOC['Bronze']\n",
    "winterNOC = winterNOC.sort_values('Gold', ascending=False)\n",
    "winterNOC"
   ]
  },
  {
   "cell_type": "markdown",
   "id": "cd436422-14b3-4c85-a37c-65ce4cee38c3",
   "metadata": {},
   "source": [
    "Se realiza el mismo procedimiento con los Juegos de Verano en noc_summer."
   ]
  },
  {
   "cell_type": "code",
   "execution_count": 47,
   "id": "42d73018-7c5d-470e-9a9e-61698aab60f9",
   "metadata": {},
   "outputs": [],
   "source": [
    "def noc_summer(noc, gender):\n",
    "    if gender == 'Overall':\n",
    "        selected_df = countMedal_summer[countMedal_summer['Country'] == noc]\n",
    "    if gender != 'Overall':\n",
    "        selected_df = countMedal_summer[countMedal_summer['Country'] == noc]\n",
    "        selected_df = selected_df[selected_df['Sex'] == gender]\n",
    "    \n",
    "    counted_df_index = selected_df['Country'].value_counts().index[0:5]\n",
    "    selected_df = selected_df[selected_df['Country'].isin(counted_df_index)]\n",
    "    \n",
    "    return selected_df"
   ]
  },
  {
   "cell_type": "code",
   "execution_count": 48,
   "id": "c2f4cfb8-3584-4435-8ad8-145c0f29e8c8",
   "metadata": {},
   "outputs": [],
   "source": [
    "s = noc_summer('Sweden', 'Overall')\n",
    "summerNOC = s.groupby('Sport').sum()[['Gold','Silver','Bronze']].reset_index() #.sort_values('Gold', ascending=False)\n",
    "summerNOC['Total'] = summerNOC['Gold'] + summerNOC['Silver'] + summerNOC['Bronze']\n",
    "summerNOC = summerNOC.sort_values('Gold', ascending=False)\n",
    "#summerNOC"
   ]
  },
  {
   "cell_type": "code",
   "execution_count": 49,
   "id": "6f8d1e2d-e17a-4747-8d20-e6c5476a7e82",
   "metadata": {},
   "outputs": [
    {
     "data": {
      "image/png": "[encoded data removed]",
      "text/plain": [
       "<Figure size 1080x504 with 1 Axes>"
      ]
     },
     "metadata": {},
     "output_type": "display_data"
    }
   ],
   "source": [
    "fig, ax = plt.subplots(1,1, figsize=(15,7), facecolor='azure')\n",
    "ax.set_facecolor('azure')\n",
    "ax.set_axisbelow(True)\n",
    "\n",
    "ax.tick_params(axis=u'both', which=u'both',length=0)\n",
    "#ax.set_ylabel(\"NOC\",fontfamily='monospace',loc='bottom',color='gray')\n",
    "#ax.set_xlabel(\"Total Medals\",fontfamily='monospace',loc='center',color='gray')\n",
    "\n",
    "ax.set_title('% Porcentaje de medallas de Oro ganadas por Suecia en JJOO de Invierno', fontsize=15,fontweight='bold',fontfamily='serif',color='#323232')\n",
    "\n",
    "#Cambiar Gold por Total para graficar el porcentaje de medallas totales\n",
    "plt.pie(winterNOC['Gold'], colors = sns.color_palette('mako'), autopct='%1.1f%%',pctdistance=1.1)\n",
    "plt.legend(labels=winterNOC['Sport'], loc='best', bbox_to_anchor=(0.9, 0., 0.75, 0.75), shadow=True) \n",
    "plt.show()"
   ]
  },
  {
   "cell_type": "code",
   "execution_count": 50,
   "id": "d6d34f15-e9e9-48f3-b293-43b4027d0f15",
   "metadata": {},
   "outputs": [
    {
     "data": {
      "image/png": "[encoded data removed]",
      "text/plain": [
       "<Figure size 1080x504 with 1 Axes>"
      ]
     },
     "metadata": {},
     "output_type": "display_data"
    }
   ],
   "source": [
    "fig, ax = plt.subplots(1,1, figsize=(15,7), facecolor='#F5F4EF')\n",
    "ax.set_facecolor('#F5F4EF')\n",
    "ax.set_axisbelow(True)\n",
    "\n",
    "ax.tick_params(axis=u'both', which=u'both',length=0)\n",
    "#ax.set_ylabel(\"NOC\",fontfamily='monospace',loc='bottom',color='gray')\n",
    "#ax.set_xlabel(\"Total Medals\",fontfamily='monospace',loc='center',color='gray')\n",
    "\n",
    "ax.set_title('% Porcentaje de medallas de Oro ganadas por Suecia en JJOO de Verano', fontsize=15,fontweight='bold',fontfamily='serif',color='#323232')\n",
    "\n",
    "#Cambiar Gold por Total para graficar el porcentaje de medallas totales\n",
    "plt.pie(summerNOC['Gold'], colors = sns.color_palette('YlOrBr'), autopct='%1.1f%%',pctdistance=1.1) #Oranges\n",
    "plt.legend(labels=summerNOC['Sport'], loc='best', bbox_to_anchor=(0.9, 0., 0.75, 0.75), shadow=True) \n",
    "plt.show()"
   ]
  },
  {
   "cell_type": "markdown",
   "id": "84da6a91-4df5-4b6e-8e36-2c4f9eedd386",
   "metadata": {},
   "source": [
    "https://seaborn.pydata.org/tutorial/color_palettes.html"
   ]
  },
  {
   "cell_type": "markdown",
   "id": "860a6874-41f8-40ed-bcb3-1ec0f387fcc0",
   "metadata": {},
   "source": [
    "**3. RENDIMIENTO DE LOS PAÍSES ANFITRIONES**"
   ]
  },
  {
   "cell_type": "markdown",
   "id": "3ff0429a-abf1-4762-97ee-710b2b046e10",
   "metadata": {},
   "source": [
    "A continuación, se analiza el comportamiento de los países anfitriones de los Juegos Olímpicos de Invierno con el fin de determinar si el ser anfitrión implica una mayor cantidad de medallas ganadas. De la misma manera, puede servir para conocer qué tan bien le irá a China en 2022."
   ]
  },
  {
   "cell_type": "markdown",
   "id": "438a8d1b-93c4-4cda-9503-1de7782013ef",
   "metadata": {},
   "source": [
    "Se empiza creando una función la cual agrupa las sedes olímpicas con los países (o NOC) que fueron sedes de WOC. Posteriormente, se aplica dicha función al dataset de invierno."
   ]
  },
  {
   "cell_type": "code",
   "execution_count": 51,
   "id": "93cf6e1a-bbb4-4339-819f-e872f614eeb5",
   "metadata": {},
   "outputs": [],
   "source": [
    "winter_city = countMedal_winter.copy()\n",
    "def host_country(col):\n",
    "    if col == \"Chamonix\" or col == \"Grenoble\" or col == \"Albertville\":\n",
    "        return \"France\"  #\"FRA\"\n",
    "    elif col == \"Sankt Moritz\":\n",
    "        return \"Switzerland\"  #\"SUI\"\n",
    "    elif col == \"Lake Placid\" or col == \"Salt Lake City\" or col == \"Squaw Valley\":\n",
    "        return  \"United States of America\"\n",
    "    elif col == \"Garmisch-Partenkirchen\":\n",
    "        return  \"Germany\"  #\"GER\"\n",
    "    elif col == \"Oslo\" or col == \"Lillehammer\":\n",
    "        return  \"Norway\"   #\"NOR\"\n",
    "    elif col == \"Innsbruck\":\n",
    "        return  \"Austria\"  #\"AUT\"\n",
    "    elif col == \"Sapporo\" or col == \"Nagano\":\n",
    "        return  \"Japan\"  #\"JPN\"\n",
    "    elif col == \"Sarajevo\":\n",
    "        return  \"Serbia\"  #\"YUG\"\n",
    "    elif col == \"Calgary\" or col == \"Vancouver\":\n",
    "        return  \"Canada\"  #\"CAN\"\n",
    "    elif col == \"Cortina d'Ampezzo\" or col == \"Torino\":\n",
    "        return  \"Italy\"   #\"ITA\"\n",
    "    elif col == \"Sochi\":\n",
    "        return  \"Russia\"  #\"RUS\"\n",
    "    elif col == \"Pyeongchang\":\n",
    "        return  \"South Korea\"  #\"KOR\"\n",
    "    else:\n",
    "        return \"Other\"\n",
    "\n",
    "\n",
    "# Applying this function\n",
    "\n",
    "winter_city['Host_Country'] = winter_city['City'].apply(host_country)"
   ]
  },
  {
   "cell_type": "markdown",
   "id": "eb9e154d-65fc-47f8-a73e-89d1c84e5aed",
   "metadata": {},
   "source": [
    "En este paso, se agrupa el dataset winter_city por medalla y se cuenta el número todal de preseas ganadas. Posteriormente, con el comando np.where se comapra el país sede con la ciudad sede (ver la función host_country), para mas tarde usarlo para una posterior gráfica."
   ]
  },
  {
   "cell_type": "code",
   "execution_count": 52,
   "id": "7df8a501-b641-44d7-a225-b2d7a61e7edc",
   "metadata": {},
   "outputs": [],
   "source": [
    "df_new = winter_city.groupby(['Year','Host_Country','Country','Medal'])['Medal'].count().unstack().fillna(0).astype(int).reset_index()\n",
    "\n",
    "df_new['Is_Host'] = np.where(df_new['Host_Country'] == df_new['Country'],1,0)\n",
    "df_new['Total'] = df_new['Bronze'] + df_new['Silver'] + df_new['Gold']\n",
    "#df_new.tail(190)"
   ]
  },
  {
   "cell_type": "markdown",
   "id": "563f776b-8a5b-4740-bdbe-f2c82afc3494",
   "metadata": {},
   "source": [
    "El resultado anterior es con el dataset de los JJOO hasta Sochi 2014 (Invierno). Se desea agregar el medallero de Pyeongchang 2018. Para ello, se usa el dataset respectivo (representado en medal_2018) y se aplica el mismo procedimiento de comparación entre ciudad sede y país anfritrión. Hecho este paso, se agrega el resultado en el dataframe df_new."
   ]
  },
  {
   "cell_type": "code",
   "execution_count": 53,
   "id": "2dc28452-c8a1-41ec-823e-c2be580eaaa4",
   "metadata": {},
   "outputs": [],
   "source": [
    "df_winter_full_refined = medal_2018[['Country', \"Gold\", \"Silver\", \"Bronze\", \"Total\"]]\n",
    "#df_21_full_refined['Total Medals'] = df_21_full_refined[[\"Gold Medal\", \"Silver Medal\", \"Bronze Medal\"]].sum(axis=1)\n",
    "df_winter_full_refined['Year'] = 2018\n",
    "\n",
    "df_winter_full_refined['Is_Host'] = np.where(df_winter_full_refined['Country'] == 'South Korea',1,0)\n",
    "df_winter_full_refined['Host_Country'] = 'South Korea'\n",
    "#df_winter_full_refined.head(25)\n",
    "\n",
    "# Adding 2018 data to historic\n",
    "df_new = df_new.append(df_winter_full_refined)\n",
    "\n",
    "# Removing Russia as many Olympic games were competed in as the Soviet Union, containing several modern day nations\n",
    "\n",
    "df_new = df_new.query(\"Country != 'Russia' | Country != 'Soviet Union'\") #df_new = df_new.query(\"NOC != 'RUS' | NOC != 'URS'\") Olympic Athletes from Russia\n",
    "#df_new.tail(51)"
   ]
  },
  {
   "cell_type": "markdown",
   "id": "894b1670-ed42-4d94-a834-a7bbcb728ac7",
   "metadata": {},
   "source": [
    "Ya obtenido el dataframe deseado, lo siguiente será graficar las medallas totales ganadas por los NOC en los WOG (en verde) con las medallas ganadas por los países anfitriones (en rojo). \n",
    "\n",
    "Como primera impresión, no podemos determinar a simple vista si ser anfitrión representa una ventaja en cuanto a las medallas ganadas totales. Falta realizar más pruebas."
   ]
  },
  {
   "cell_type": "code",
   "execution_count": 54,
   "id": "73d8f83f-c506-4ec0-ae82-39f57212eb64",
   "metadata": {},
   "outputs": [
    {
     "name": "stderr",
     "output_type": "stream",
     "text": [
      "findfont: Font family ['sansserif'] not found. Falling back to DejaVu Sans.\n"
     ]
    },
    {
     "data": {
      "image/png": "[encoded data removed]",
      "text/plain": [
       "<Figure size 720x288 with 1 Axes>"
      ]
     },
     "metadata": {},
     "output_type": "display_data"
    }
   ],
   "source": [
    "fig, ax = plt.subplots(1,1, figsize=(10,4), facecolor='azure')\n",
    "\n",
    "sns.scatterplot(data=df_new.query(\"Is_Host == 0\"), x='Year', y='Total', s=45, ec='black', color='#244747',ax=ax)\n",
    "sns.scatterplot(data=df_new.query(\"Is_Host == 1\"), x='Year', y='Total', s=105, ec='black', color='#B73832',ax=ax)\n",
    "\n",
    "Xstart, Xend = ax.get_xlim()\n",
    "Ystart, Yend = ax.get_ylim()\n",
    "\n",
    "ax.tick_params(axis=u'both', which=u'both',length=0)\n",
    "ax.set_ylabel(\"Medallas Totales\",fontfamily='monospace',loc='bottom',color='gray')\n",
    "ax.set_xlabel(\"Años\")\n",
    "\n",
    "ax.set_facecolor('azure')\n",
    "ax.set_axisbelow(True)\n",
    "\n",
    "\n",
    "for s in ['top','right','bottom','left']:\n",
    "    ax.spines[s].set_visible(False)\n",
    "    \n",
    "\n",
    "ax.text(Xstart,Yend+10, 'Medallas de Invierno por país: ¿Ser anitrión siempre ayuda?', fontsize=15,fontweight='bold',fontfamily='serif',color='#323232')\n",
    "ax.text(Xstart,Yend+7, 'Medallas Anfitrión', fontsize=10,fontweight='bold',fontfamily='sansserif',color='#B73832')\n",
    "ax.text(Xstart,Yend+5, 'Otros', fontsize=10,fontweight='bold',fontfamily='sansserif',color='#244747')\n",
    "\n",
    "plt.show()"
   ]
  },
  {
   "cell_type": "markdown",
   "id": "d801842c-af06-4a39-a30f-ce66c8423e90",
   "metadata": {},
   "source": [
    "Igual resultado se produce si se grafica el total de oros ganados de los países anfitriones respecto al resto de países participantes."
   ]
  },
  {
   "cell_type": "code",
   "execution_count": 55,
   "id": "17d6f4af-8e7b-46f4-85e0-55f98a6b593b",
   "metadata": {},
   "outputs": [
    {
     "data": {
      "image/png": "[encoded data removed]",
      "text/plain": [
       "<Figure size 720x288 with 1 Axes>"
      ]
     },
     "metadata": {},
     "output_type": "display_data"
    }
   ],
   "source": [
    "fig, ax = plt.subplots(1,1, figsize=(10,4), facecolor='azure')\n",
    "\n",
    "sns.scatterplot(data=df_new.query(\"Is_Host == 0\"), x='Year', y='Gold', s=45, ec='black', color='#244747',ax=ax)\n",
    "sns.scatterplot(data=df_new.query(\"Is_Host == 1\"), x='Year', y='Gold', s=105, ec='black', color='#B73832',ax=ax)\n",
    "\n",
    "Xstart, Xend = ax.get_xlim()\n",
    "Ystart, Yend = ax.get_ylim()\n",
    "\n",
    "ax.tick_params(axis=u'both', which=u'both',length=0)\n",
    "ax.set_ylabel(\"Medallas Oro\",fontfamily='monospace',loc='bottom',color='gray')\n",
    "ax.set_xlabel(\"Años\")\n",
    "\n",
    "ax.set_facecolor('azure')\n",
    "ax.set_axisbelow(True)\n",
    "\n",
    "\n",
    "for s in ['top','right','bottom','left']:\n",
    "    ax.spines[s].set_visible(False)\n",
    "    \n",
    "\n",
    "ax.text(Xstart,Yend+3, 'Medallas de Oro de Invierno por país: ¿Ser anitrión siempre ayuda?', fontsize=15,fontweight='bold',fontfamily='serif',color='#323232')\n",
    "ax.text(Xstart,Yend+2, 'Oros Anfitrión', fontsize=10,fontweight='bold',fontfamily='sansserif',color='#B73832')\n",
    "ax.text(Xstart,Yend+1, 'Otros', fontsize=10,fontweight='bold',fontfamily='sansserif',color='#244747')\n",
    "\n",
    "plt.show()"
   ]
  },
  {
   "cell_type": "markdown",
   "id": "be4f7962-4f70-4fc8-9ca4-8ad2a8d25d01",
   "metadata": {},
   "source": [
    "Una prueba más efectiva para determinar si los países anfitriones mejoran su desempeño en WOG es promediar las medallas totales ganadas en las ediciones de los Juegos (resaltado en verde navidad) y compararlas con las veces en que han sido anfitriones (en rojo navidad). \n",
    "\n",
    "De acuerdo a la gráfica, hay países que mejoraron su rendimiento cuando fueron anfitriones y otros que no. Respecto a las países que no superaron el promedio, una posible razón se deba a que las primeras ediciones había pocos deportes (en concreto 10 deportes en 1924) y por ende repartieron 54 medallas. "
   ]
  },
  {
   "cell_type": "code",
   "execution_count": 56,
   "id": "7cd0d647-feb0-43bd-9f99-3d2146cb50ae",
   "metadata": {},
   "outputs": [
    {
     "name": "stderr",
     "output_type": "stream",
     "text": [
      "findfont: Font family ['sansserif'] not found. Falling back to DejaVu Sans.\n"
     ]
    },
    {
     "data": {
      "image/png": "[encoded data removed]",
      "text/plain": [
       "<Figure size 792x360 with 1 Axes>"
      ]
     },
     "metadata": {},
     "output_type": "display_data"
    }
   ],
   "source": [
    "fig, ax = plt.subplots(1,1, figsize=(11, 5), facecolor='azure')\n",
    "\n",
    "# top 20\n",
    "top_list_ = df_new.groupby('Country')['Total'].mean().sort_values(ascending=False).reset_index()[:15].sort_values(by='Total',ascending=True)\n",
    "top_list_.head(15)\n",
    "\n",
    "plot = 1\n",
    "for country in top_list_['Country']:\n",
    "    mean = df_new[df_new['Country'] == country].groupby('Country')['Total'].mean()\n",
    "    # historic scores\n",
    "    sns.scatterplot(data=df_new[df_new['Country'] == country], y=plot, x='Total',color='lightgray',s=50,ax=ax)\n",
    "    # mean score\n",
    "    sns.scatterplot(data=df_new[df_new['Country'] == country], y=plot, x=mean,color='#244747',ec='black',linewidth=1,s=75,ax=ax)\n",
    "    # Hosting score\n",
    "    sns.scatterplot(data=(df_new[(df_new['Country'] == country) & (df_new['Is_Host'] == 1)]), y=plot, x='Total',color='#B73832',ec='black',linewidth=1,s=75,ax=ax)   \n",
    "    plot += 1\n",
    "\n",
    "Xstart, Xend = ax.get_xlim()\n",
    "Ystart, Yend = ax.get_ylim()\n",
    "\n",
    "ax.set_yticks(top_list_.index+1)\n",
    "ax.set_yticklabels(top_list_['Country'][::-1], fontdict={'horizontalalignment': 'right'}, alpha=0.7)\n",
    "ax.tick_params(axis=u'both', which=u'both',length=0)\n",
    "ax.set_xlabel(\"Total Medals\",fontfamily='monospace',loc='left',color='gray')\n",
    "ax.set_facecolor('azure')\n",
    "ax.hlines(y=top_list_.index+1, xmin=0, xmax=Xend, color='gray', alpha=0.5, linewidth=.3, linestyles='--')\n",
    "ax.set_axisbelow(True)\n",
    "\n",
    "\n",
    "for s in ['top','right','bottom','left']:\n",
    "    ax.spines[s].set_visible(False)\n",
    "\n",
    "\n",
    "ax.text(0,Yend+3.5, 'Medallas Olímpicas por país: Anfitrión a lo largo de los años', fontsize=15,fontweight='bold',fontfamily='serif',color='#323232')\n",
    "ax.text(0,Yend+2.5, 'Anfitrión', fontsize=12,fontweight='bold',fontfamily='sansserif',color='#B73832')\n",
    "ax.text(0,Yend+1.7, 'Promedio', fontsize=12,fontweight='bold',fontfamily='sansserif',color='#244747')\n",
    "\n",
    "\n",
    "plt.show()"
   ]
  },
  {
   "cell_type": "markdown",
   "id": "3af4398a-45d0-49da-b23d-ec3235d5db10",
   "metadata": {},
   "source": [
    "Aquí se muestra los deportes que estuvieron en los primeros JJOO, en 1924. De igual manera, el hecho de que se haya incluido más deportes al programa olímpico, implica una mayor cantidad de medallas a repartir. "
   ]
  },
  {
   "cell_type": "code",
   "execution_count": 57,
   "id": "e0562ffb-54ae-45e9-ba18-fb680310415b",
   "metadata": {},
   "outputs": [
    {
     "data": {
      "text/plain": [
       "array(['Ice Hockey', 'Curling', 'Bobsleigh', 'Military Ski Patrol',\n",
       "       'Figure Skating', 'Ski Jumping', 'Alpinism',\n",
       "       'Cross Country Skiing', 'Nordic Combined', 'Speed Skating'],\n",
       "      dtype=object)"
      ]
     },
     "execution_count": 57,
     "metadata": {},
     "output_type": "execute_result"
    }
   ],
   "source": [
    "aux_year = winter.query(\"Year == 1924\")\n",
    "aux_year['Sport'].unique()"
   ]
  },
  {
   "cell_type": "markdown",
   "id": "dec2a3d5-8e19-4af8-a5b9-7f550c8619ac",
   "metadata": {},
   "source": [
    "Sobre este punto, queremos comparar las medallas de oro ganadas por los países que han sido sedes de WOG en este siglo. A saber: Salt Lake City, Turín, Vancouver, Sochi y Pyeongchang. Se calcula el promedio de las doradas ganadas y posteriormente, se compara con las medallas de oro obtenidas cuando fueron anfitrionas olímpicas."
   ]
  },
  {
   "cell_type": "code",
   "execution_count": 58,
   "id": "6dce9f32-6a7d-4066-91cd-88f12bc95f6b",
   "metadata": {},
   "outputs": [
    {
     "name": "stderr",
     "output_type": "stream",
     "text": [
      "/home/jupyterlab/conda/envs/python/lib/python3.7/site-packages/ipykernel_launcher.py:20: FutureWarning: this method is deprecated in favour of `Styler.format(precision=..)`\n"
     ]
    },
    {
     "data": {
      "text/html": [
       "<style type=\"text/css\">\n",
       "#T_45698_row0_col0 {\n",
       "  background-color: #034267;\n",
       "  color: #f1f1f1;\n",
       "}\n",
       "#T_45698_row0_col1, #T_45698_row4_col0 {\n",
       "  background-color: #023858;\n",
       "  color: #f1f1f1;\n",
       "}\n",
       "#T_45698_row1_col0, #T_45698_row1_col1, #T_45698_row3_col1 {\n",
       "  background-color: #fff7fb;\n",
       "  color: #000000;\n",
       "}\n",
       "#T_45698_row2_col0 {\n",
       "  background-color: #acc0dd;\n",
       "  color: #000000;\n",
       "}\n",
       "#T_45698_row2_col1 {\n",
       "  background-color: #045687;\n",
       "  color: #f1f1f1;\n",
       "}\n",
       "#T_45698_row3_col0 {\n",
       "  background-color: #b8c6e0;\n",
       "  color: #000000;\n",
       "}\n",
       "#T_45698_row4_col1 {\n",
       "  background-color: #589ec8;\n",
       "  color: #f1f1f1;\n",
       "}\n",
       "</style>\n",
       "<table id=\"T_45698_\">\n",
       "  <caption>Medallas de oro en WOG de los últimos 5 países anfitriones</caption>\n",
       "  <thead>\n",
       "    <tr>\n",
       "      <th class=\"index_name level0\" >Is_Host</th>\n",
       "      <th class=\"col_heading level0 col0\" >Not Hosting</th>\n",
       "      <th class=\"col_heading level0 col1\" >Hosting</th>\n",
       "    </tr>\n",
       "    <tr>\n",
       "      <th class=\"index_name level0\" >Country</th>\n",
       "      <th class=\"blank col0\" >&nbsp;</th>\n",
       "      <th class=\"blank col1\" >&nbsp;</th>\n",
       "    </tr>\n",
       "  </thead>\n",
       "  <tbody>\n",
       "    <tr>\n",
       "      <th id=\"T_45698_level0_row0\" class=\"row_heading level0 row0\" >Canada</th>\n",
       "      <td id=\"T_45698_row0_col0\" class=\"data row0 col0\" >8.75</td>\n",
       "      <td id=\"T_45698_row0_col1\" class=\"data row0 col1\" >14.00</td>\n",
       "    </tr>\n",
       "    <tr>\n",
       "      <th id=\"T_45698_level0_row1\" class=\"row_heading level0 row1\" >Italy</th>\n",
       "      <td id=\"T_45698_row1_col0\" class=\"data row1 col0\" >2.00</td>\n",
       "      <td id=\"T_45698_row1_col1\" class=\"data row1 col1\" >5.00</td>\n",
       "    </tr>\n",
       "    <tr>\n",
       "      <th id=\"T_45698_level0_row2\" class=\"row_heading level0 row2\" >Russia</th>\n",
       "      <td id=\"T_45698_row2_col0\" class=\"data row2 col0\" >4.50</td>\n",
       "      <td id=\"T_45698_row2_col1\" class=\"data row2 col1\" >13.00</td>\n",
       "    </tr>\n",
       "    <tr>\n",
       "      <th id=\"T_45698_level0_row3\" class=\"row_heading level0 row3\" >South Korea</th>\n",
       "      <td id=\"T_45698_row3_col0\" class=\"data row3 col0\" >4.25</td>\n",
       "      <td id=\"T_45698_row3_col1\" class=\"data row3 col1\" >5.00</td>\n",
       "    </tr>\n",
       "    <tr>\n",
       "      <th id=\"T_45698_level0_row4\" class=\"row_heading level0 row4\" >United States of America</th>\n",
       "      <td id=\"T_45698_row4_col0\" class=\"data row4 col0\" >9.00</td>\n",
       "      <td id=\"T_45698_row4_col1\" class=\"data row4 col1\" >10.00</td>\n",
       "    </tr>\n",
       "  </tbody>\n",
       "</table>\n"
      ],
      "text/plain": [
       "<pandas.io.formats.style.Styler at 0x7f5c5d4e3bd0>"
      ]
     },
     "execution_count": 58,
     "metadata": {},
     "output_type": "execute_result"
    }
   ],
   "source": [
    "temp = winter_city.query(\"Year >= 2002\")\n",
    "temp['Year'].unique()\n",
    "\n",
    "df_new_5 = temp.groupby(['Year','Host_Country','Country','Medal'])['Medal'].count().unstack().fillna(0).astype(int).reset_index()\n",
    "\n",
    "# Adding 2018 data to historic\n",
    "df_new_5 = df_new_5.append(df_winter_full_refined)\n",
    "\n",
    "# Removing Russia as many Olympic games were competed in as the Soviet Union, containing several modern day nations\n",
    "\n",
    "df_new_5 = df_new_5.query(\"Country != 'Russia' | Country != 'Soviet Union'\") #df_new = df_new.query(\"NOC != 'RUS' | NOC != 'URS'\") Olympic Athletes from Russia\n",
    "\n",
    "df_new_5['Is_Host'] = np.where(df_new_5['Host_Country'] == df_new_5['Country'],1,0)\n",
    "df_new_5['Total'] = df_new_5['Bronze'] + df_new_5['Silver'] + df_new_5['Gold']\n",
    "\n",
    "#df_new_5.head(10)\n",
    "sample = df_new_5.groupby(['Country','Is_Host'])['Gold'].mean().unstack().dropna()     #Cambiar Gold por Total para las medallas totales\n",
    "sample = sample.rename(columns={0 : \"Not Hosting\", 1 : \"Hosting\"})\n",
    "sample = sample.reset_index().query(\"Country == 'South Korea' | Country == 'Russia' | Country == 'Canada' | Country == 'Italy' | Country == 'United States of America' \").set_index('Country')\n",
    "sample.style.set_caption(\"Medallas de oro en WOG de los últimos 5 países anfitriones\").set_precision(2).background_gradient()"
   ]
  },
  {
   "cell_type": "markdown",
   "id": "af734432-8bfb-47b9-b355-9328475a86ce",
   "metadata": {},
   "source": [
    "Con la tabla anterior, se procede a graficar el resultado. Observando en detalle, se aprecia que en todos los casos hubo un aumento de medallas de oro ganadas cuando el país fue anfitrión de WOG. Destaca el caso de Rusia, que en los juegos de Sochi aumentó de forma considerable los oros logrados."
   ]
  },
  {
   "cell_type": "code",
   "execution_count": 59,
   "id": "dbb3867d-a36e-46cf-b342-7c66afd45984",
   "metadata": {},
   "outputs": [
    {
     "data": {
      "image/png": "[encoded data removed]",
      "text/plain": [
       "<Figure size 750x600 with 1 Axes>"
      ]
     },
     "metadata": {},
     "output_type": "display_data"
    }
   ],
   "source": [
    "import matplotlib.lines as mlines\n",
    "\n",
    "low_c = '#B73832'\n",
    "high_c = '#244747'\n",
    "\n",
    "left_label = [str(c) + ', '+ str(round(y)) for c, y in zip(sample.index, sample['Not Hosting'])]\n",
    "right_label = [str(c) + ', '+ str(round(y)) for c, y in zip(sample.index, sample['Hosting'])]\n",
    "klass = [low_c if (y1-y2) < 0 else high_c for y1, y2 in zip(sample['Not Hosting'], sample['Hosting'])]\n",
    "\n",
    "# draw line\n",
    "# https://stackoverflow.com/questions/36470343/how-to-draw-a-line-with-matplotlib/36479941\n",
    "def newline(p1, p2, color='black'):\n",
    "    ax = plt.gca()\n",
    "    l = mlines.Line2D([p1[0],p2[0]], [p1[1],p2[1]], color=low_c if p1[1]-p2[1] > 0 else high_c, marker='o', markersize=6)\n",
    "    ax.add_line(l)\n",
    "    return l\n",
    "\n",
    "fig, ax = plt.subplots(1,1,figsize=(5,4), dpi= 150, facecolor='azure')\n",
    "\n",
    "ax.set_facecolor('azure')\n",
    "ax.vlines(x=1, ymin=-5, ymax=80, color='black', alpha=0.7, linewidth=1, linestyles='dotted')\n",
    "ax.vlines(x=3, ymin=-5, ymax=80, color='black', alpha=0.7, linewidth=1, linestyles='dotted')\n",
    "\n",
    "# Points\n",
    "ax.scatter(y=sample['Not Hosting'], x=np.repeat(1, sample.shape[0]), s=40,linewidth=1.5, color='black', alpha=0.7)\n",
    "ax.scatter(y=sample['Hosting'], x=np.repeat(3, sample.shape[0]), s=40, linewidth=1.5,color='black', alpha=0.7)\n",
    "\n",
    "# Line Segments and Annotation\n",
    "for p1, p2, c in zip(sample['Not Hosting'], sample['Hosting'], sample.index):\n",
    "    newline([1,p1], [3,p2])\n",
    "    ax.text(1-0.1, p1, c + ', ' + str(round(p1,1)), horizontalalignment='right', verticalalignment='center', fontdict={'size':7})\n",
    "    ax.text(3+0.1, p2, c + ', ' + str(round(p2,1)), horizontalalignment='left', verticalalignment='center', fontdict={'size':7})\n",
    "\n",
    "\n",
    "ax.text(0.2,20,\"Promedio de medallas de Oro en los Juegos Olímpicos de Invierno\", fontsize=10,fontweight='bold',fontfamily='serif',color='#323232')\n",
    "\n",
    "ax.set(xlim=(0,4), ylim=(-5,sample.max().max()+5), ylabel='') #ylim=(), \n",
    "ax.set_xticks([1,3])\n",
    "ax.set_xticklabels([\"Not Hosting\", \"Hosting\"],fontsize=7)\n",
    "#ax.xaxis.tick_top()\n",
    "\n",
    "for s in [\"top\",\"right\",\"left\",\"bottom\"]:\n",
    "    ax.spines[s].set_visible(False)\n",
    "    \n",
    "ax.tick_params(axis='both',which='both',length=0,labelleft=False) \n",
    "plt.rcParams[\"font.family\"] = \"monospace\"\n",
    "\n",
    "plt.show()"
   ]
  },
  {
   "cell_type": "markdown",
   "id": "7f021573-e1a1-4db3-b483-afb6d3a48246",
   "metadata": {},
   "source": [
    "https://www.gracenote.com/virtual-medal-table/"
   ]
  },
  {
   "cell_type": "code",
   "execution_count": 60,
   "id": "72802be6-f18c-444f-8269-edfdc4016cc3",
   "metadata": {},
   "outputs": [
    {
     "name": "stderr",
     "output_type": "stream",
     "text": [
      "/home/jupyterlab/conda/envs/python/lib/python3.7/site-packages/ipykernel_launcher.py:5: FutureWarning: this method is deprecated in favour of `Styler.format(precision=..)`\n",
      "  \"\"\"\n"
     ]
    },
    {
     "data": {
      "text/html": [
       "<style type=\"text/css\">\n",
       "#T_3594d_row0_col0 {\n",
       "  background-color: #94b6d7;\n",
       "  color: #000000;\n",
       "}\n",
       "#T_3594d_row0_col1 {\n",
       "  background-color: #d0d1e6;\n",
       "  color: #000000;\n",
       "}\n",
       "#T_3594d_row1_col0 {\n",
       "  background-color: #c2cbe2;\n",
       "  color: #000000;\n",
       "}\n",
       "#T_3594d_row1_col1 {\n",
       "  background-color: #86b0d3;\n",
       "  color: #000000;\n",
       "}\n",
       "#T_3594d_row2_col0 {\n",
       "  background-color: #e8e4f0;\n",
       "  color: #000000;\n",
       "}\n",
       "#T_3594d_row2_col1, #T_3594d_row4_col1 {\n",
       "  background-color: #dedcec;\n",
       "  color: #000000;\n",
       "}\n",
       "#T_3594d_row3_col0 {\n",
       "  background-color: #02395a;\n",
       "  color: #f1f1f1;\n",
       "}\n",
       "#T_3594d_row3_col1 {\n",
       "  background-color: #e5e1ef;\n",
       "  color: #000000;\n",
       "}\n",
       "#T_3594d_row4_col0 {\n",
       "  background-color: #dbdaeb;\n",
       "  color: #000000;\n",
       "}\n",
       "#T_3594d_row5_col0 {\n",
       "  background-color: #f5eff6;\n",
       "  color: #000000;\n",
       "}\n",
       "#T_3594d_row5_col1 {\n",
       "  background-color: #e1dfed;\n",
       "  color: #000000;\n",
       "}\n",
       "#T_3594d_row6_col0 {\n",
       "  background-color: #157ab5;\n",
       "  color: #f1f1f1;\n",
       "}\n",
       "#T_3594d_row6_col1 {\n",
       "  background-color: #4c99c5;\n",
       "  color: #f1f1f1;\n",
       "}\n",
       "#T_3594d_row7_col0, #T_3594d_row7_col1 {\n",
       "  background-color: #023858;\n",
       "  color: #f1f1f1;\n",
       "}\n",
       "#T_3594d_row8_col0, #T_3594d_row8_col1 {\n",
       "  background-color: #fff7fb;\n",
       "  color: #000000;\n",
       "}\n",
       "#T_3594d_row9_col0 {\n",
       "  background-color: #cacee5;\n",
       "  color: #000000;\n",
       "}\n",
       "#T_3594d_row9_col1, #T_3594d_row11_col1 {\n",
       "  background-color: #73a9cf;\n",
       "  color: #f1f1f1;\n",
       "}\n",
       "#T_3594d_row10_col0 {\n",
       "  background-color: #d2d3e7;\n",
       "  color: #000000;\n",
       "}\n",
       "#T_3594d_row10_col1 {\n",
       "  background-color: #ece7f2;\n",
       "  color: #000000;\n",
       "}\n",
       "#T_3594d_row11_col0 {\n",
       "  background-color: #60a1ca;\n",
       "  color: #f1f1f1;\n",
       "}\n",
       "</style>\n",
       "<table id=\"T_3594d_\">\n",
       "  <caption>Medallas de oro en WOG de los países anfitriones</caption>\n",
       "  <thead>\n",
       "    <tr>\n",
       "      <th class=\"index_name level0\" >Is_Host</th>\n",
       "      <th class=\"col_heading level0 col0\" >Not Hosting</th>\n",
       "      <th class=\"col_heading level0 col1\" >Hosting</th>\n",
       "    </tr>\n",
       "    <tr>\n",
       "      <th class=\"index_name level0\" >Country</th>\n",
       "      <th class=\"blank col0\" >&nbsp;</th>\n",
       "      <th class=\"blank col1\" >&nbsp;</th>\n",
       "    </tr>\n",
       "  </thead>\n",
       "  <tbody>\n",
       "    <tr>\n",
       "      <th id=\"T_3594d_level0_row0\" class=\"row_heading level0 row0\" >Austria</th>\n",
       "      <td id=\"T_3594d_row0_col0\" class=\"data row0 col0\" >10.19</td>\n",
       "      <td id=\"T_3594d_row0_col1\" class=\"data row0 col1\" >9.00</td>\n",
       "    </tr>\n",
       "    <tr>\n",
       "      <th id=\"T_3594d_level0_row1\" class=\"row_heading level0 row1\" >Canada</th>\n",
       "      <td id=\"T_3594d_row1_col0\" class=\"data row1 col0\" >8.00</td>\n",
       "      <td id=\"T_3594d_row1_col1\" class=\"data row1 col1\" >15.50</td>\n",
       "    </tr>\n",
       "    <tr>\n",
       "      <th id=\"T_3594d_level0_row2\" class=\"row_heading level0 row2\" >France</th>\n",
       "      <td id=\"T_3594d_row2_col0\" class=\"data row2 col0\" >5.42</td>\n",
       "      <td id=\"T_3594d_row2_col1\" class=\"data row2 col1\" >7.00</td>\n",
       "    </tr>\n",
       "    <tr>\n",
       "      <th id=\"T_3594d_level0_row3\" class=\"row_heading level0 row3\" >Germany</th>\n",
       "      <td id=\"T_3594d_row3_col0\" class=\"data row3 col0\" >20.10</td>\n",
       "      <td id=\"T_3594d_row3_col1\" class=\"data row3 col1\" >6.00</td>\n",
       "    </tr>\n",
       "    <tr>\n",
       "      <th id=\"T_3594d_level0_row4\" class=\"row_heading level0 row4\" >Italy</th>\n",
       "      <td id=\"T_3594d_row4_col0\" class=\"data row4 col0\" >6.47</td>\n",
       "      <td id=\"T_3594d_row4_col1\" class=\"data row4 col1\" >7.00</td>\n",
       "    </tr>\n",
       "    <tr>\n",
       "      <th id=\"T_3594d_level0_row5\" class=\"row_heading level0 row5\" >Japan</th>\n",
       "      <td id=\"T_3594d_row5_col0\" class=\"data row5 col0\" >4.09</td>\n",
       "      <td id=\"T_3594d_row5_col1\" class=\"data row5 col1\" >6.50</td>\n",
       "    </tr>\n",
       "    <tr>\n",
       "      <th id=\"T_3594d_level0_row6\" class=\"row_heading level0 row6\" >Norway</th>\n",
       "      <td id=\"T_3594d_row6_col0\" class=\"data row6 col0\" >15.19</td>\n",
       "      <td id=\"T_3594d_row6_col1\" class=\"data row6 col1\" >19.50</td>\n",
       "    </tr>\n",
       "    <tr>\n",
       "      <th id=\"T_3594d_level0_row7\" class=\"row_heading level0 row7\" >Russia</th>\n",
       "      <td id=\"T_3594d_row7_col0\" class=\"data row7 col0\" >20.19</td>\n",
       "      <td id=\"T_3594d_row7_col1\" class=\"data row7 col1\" >33.00</td>\n",
       "    </tr>\n",
       "    <tr>\n",
       "      <th id=\"T_3594d_level0_row8\" class=\"row_heading level0 row8\" >Serbia</th>\n",
       "      <td id=\"T_3594d_row8_col0\" class=\"data row8 col0\" >3.00</td>\n",
       "      <td id=\"T_3594d_row8_col1\" class=\"data row8 col1\" >1.00</td>\n",
       "    </tr>\n",
       "    <tr>\n",
       "      <th id=\"T_3594d_level0_row9\" class=\"row_heading level0 row9\" >South Korea</th>\n",
       "      <td id=\"T_3594d_row9_col0\" class=\"data row9 col0\" >7.57</td>\n",
       "      <td id=\"T_3594d_row9_col1\" class=\"data row9 col1\" >17.00</td>\n",
       "    </tr>\n",
       "    <tr>\n",
       "      <th id=\"T_3594d_level0_row10\" class=\"row_heading level0 row10\" >Switzerland</th>\n",
       "      <td id=\"T_3594d_row10_col0\" class=\"data row10 col0\" >7.10</td>\n",
       "      <td id=\"T_3594d_row10_col1\" class=\"data row10 col1\" >5.00</td>\n",
       "    </tr>\n",
       "    <tr>\n",
       "      <th id=\"T_3594d_level0_row11\" class=\"row_heading level0 row11\" >United States of America</th>\n",
       "      <td id=\"T_3594d_row11_col0\" class=\"data row11 col0\" >12.32</td>\n",
       "      <td id=\"T_3594d_row11_col1\" class=\"data row11 col1\" >17.00</td>\n",
       "    </tr>\n",
       "  </tbody>\n",
       "</table>\n"
      ],
      "text/plain": [
       "<pandas.io.formats.style.Styler at 0x7f5c5e0528d0>"
      ]
     },
     "execution_count": 60,
     "metadata": {},
     "output_type": "execute_result"
    }
   ],
   "source": [
    "#Cambiar Total por Gold en la línea de abajo para las medallas totales\n",
    "sample_t = df_new.groupby(['Country','Is_Host'])['Total'].mean().unstack().dropna()  \n",
    "sample_t = sample_t.rename(columns={0 : \"Not Hosting\", 1 : \"Hosting\"})\n",
    "sample_t = sample_t.reset_index().query(\"Country == 'Russia' | Country == 'Canada' | Country == 'Italy' | Country == 'United States of America' | Country == 'Japan' | Country == 'Norway' | Country == 'France' | Country == 'Switzerland' | Country == 'Serbia' | Country == 'Austria' | Country == 'Germany' | Country == 'South Korea'\").set_index('Country')\n",
    "sample_t.style.set_caption(\"Medallas de oro en WOG de los países anfitriones\").set_precision(2).background_gradient()"
   ]
  },
  {
   "cell_type": "markdown",
   "id": "da3b4675-bd81-423e-93d9-e4aa1d3d9c79",
   "metadata": {},
   "source": [
    "Ahora se procede a graficar el medallero histórico de determinados países, haciendo énfasis (si lo amerita) cuando fueron anfitriones. "
   ]
  },
  {
   "cell_type": "code",
   "execution_count": 61,
   "id": "3d25b83e-2e64-4d01-96e1-98dbaee6748c",
   "metadata": {
    "tags": []
   },
   "outputs": [
    {
     "name": "stderr",
     "output_type": "stream",
     "text": [
      "/home/jupyterlab/conda/envs/python/lib/python3.7/site-packages/ipykernel_launcher.py:30: FutureWarning: Indexing with multiple keys (implicitly converted to a tuple of keys) will be deprecated, use a list instead.\n",
      "findfont: Font family ['sansserif'] not found. Falling back to DejaVu Sans.\n"
     ]
    },
    {
     "data": {
      "image/png": "[encoded data removed]",
      "text/plain": [
       "<Figure size 1296x360 with 1 Axes>"
      ]
     },
     "metadata": {},
     "output_type": "display_data"
    }
   ],
   "source": [
    "fig, ax = plt.subplots(1, 1, figsize=(18, 5), facecolor='azure')\n",
    "\n",
    "ax.set_facecolor('azure')\n",
    "\n",
    "color = [\"#a97142\", \"lightgray\", '#f0c05a']\n",
    "medals_list = ['Bronze', 'Silver', 'Gold']\n",
    "\n",
    "# Host years US\n",
    "#ax.axvspan(1930,1934, facecolor='lightgray',alpha=0.7)\n",
    "#ax.axvspan(1958,1962, facecolor='lightgray',alpha=0.7)\n",
    "#ax.axvspan(1978,1982, facecolor='lightgray',alpha=0.7)\n",
    "#ax.axvspan(2000,2004, facecolor='lightgray',alpha=0.7)\n",
    "\n",
    "#Host Years IT\n",
    "#ax.axvspan(1954,1958, facecolor='lightgray',alpha=0.7)\n",
    "#ax.axvspan(2004,2008, facecolor='lightgray',alpha=0.7)\n",
    "\n",
    "#Host Years CA\n",
    "#ax.axvspan(1986,1990, facecolor='lightgray',alpha=0.7)\n",
    "#ax.axvspan(2008,2012, facecolor='lightgray',alpha=0.7)\n",
    "\n",
    "#Host Years RU\n",
    "#ax.axvspan(2012,2016, facecolor='lightgray',alpha=0.7)\n",
    "\n",
    "#Host years KR\n",
    "ax.axvspan(2016,2020, facecolor='lightgray',alpha=0.7)\n",
    "\n",
    "\n",
    "for i, medal in enumerate(medals_list):\n",
    "    temp = df_new.query(\"Country == 'South Korea'\").groupby(['Year'])['Gold','Silver','Bronze'].sum().cumsum(axis=1)[medal]\n",
    "    ax.bar(temp.index, temp, color=color[i],width=1.5,ec='black')\n",
    "    \n",
    "\n",
    "Xstart, Xend = ax.get_xlim()\n",
    "Ystart, Yend = ax.get_ylim()\n",
    "\n",
    "ax.text(Xstart+2,Yend+8, 'Medallas Olímpicas de la República de Corea en Invierno', fontsize=18,fontweight='bold',fontfamily='serif',color='#323232')\n",
    "ax.text(Xstart+2,Yend+6, 'Anfitrión', fontsize=13,fontweight='bold',fontfamily='sansserif',color='gray')\n",
    "\n",
    "ax.set_xlim(Xstart+2, Xend)\n",
    "ax.grid(which='both', axis='x', zorder=5, color='gray', linestyle=':', dashes=(1,5))\n",
    "ax.set_axisbelow(True)\n",
    "for s in ['top', 'right']:\n",
    "    ax.spines[s].set_visible(False)\n",
    "    \n",
    "plt.show()"
   ]
  },
  {
   "cell_type": "code",
   "execution_count": 62,
   "id": "160c761c-78be-495c-b1ff-61aaf9ec83fa",
   "metadata": {},
   "outputs": [
    {
     "data": {
      "image/png": "[encoded data removed]",
      "text/plain": [
       "<Figure size 864x504 with 1 Axes>"
      ]
     },
     "metadata": {},
     "output_type": "display_data"
    }
   ],
   "source": [
    "fig, ax = plt.subplots(1,1, figsize=(12,7), facecolor='azure')\n",
    "\n",
    "value1= sample['Not Hosting']\n",
    "value2=sample['Hosting']\n",
    "\n",
    "ordered_df = sample.sort_values(by='Hosting', ascending=True)\n",
    "my_range=range(1,len(ordered_df.index)+1)\n",
    "\n",
    "plt.hlines(y=my_range, xmin=ordered_df['Not Hosting'], xmax=ordered_df['Hosting'], color='lightgray', alpha=0.7,zorder=1)\n",
    "plt.scatter(ordered_df['Not Hosting'], my_range, color='#244747', alpha=1, ec='black',label='Not Hosting',s=250)\n",
    "plt.scatter(ordered_df['Hosting'], my_range, color='#B73832', alpha=1 , ec='black', label='Hosting',s=250)\n",
    "\n",
    "for i in range(0,5):\n",
    "    ax.annotate(ordered_df.index[i], \n",
    "                   xy=((ordered_df[[\"Not Hosting\", \"Hosting\"]].max(axis=1)[i]+0.5),i+1), \n",
    "                   va = 'center', ha='left',fontweight='light', fontfamily='monospace',fontsize=12, color='black',rotation=0)\n",
    "\n",
    "ax.axes.get_yaxis().set_ticks([])\n",
    "\n",
    "for s in ['top','left', 'bottom', 'right']:\n",
    "    ax.spines[s].set_visible(False)\n",
    "    \n",
    "ax.set_facecolor('azure')    \n",
    "ax.set_xlabel(\"Medallas Totales\",fontfamily='monospace',loc='left',color='gray')\n",
    "ax.tick_params(axis='both', which='both',left=False, bottom=False,labelbottom=True) \n",
    "ax.set_yticklabels([])\n",
    "    \n",
    "Xstart, Xend = ax.get_xlim()\n",
    "Ystart, Yend = ax.get_ylim()\n",
    "\n",
    "ax.text(Xstart,Yend+0.9, 'Promedio de medallas de Oro en los Juegos Olímpicos de Invierno', fontsize=15,fontweight='bold',fontfamily='serif',color='#323232')\n",
    "ax.text(Xstart,Yend+0.7, 'Anfitrión', fontsize=12,fontweight='bold',fontfamily='sansserif',color='#B73832')\n",
    "ax.text(Xstart,Yend+0.5, 'No Anfitrión', fontsize=12,fontweight='bold',fontfamily='sansserif',color='#244747')\n",
    "\n",
    "plt.show()"
   ]
  },
  {
   "cell_type": "markdown",
   "id": "f226a98c-a67a-45f4-8b52-25cfb23b5875",
   "metadata": {},
   "source": [
    "**4. PARTICIPACIÓN FEMENINA EN WOG**"
   ]
  },
  {
   "cell_type": "markdown",
   "id": "a5efd429-d068-4608-b6b9-31e8baa3e471",
   "metadata": {},
   "source": [
    "Antes de trabajar en la participación de los atletas en WOG, se realiza una depuración de los atletas duplicados en una misma edición de los juegos de invierno. Si tomamos el caso de que un atleta participa en distintos eventos de un mismo deporte (por ejemplo Biatlón), se debe descartar su inclusión en el contador de atletas participantes ya que se estaría, por lo menos, duplicando su participacíon."
   ]
  },
  {
   "cell_type": "code",
   "execution_count": 63,
   "id": "4a499174-8289-4ff9-b299-68538cdef510",
   "metadata": {},
   "outputs": [
    {
     "name": "stdout",
     "output_type": "stream",
     "text": [
      "<class 'pandas.core.frame.DataFrame'>\n",
      "Int64Index: 28586 entries, 5 to 271115\n",
      "Data columns (total 17 columns):\n",
      " #   Column   Non-Null Count  Dtype  \n",
      "---  ------   --------------  -----  \n",
      " 0   ID       28586 non-null  int64  \n",
      " 1   Name     28586 non-null  object \n",
      " 2   Sex      28586 non-null  object \n",
      " 3   Age      28586 non-null  float64\n",
      " 4   Height   28586 non-null  float64\n",
      " 5   Weight   28586 non-null  float64\n",
      " 6   Team     28586 non-null  object \n",
      " 7   NOC      28586 non-null  object \n",
      " 8   Games    28586 non-null  object \n",
      " 9   Year     28586 non-null  int64  \n",
      " 10  Season   28586 non-null  object \n",
      " 11  City     28586 non-null  object \n",
      " 12  Sport    28586 non-null  object \n",
      " 13  Event    28586 non-null  object \n",
      " 14  Medal    4249 non-null   object \n",
      " 15  Country  28586 non-null  object \n",
      " 16  Notes    389 non-null    object \n",
      "dtypes: float64(3), int64(2), object(12)\n",
      "memory usage: 3.9+ MB\n"
     ]
    }
   ],
   "source": [
    "hola = df_winter.drop_duplicates(subset=['Name', 'Year'], keep='last')\n",
    "hola.info()"
   ]
  },
  {
   "cell_type": "markdown",
   "id": "bc6c5e2a-57ad-4bcc-b463-6de745a9d610",
   "metadata": {},
   "source": [
    "Se crean dos nuevos dataframe que contengan la información de las (los) atletas participantes en Juegos Olímpicos de Invierno. Igualmente, se crearán otros dos dataframes con las (los) medallistas en este gran evento."
   ]
  },
  {
   "cell_type": "code",
   "execution_count": 64,
   "id": "55d9c435-6134-4ffc-b002-a66520682f40",
   "metadata": {},
   "outputs": [],
   "source": [
    "#Atletas femeninas en JJOO Invierno\n",
    "womenOlympics = hola[(hola.Sex=='F') & (hola.Season=='Winter')]\n",
    "\n",
    "#Dataset medallistas femeninas\n",
    "womenMedal = winter[(winter.Sex=='F')] #womenMedal = countMedal_winter[(countMedal_winter.Sex=='F')]\n",
    "\n",
    "#Atletas masculinos en JJOO Invierno\n",
    "menOlympics = hola[(hola.Sex=='M') & (hola.Season=='Winter')]\n",
    "\n",
    "#Dataset medallistas masculinos\n",
    "menMedal = winter[(winter.Sex=='M')] #menMedal = countMedal_winter[(countMedal_winter.Sex=='M')]"
   ]
  },
  {
   "cell_type": "markdown",
   "id": "243a74a4-04a7-47b7-b4ce-571421813605",
   "metadata": {},
   "source": [
    "Una vez obtenido los dataframes, se grafica la participación de los atletas masculinos y femeninos en los Juegos de Invierno por medio de una gráfica lineal."
   ]
  },
  {
   "cell_type": "code",
   "execution_count": 65,
   "id": "54007c4e-8414-49e2-8069-aa3023d99dac",
   "metadata": {},
   "outputs": [
    {
     "data": {
      "text/plain": [
       "<AxesSubplot:title={'center':'Participación femenina y masculina en Juegos Olímpicos de Invierno'}, xlabel='Year', ylabel='Athletes'>"
      ]
     },
     "execution_count": 65,
     "metadata": {},
     "output_type": "execute_result"
    },
    {
     "data": {
      "image/png": "[encoded data removed]",
      "text/plain": [
       "<Figure size 720x432 with 1 Axes>"
      ]
     },
     "metadata": {},
     "output_type": "display_data"
    }
   ],
   "source": [
    "fig, ax = plt.subplots(1,1, figsize=(10,6), facecolor='azure')\n",
    "ax.set_facecolor('azure')\n",
    "ax.set_axisbelow(True)\n",
    "\n",
    "ax.tick_params(axis=u'both', which=u'both',length=0)\n",
    "ax.set_ylabel(\"Atletas\",fontfamily='monospace',loc='bottom',color='gray')\n",
    "ax.set_xlabel(\"Años\",fontfamily='monospace',loc='center',color='gray')\n",
    "\n",
    "ax.set_title('Participación femenina y masculina en Juegos Olímpicos de Invierno', fontsize=15,fontweight='bold',fontfamily='serif',color='#323232')\n",
    "\n",
    "women_men = hola.groupby('Year')['Sex'].value_counts().rename(\"Athletes\").reset_index() #games[season].groupby([\"Year\",\"Sex\"]).ID.count().rename(\"Count\").reset_index()\n",
    "sns.lineplot(data = women_men,x = 'Year',y = 'Athletes',hue = 'Sex')"
   ]
  },
  {
   "cell_type": "markdown",
   "id": "6e6c169c-a355-48fe-96f8-827864f02f36",
   "metadata": {},
   "source": [
    "Se muestra un aumento progresivo en la particiación femenina a partir de los juegos de 1992 (Francia), aunque la diferencia respecto a la masculina es evidente. Ahora, para saber cuánto ha disminuido la brecha entre mujeres y hombres, se realiza la gráfica abajo. Esta muestra la proporción histórica de mujeres respecto a hombres. Hasta Sochi 2014, la relación entre hombres y mujeres era de 1,41 a 1, ver tabla _final_."
   ]
  },
  {
   "cell_type": "code",
   "execution_count": 66,
   "id": "a3dc4fad-ee1c-4406-b565-d264ac366fc7",
   "metadata": {},
   "outputs": [
    {
     "data": {
      "text/plain": [
       "<AxesSubplot:title={'center':'Ratio de participación femenina y masculina en los Juegos Olímpicos de Invierno'}, xlabel='Year', ylabel='Ratio'>"
      ]
     },
     "execution_count": 66,
     "metadata": {},
     "output_type": "execute_result"
    },
    {
     "data": {
      "image/png": "[encoded data removed]",
      "text/plain": [
       "<Figure size 720x432 with 1 Axes>"
      ]
     },
     "metadata": {},
     "output_type": "display_data"
    }
   ],
   "source": [
    "fig, ax = plt.subplots(1,1, figsize=(10,6), facecolor='azure')\n",
    "ax.set_facecolor('azure')\n",
    "ax.set_axisbelow(True)\n",
    "\n",
    "ax.tick_params(axis=u'both', which=u'both',length=0)\n",
    "ax.set_ylabel(\"Ratio\",fontfamily='monospace',loc='bottom',color='gray')\n",
    "ax.set_xlabel(\"Year\",fontfamily='monospace',loc='center',color='gray')\n",
    "\n",
    "ax.set_title('Ratio de participación femenina y masculina en los Juegos Olímpicos de Invierno', fontsize=15,fontweight='bold',fontfamily='serif',color='#323232')\n",
    "\n",
    "women_men = women_men.pivot(index=\"Year\", columns=\"Sex\", values=\"Athletes\")\n",
    "women_men[\"Ratio\"] = women_men[\"M\"] / women_men[\"F\"]\n",
    "final = women_men.reset_index()\n",
    "\n",
    "sns.lineplot(data = final, x=\"Year\", y=\"Ratio\")"
   ]
  },
  {
   "cell_type": "code",
   "execution_count": 67,
   "id": "0239b285-9fad-4996-883d-169daf5c688c",
   "metadata": {},
   "outputs": [
    {
     "data": {
      "text/html": [
       "<div>\n",
       "<style scoped>\n",
       "    .dataframe tbody tr th:only-of-type {\n",
       "        vertical-align: middle;\n",
       "    }\n",
       "\n",
       "    .dataframe tbody tr th {\n",
       "        vertical-align: top;\n",
       "    }\n",
       "\n",
       "    .dataframe thead th {\n",
       "        text-align: right;\n",
       "    }\n",
       "</style>\n",
       "<table border=\"1\" class=\"dataframe\">\n",
       "  <thead>\n",
       "    <tr style=\"text-align: right;\">\n",
       "      <th>Sex</th>\n",
       "      <th>Year</th>\n",
       "      <th>F</th>\n",
       "      <th>M</th>\n",
       "      <th>Ratio</th>\n",
       "    </tr>\n",
       "  </thead>\n",
       "  <tbody>\n",
       "    <tr>\n",
       "      <th>0</th>\n",
       "      <td>1924</td>\n",
       "      <td>13</td>\n",
       "      <td>300</td>\n",
       "      <td>23.076923</td>\n",
       "    </tr>\n",
       "    <tr>\n",
       "      <th>1</th>\n",
       "      <td>1928</td>\n",
       "      <td>28</td>\n",
       "      <td>433</td>\n",
       "      <td>15.464286</td>\n",
       "    </tr>\n",
       "    <tr>\n",
       "      <th>2</th>\n",
       "      <td>1932</td>\n",
       "      <td>21</td>\n",
       "      <td>231</td>\n",
       "      <td>11.000000</td>\n",
       "    </tr>\n",
       "    <tr>\n",
       "      <th>3</th>\n",
       "      <td>1936</td>\n",
       "      <td>80</td>\n",
       "      <td>588</td>\n",
       "      <td>7.350000</td>\n",
       "    </tr>\n",
       "    <tr>\n",
       "      <th>4</th>\n",
       "      <td>1948</td>\n",
       "      <td>77</td>\n",
       "      <td>591</td>\n",
       "      <td>7.675325</td>\n",
       "    </tr>\n",
       "    <tr>\n",
       "      <th>5</th>\n",
       "      <td>1952</td>\n",
       "      <td>109</td>\n",
       "      <td>585</td>\n",
       "      <td>5.366972</td>\n",
       "    </tr>\n",
       "    <tr>\n",
       "      <th>6</th>\n",
       "      <td>1956</td>\n",
       "      <td>132</td>\n",
       "      <td>689</td>\n",
       "      <td>5.219697</td>\n",
       "    </tr>\n",
       "    <tr>\n",
       "      <th>7</th>\n",
       "      <td>1960</td>\n",
       "      <td>144</td>\n",
       "      <td>521</td>\n",
       "      <td>3.618056</td>\n",
       "    </tr>\n",
       "    <tr>\n",
       "      <th>8</th>\n",
       "      <td>1964</td>\n",
       "      <td>200</td>\n",
       "      <td>894</td>\n",
       "      <td>4.470000</td>\n",
       "    </tr>\n",
       "    <tr>\n",
       "      <th>9</th>\n",
       "      <td>1968</td>\n",
       "      <td>211</td>\n",
       "      <td>949</td>\n",
       "      <td>4.497630</td>\n",
       "    </tr>\n",
       "    <tr>\n",
       "      <th>10</th>\n",
       "      <td>1972</td>\n",
       "      <td>206</td>\n",
       "      <td>802</td>\n",
       "      <td>3.893204</td>\n",
       "    </tr>\n",
       "    <tr>\n",
       "      <th>11</th>\n",
       "      <td>1976</td>\n",
       "      <td>231</td>\n",
       "      <td>896</td>\n",
       "      <td>3.878788</td>\n",
       "    </tr>\n",
       "    <tr>\n",
       "      <th>12</th>\n",
       "      <td>1980</td>\n",
       "      <td>235</td>\n",
       "      <td>836</td>\n",
       "      <td>3.557447</td>\n",
       "    </tr>\n",
       "    <tr>\n",
       "      <th>13</th>\n",
       "      <td>1984</td>\n",
       "      <td>277</td>\n",
       "      <td>995</td>\n",
       "      <td>3.592058</td>\n",
       "    </tr>\n",
       "    <tr>\n",
       "      <th>14</th>\n",
       "      <td>1988</td>\n",
       "      <td>315</td>\n",
       "      <td>1110</td>\n",
       "      <td>3.523810</td>\n",
       "    </tr>\n",
       "    <tr>\n",
       "      <th>15</th>\n",
       "      <td>1992</td>\n",
       "      <td>488</td>\n",
       "      <td>1313</td>\n",
       "      <td>2.690574</td>\n",
       "    </tr>\n",
       "    <tr>\n",
       "      <th>16</th>\n",
       "      <td>1994</td>\n",
       "      <td>522</td>\n",
       "      <td>1216</td>\n",
       "      <td>2.329502</td>\n",
       "    </tr>\n",
       "    <tr>\n",
       "      <th>17</th>\n",
       "      <td>1998</td>\n",
       "      <td>788</td>\n",
       "      <td>1390</td>\n",
       "      <td>1.763959</td>\n",
       "    </tr>\n",
       "    <tr>\n",
       "      <th>18</th>\n",
       "      <td>2002</td>\n",
       "      <td>885</td>\n",
       "      <td>1512</td>\n",
       "      <td>1.708475</td>\n",
       "    </tr>\n",
       "    <tr>\n",
       "      <th>19</th>\n",
       "      <td>2006</td>\n",
       "      <td>955</td>\n",
       "      <td>1539</td>\n",
       "      <td>1.611518</td>\n",
       "    </tr>\n",
       "    <tr>\n",
       "      <th>20</th>\n",
       "      <td>2010</td>\n",
       "      <td>1032</td>\n",
       "      <td>1503</td>\n",
       "      <td>1.456395</td>\n",
       "    </tr>\n",
       "    <tr>\n",
       "      <th>21</th>\n",
       "      <td>2014</td>\n",
       "      <td>1102</td>\n",
       "      <td>1642</td>\n",
       "      <td>1.490018</td>\n",
       "    </tr>\n",
       "  </tbody>\n",
       "</table>\n",
       "</div>"
      ],
      "text/plain": [
       "Sex  Year     F     M      Ratio\n",
       "0    1924    13   300  23.076923\n",
       "1    1928    28   433  15.464286\n",
       "2    1932    21   231  11.000000\n",
       "3    1936    80   588   7.350000\n",
       "4    1948    77   591   7.675325\n",
       "5    1952   109   585   5.366972\n",
       "6    1956   132   689   5.219697\n",
       "7    1960   144   521   3.618056\n",
       "8    1964   200   894   4.470000\n",
       "9    1968   211   949   4.497630\n",
       "10   1972   206   802   3.893204\n",
       "11   1976   231   896   3.878788\n",
       "12   1980   235   836   3.557447\n",
       "13   1984   277   995   3.592058\n",
       "14   1988   315  1110   3.523810\n",
       "15   1992   488  1313   2.690574\n",
       "16   1994   522  1216   2.329502\n",
       "17   1998   788  1390   1.763959\n",
       "18   2002   885  1512   1.708475\n",
       "19   2006   955  1539   1.611518\n",
       "20   2010  1032  1503   1.456395\n",
       "21   2014  1102  1642   1.490018"
      ]
     },
     "execution_count": 67,
     "metadata": {},
     "output_type": "execute_result"
    }
   ],
   "source": [
    "final"
   ]
  },
  {
   "cell_type": "markdown",
   "id": "2c33c98d-b649-4bcd-9e5a-3a0600f1b678",
   "metadata": {},
   "source": [
    "Ahora, queremos comprobar qué países han sido más igualitarios en cuánto a la representación femenina. Se realiza este gráfico de dispersión que representa los atletas masculinos en un eje (en este caso X) y las atletas femeninas en el eje Y. El resultado corrobora la desigualdad de género en los países, salvo con contadas exepciones. El más manifiesto, China."
   ]
  },
  {
   "cell_type": "code",
   "execution_count": 68,
   "id": "e42c48b0-606c-492d-a146-139ec437e048",
   "metadata": {},
   "outputs": [
    {
     "data": {
      "text/plain": [
       "[<matplotlib.lines.Line2D at 0x7f5c5e095590>]"
      ]
     },
     "execution_count": 68,
     "metadata": {},
     "output_type": "execute_result"
    },
    {
     "data": {
      "image/png": "[encoded data removed]",
      "text/plain": [
       "<Figure size 720x432 with 1 Axes>"
      ]
     },
     "metadata": {},
     "output_type": "display_data"
    }
   ],
   "source": [
    "country_women = womenOlympics.groupby('Country')['Sex'].value_counts().rename(\"Athletes\").reset_index()\n",
    "country_women\n",
    "\n",
    "country_men = menOlympics.groupby('Country')['Sex'].value_counts().rename(\"Athletes\").reset_index()\n",
    "country_men\n",
    "\n",
    "country_men_women = country_women.merge(country_men, how='left', on='Country')\n",
    "country_men_women.rename(columns={'Sex_x':'Women', 'Sex_y':'Men','Athletes_x':'Women Athletes', 'Athletes_y':'Men Athletes'}, inplace=True)\n",
    "country_men_women.replace(np.nan, 0, inplace = True)\n",
    "country_men_women['Men'].replace(0, 'M', inplace = True)\n",
    "country_men_women['Men Athletes'] = country_men_women['Men Athletes'].astype('int64')\n",
    "country_men_women\n",
    "#country_men_women.to_csv(\"lista.csv\", index=False)\n",
    "\n",
    "fig, ax = plt.subplots(1,1, figsize=(10,6), facecolor='azure')\n",
    "ax.set_facecolor('azure')\n",
    "ax.set_axisbelow(True)\n",
    "\n",
    "ax.tick_params(axis=u'both', which=u'both',length=0)\n",
    "#ax.set_ylabel(\"Athletes\",fontfamily='monospace',loc='bottom',color='gray')\n",
    "#ax.set_xlabel(\"Year\",fontfamily='monospace',loc='center',color='gray')\n",
    "\n",
    "ax.set_title('Número de atltas femenina y másculina en Juegos Olímpicos de Invierno por país', fontsize=15,fontweight='bold',fontfamily='serif',color='#323232')\n",
    "sns.scatterplot(country_men_women['Men Athletes'],country_men_women['Women Athletes'], s=100)\n",
    "x=np.linspace(0, 1000, 100)\n",
    "plt.plot(x, x + 0, linestyle='solid')"
   ]
  },
  {
   "cell_type": "markdown",
   "id": "4f2006c2-c3c6-43dc-9a37-f1e94ec51172",
   "metadata": {},
   "source": [
    "Haciendo zoom en el extremo inferior izquierdo, se ve en detalle la participación de atletas masculinos y femeninos en WOG."
   ]
  },
  {
   "cell_type": "code",
   "execution_count": 69,
   "id": "dcc60f09-e9e2-4698-9c39-b795a0439ff6",
   "metadata": {},
   "outputs": [
    {
     "data": {
      "text/plain": [
       "[<matplotlib.lines.Line2D at 0x7f5c5e09f3d0>]"
      ]
     },
     "execution_count": 69,
     "metadata": {},
     "output_type": "execute_result"
    },
    {
     "data": {
      "image/png": "[encoded data removed]",
      "text/plain": [
       "<Figure size 720x432 with 1 Axes>"
      ]
     },
     "metadata": {},
     "output_type": "display_data"
    }
   ],
   "source": [
    "fig, ax = plt.subplots(1,1, figsize=(10,6), facecolor='azure')\n",
    "ax.set_facecolor('azure')\n",
    "ax.set_axisbelow(True)\n",
    "\n",
    "ax.tick_params(axis=u'both', which=u'both',length=0)\n",
    "ax.set_title('Número de atltas femenina y másculina en Juegos Olímpicos de Invierno por país: Zoom', fontsize=15,fontweight='bold',fontfamily='serif',color='#323232')\n",
    "sns.scatterplot(country_men_women['Men Athletes'],country_men_women['Women Athletes'], s=100)\n",
    "plt.ylim(-10, 300)\n",
    "plt.xlim(-10, 250)\n",
    "x=np.linspace(0, 300, 10)\n",
    "plt.plot(x, x + 0, linestyle='solid')"
   ]
  },
  {
   "cell_type": "markdown",
   "id": "9988ca91-2837-4c87-859d-d20549593fa6",
   "metadata": {},
   "source": [
    "La siguiente tabla muestra todos los países que, hasta Sochi 2014, han tenido mayor participación femenina que masculina."
   ]
  },
  {
   "cell_type": "code",
   "execution_count": 70,
   "id": "ebaae8dc-9537-4284-8741-b870f2263b5b",
   "metadata": {},
   "outputs": [
    {
     "data": {
      "text/html": [
       "<div>\n",
       "<style scoped>\n",
       "    .dataframe tbody tr th:only-of-type {\n",
       "        vertical-align: middle;\n",
       "    }\n",
       "\n",
       "    .dataframe tbody tr th {\n",
       "        vertical-align: top;\n",
       "    }\n",
       "\n",
       "    .dataframe thead th {\n",
       "        text-align: right;\n",
       "    }\n",
       "</style>\n",
       "<table border=\"1\" class=\"dataframe\">\n",
       "  <thead>\n",
       "    <tr style=\"text-align: right;\">\n",
       "      <th></th>\n",
       "      <th>Country</th>\n",
       "      <th>Women</th>\n",
       "      <th>Women Athletes</th>\n",
       "      <th>Men</th>\n",
       "      <th>Men Athletes</th>\n",
       "    </tr>\n",
       "  </thead>\n",
       "  <tbody>\n",
       "    <tr>\n",
       "      <th>15</th>\n",
       "      <td>China</td>\n",
       "      <td>F</td>\n",
       "      <td>289</td>\n",
       "      <td>M</td>\n",
       "      <td>187</td>\n",
       "    </tr>\n",
       "    <tr>\n",
       "      <th>16</th>\n",
       "      <td>Colombia</td>\n",
       "      <td>F</td>\n",
       "      <td>1</td>\n",
       "      <td>M</td>\n",
       "      <td>0</td>\n",
       "    </tr>\n",
       "    <tr>\n",
       "      <th>29</th>\n",
       "      <td>Honduras</td>\n",
       "      <td>F</td>\n",
       "      <td>1</td>\n",
       "      <td>M</td>\n",
       "      <td>0</td>\n",
       "    </tr>\n",
       "    <tr>\n",
       "      <th>46</th>\n",
       "      <td>Malta</td>\n",
       "      <td>F</td>\n",
       "      <td>1</td>\n",
       "      <td>M</td>\n",
       "      <td>0</td>\n",
       "    </tr>\n",
       "    <tr>\n",
       "      <th>55</th>\n",
       "      <td>North Korea</td>\n",
       "      <td>F</td>\n",
       "      <td>41</td>\n",
       "      <td>M</td>\n",
       "      <td>26</td>\n",
       "    </tr>\n",
       "    <tr>\n",
       "      <th>57</th>\n",
       "      <td>Paraguay</td>\n",
       "      <td>F</td>\n",
       "      <td>1</td>\n",
       "      <td>M</td>\n",
       "      <td>0</td>\n",
       "    </tr>\n",
       "    <tr>\n",
       "      <th>75</th>\n",
       "      <td>Togo</td>\n",
       "      <td>F</td>\n",
       "      <td>2</td>\n",
       "      <td>M</td>\n",
       "      <td>0</td>\n",
       "    </tr>\n",
       "    <tr>\n",
       "      <th>79</th>\n",
       "      <td>Uzbekistan</td>\n",
       "      <td>F</td>\n",
       "      <td>14</td>\n",
       "      <td>M</td>\n",
       "      <td>13</td>\n",
       "    </tr>\n",
       "  </tbody>\n",
       "</table>\n",
       "</div>"
      ],
      "text/plain": [
       "        Country Women  Women Athletes Men  Men Athletes\n",
       "15        China     F             289   M           187\n",
       "16     Colombia     F               1   M             0\n",
       "29     Honduras     F               1   M             0\n",
       "46        Malta     F               1   M             0\n",
       "55  North Korea     F              41   M            26\n",
       "57     Paraguay     F               1   M             0\n",
       "75         Togo     F               2   M             0\n",
       "79   Uzbekistan     F              14   M            13"
      ]
     },
     "execution_count": 70,
     "metadata": {},
     "output_type": "execute_result"
    }
   ],
   "source": [
    "country_men_women[country_men_women['Women Athletes'] > country_men_women['Men Athletes']]"
   ]
  },
  {
   "cell_type": "markdown",
   "id": "2c7cb375-cdae-45b5-9e26-e4d12289d5b6",
   "metadata": {},
   "source": [
    "De la misma manera, se grafica el total de medallas ganadas por atletas masculinos y femenino en WOG. Se observa que la brecha entre géneros se ha acercado bastante; lo cual se valida en la gráfica de proporción: hay 1.2 medallistas hombres por cada medallista mujer."
   ]
  },
  {
   "cell_type": "code",
   "execution_count": 71,
   "id": "1884d960-6201-44be-a3a9-77084264d87c",
   "metadata": {},
   "outputs": [
    {
     "data": {
      "text/plain": [
       "<AxesSubplot:title={'center':'Medallistas femeninas y masculinas en los Juegos Olímpicos de Invierno'}, xlabel='Year', ylabel='Athletes'>"
      ]
     },
     "execution_count": 71,
     "metadata": {},
     "output_type": "execute_result"
    },
    {
     "data": {
      "image/png": "[encoded data removed]",
      "text/plain": [
       "<Figure size 720x432 with 1 Axes>"
      ]
     },
     "metadata": {},
     "output_type": "display_data"
    }
   ],
   "source": [
    "fig, ax = plt.subplots(1,1, figsize=(10,6), facecolor='azure')\n",
    "ax.set_facecolor('azure')\n",
    "ax.set_axisbelow(True)\n",
    "\n",
    "ax.tick_params(axis=u'both', which=u'both',length=0)\n",
    "ax.set_ylabel(\"Athletes\",fontfamily='monospace',loc='bottom',color='gray')\n",
    "ax.set_xlabel(\"Year\",fontfamily='monospace',loc='center',color='gray')\n",
    "\n",
    "ax.set_title('Medallistas femeninas y masculinas en los Juegos Olímpicos de Invierno', fontsize=15,fontweight='bold',fontfamily='serif',color='#323232')\n",
    "\n",
    "women_menMedalist = countMedal_winter.groupby('Year')['Sex'].value_counts().rename(\"Athletes\").reset_index() #games[season].groupby([\"Year\",\"Sex\"]).ID.count().rename(\"Count\").reset_index()\n",
    "sns.lineplot(data = women_menMedalist,x = 'Year',y = 'Athletes',hue = 'Sex')"
   ]
  },
  {
   "cell_type": "code",
   "execution_count": 72,
   "id": "e532ea21-5042-4523-87a0-38e448df6573",
   "metadata": {},
   "outputs": [
    {
     "data": {
      "text/plain": [
       "<AxesSubplot:title={'center':'Ratio de medallistas femeninas y masculinas en los Juegos Olímpicos de Invierno'}, xlabel='Year', ylabel='Ratio'>"
      ]
     },
     "execution_count": 72,
     "metadata": {},
     "output_type": "execute_result"
    },
    {
     "data": {
      "image/png": "[encoded data removed]",
      "text/plain": [
       "<Figure size 720x432 with 1 Axes>"
      ]
     },
     "metadata": {},
     "output_type": "display_data"
    }
   ],
   "source": [
    "fig, ax = plt.subplots(1,1, figsize=(10,6), facecolor='azure')\n",
    "ax.set_facecolor('azure')\n",
    "ax.set_axisbelow(True)\n",
    "\n",
    "ax.tick_params(axis=u'both', which=u'both',length=0)\n",
    "ax.set_ylabel(\"Ratio\",fontfamily='monospace',loc='bottom',color='gray')\n",
    "ax.set_xlabel(\"Year\",fontfamily='monospace',loc='center',color='gray')\n",
    "\n",
    "ax.set_title('Ratio de medallistas femeninas y masculinas en los Juegos Olímpicos de Invierno', fontsize=15,fontweight='bold',fontfamily='serif',color='#323232')\n",
    "\n",
    "\n",
    "women_menMedalist = women_menMedalist.pivot(index=\"Year\", columns=\"Sex\", values=\"Athletes\")\n",
    "women_menMedalist[\"Ratio\"] = women_menMedalist[\"M\"] / women_menMedalist[\"F\"]\n",
    "final2 =women_menMedalist.reset_index()\n",
    "\n",
    "sns.lineplot(data = final2, x=\"Year\", y=\"Ratio\")"
   ]
  },
  {
   "cell_type": "code",
   "execution_count": 73,
   "id": "591b63a8-a2d6-406e-a5a9-9d9a2f826831",
   "metadata": {},
   "outputs": [
    {
     "data": {
      "text/html": [
       "<div>\n",
       "<style scoped>\n",
       "    .dataframe tbody tr th:only-of-type {\n",
       "        vertical-align: middle;\n",
       "    }\n",
       "\n",
       "    .dataframe tbody tr th {\n",
       "        vertical-align: top;\n",
       "    }\n",
       "\n",
       "    .dataframe thead th {\n",
       "        text-align: right;\n",
       "    }\n",
       "</style>\n",
       "<table border=\"1\" class=\"dataframe\">\n",
       "  <thead>\n",
       "    <tr style=\"text-align: right;\">\n",
       "      <th>Sex</th>\n",
       "      <th>Year</th>\n",
       "      <th>F</th>\n",
       "      <th>M</th>\n",
       "      <th>Ratio</th>\n",
       "    </tr>\n",
       "  </thead>\n",
       "  <tbody>\n",
       "    <tr>\n",
       "      <th>0</th>\n",
       "      <td>1924</td>\n",
       "      <td>3</td>\n",
       "      <td>50</td>\n",
       "      <td>16.666667</td>\n",
       "    </tr>\n",
       "    <tr>\n",
       "      <th>1</th>\n",
       "      <td>1928</td>\n",
       "      <td>4</td>\n",
       "      <td>37</td>\n",
       "      <td>9.250000</td>\n",
       "    </tr>\n",
       "    <tr>\n",
       "      <th>2</th>\n",
       "      <td>1932</td>\n",
       "      <td>4</td>\n",
       "      <td>38</td>\n",
       "      <td>9.500000</td>\n",
       "    </tr>\n",
       "    <tr>\n",
       "      <th>3</th>\n",
       "      <td>1936</td>\n",
       "      <td>7</td>\n",
       "      <td>44</td>\n",
       "      <td>6.285714</td>\n",
       "    </tr>\n",
       "    <tr>\n",
       "      <th>4</th>\n",
       "      <td>1948</td>\n",
       "      <td>13</td>\n",
       "      <td>53</td>\n",
       "      <td>4.076923</td>\n",
       "    </tr>\n",
       "    <tr>\n",
       "      <th>5</th>\n",
       "      <td>1952</td>\n",
       "      <td>16</td>\n",
       "      <td>51</td>\n",
       "      <td>3.187500</td>\n",
       "    </tr>\n",
       "    <tr>\n",
       "      <th>6</th>\n",
       "      <td>1956</td>\n",
       "      <td>18</td>\n",
       "      <td>53</td>\n",
       "      <td>2.944444</td>\n",
       "    </tr>\n",
       "    <tr>\n",
       "      <th>7</th>\n",
       "      <td>1960</td>\n",
       "      <td>31</td>\n",
       "      <td>50</td>\n",
       "      <td>1.612903</td>\n",
       "    </tr>\n",
       "    <tr>\n",
       "      <th>8</th>\n",
       "      <td>1964</td>\n",
       "      <td>37</td>\n",
       "      <td>66</td>\n",
       "      <td>1.783784</td>\n",
       "    </tr>\n",
       "    <tr>\n",
       "      <th>9</th>\n",
       "      <td>1968</td>\n",
       "      <td>36</td>\n",
       "      <td>68</td>\n",
       "      <td>1.888889</td>\n",
       "    </tr>\n",
       "    <tr>\n",
       "      <th>10</th>\n",
       "      <td>1972</td>\n",
       "      <td>39</td>\n",
       "      <td>66</td>\n",
       "      <td>1.692308</td>\n",
       "    </tr>\n",
       "    <tr>\n",
       "      <th>11</th>\n",
       "      <td>1976</td>\n",
       "      <td>39</td>\n",
       "      <td>72</td>\n",
       "      <td>1.846154</td>\n",
       "    </tr>\n",
       "    <tr>\n",
       "      <th>12</th>\n",
       "      <td>1980</td>\n",
       "      <td>39</td>\n",
       "      <td>76</td>\n",
       "      <td>1.948718</td>\n",
       "    </tr>\n",
       "    <tr>\n",
       "      <th>13</th>\n",
       "      <td>1984</td>\n",
       "      <td>43</td>\n",
       "      <td>74</td>\n",
       "      <td>1.720930</td>\n",
       "    </tr>\n",
       "    <tr>\n",
       "      <th>14</th>\n",
       "      <td>1988</td>\n",
       "      <td>52</td>\n",
       "      <td>86</td>\n",
       "      <td>1.653846</td>\n",
       "    </tr>\n",
       "    <tr>\n",
       "      <th>15</th>\n",
       "      <td>1992</td>\n",
       "      <td>74</td>\n",
       "      <td>94</td>\n",
       "      <td>1.270270</td>\n",
       "    </tr>\n",
       "    <tr>\n",
       "      <th>16</th>\n",
       "      <td>1994</td>\n",
       "      <td>79</td>\n",
       "      <td>101</td>\n",
       "      <td>1.278481</td>\n",
       "    </tr>\n",
       "    <tr>\n",
       "      <th>17</th>\n",
       "      <td>1998</td>\n",
       "      <td>91</td>\n",
       "      <td>111</td>\n",
       "      <td>1.219780</td>\n",
       "    </tr>\n",
       "    <tr>\n",
       "      <th>18</th>\n",
       "      <td>2002</td>\n",
       "      <td>106</td>\n",
       "      <td>127</td>\n",
       "      <td>1.198113</td>\n",
       "    </tr>\n",
       "    <tr>\n",
       "      <th>19</th>\n",
       "      <td>2006</td>\n",
       "      <td>113</td>\n",
       "      <td>139</td>\n",
       "      <td>1.230088</td>\n",
       "    </tr>\n",
       "    <tr>\n",
       "      <th>20</th>\n",
       "      <td>2010</td>\n",
       "      <td>119</td>\n",
       "      <td>139</td>\n",
       "      <td>1.168067</td>\n",
       "    </tr>\n",
       "    <tr>\n",
       "      <th>21</th>\n",
       "      <td>2014</td>\n",
       "      <td>134</td>\n",
       "      <td>161</td>\n",
       "      <td>1.201493</td>\n",
       "    </tr>\n",
       "  </tbody>\n",
       "</table>\n",
       "</div>"
      ],
      "text/plain": [
       "Sex  Year    F    M      Ratio\n",
       "0    1924    3   50  16.666667\n",
       "1    1928    4   37   9.250000\n",
       "2    1932    4   38   9.500000\n",
       "3    1936    7   44   6.285714\n",
       "4    1948   13   53   4.076923\n",
       "5    1952   16   51   3.187500\n",
       "6    1956   18   53   2.944444\n",
       "7    1960   31   50   1.612903\n",
       "8    1964   37   66   1.783784\n",
       "9    1968   36   68   1.888889\n",
       "10   1972   39   66   1.692308\n",
       "11   1976   39   72   1.846154\n",
       "12   1980   39   76   1.948718\n",
       "13   1984   43   74   1.720930\n",
       "14   1988   52   86   1.653846\n",
       "15   1992   74   94   1.270270\n",
       "16   1994   79  101   1.278481\n",
       "17   1998   91  111   1.219780\n",
       "18   2002  106  127   1.198113\n",
       "19   2006  113  139   1.230088\n",
       "20   2010  119  139   1.168067\n",
       "21   2014  134  161   1.201493"
      ]
     },
     "execution_count": 73,
     "metadata": {},
     "output_type": "execute_result"
    }
   ],
   "source": [
    "final2"
   ]
  },
  {
   "cell_type": "markdown",
   "id": "a2da5d68-69ad-4736-b14f-aeb991bd28f4",
   "metadata": {},
   "source": [
    "Los siguientes bloques de código muestran la distribución de los (las) atletas que han participado en los Juegos de Invierno. Así podemos ver su cantidad a lo largo de la historia. De igual manera, se incluye el año en que este deporte apareció por primera vez en WOG [por género]."
   ]
  },
  {
   "cell_type": "markdown",
   "id": "7315a989-38fb-4bac-8119-bd36e83be6c1",
   "metadata": {},
   "source": [
    "\n",
    "Disciplina donde han ganado más medallas\n",
    "Distribución de deportes"
   ]
  },
  {
   "cell_type": "code",
   "execution_count": 74,
   "id": "a26ce2ee-88d3-4f63-9865-666a706e6f0b",
   "metadata": {},
   "outputs": [],
   "source": [
    "def winter_sport_by_gender(gender, womenOlympics, menOlympics):\n",
    "    if gender == 'F':\n",
    "        t = womenOlympics[['Name','Sport']]\n",
    "        test = t.groupby('Sport',as_index=False).count().sort_values('Name', ascending=False)\n",
    "        \n",
    "        q = womenOlympics[['Sport','Year']].sort_values('Year', ascending=False)\n",
    "        q.drop_duplicates(subset=['Sport'], keep='last', inplace=True)\n",
    "    else:\n",
    "        t = menOlympics[['Name','Sport']]\n",
    "        test = t.groupby('Sport',as_index=False).count().sort_values('Name', ascending=False)\n",
    "        \n",
    "        q = menOlympics[['Sport','Year']].sort_values('Year', ascending=False)\n",
    "        q.drop_duplicates(subset=['Sport'], keep='last', inplace=True)\n",
    "        \n",
    "    debut_w = test.merge(q, how='left', on='Sport')\n",
    "    debut_w.rename(columns={'Name':'Athletes', 'Year':'Debut'}, inplace=True)\n",
    "\n",
    "    return debut_w"
   ]
  },
  {
   "cell_type": "code",
   "execution_count": 75,
   "id": "d39262b6-f180-4469-bfca-7b5d46ec6433",
   "metadata": {},
   "outputs": [
    {
     "data": {
      "text/html": [
       "<div>\n",
       "<style scoped>\n",
       "    .dataframe tbody tr th:only-of-type {\n",
       "        vertical-align: middle;\n",
       "    }\n",
       "\n",
       "    .dataframe tbody tr th {\n",
       "        vertical-align: top;\n",
       "    }\n",
       "\n",
       "    .dataframe thead th {\n",
       "        text-align: right;\n",
       "    }\n",
       "</style>\n",
       "<table border=\"1\" class=\"dataframe\">\n",
       "  <thead>\n",
       "    <tr style=\"text-align: right;\">\n",
       "      <th></th>\n",
       "      <th>Sport</th>\n",
       "      <th>Athletes</th>\n",
       "      <th>Debut</th>\n",
       "    </tr>\n",
       "  </thead>\n",
       "  <tbody>\n",
       "    <tr>\n",
       "      <th>0</th>\n",
       "      <td>Alpine Skiing</td>\n",
       "      <td>1524</td>\n",
       "      <td>1936</td>\n",
       "    </tr>\n",
       "    <tr>\n",
       "      <th>1</th>\n",
       "      <td>Cross Country Skiing</td>\n",
       "      <td>1193</td>\n",
       "      <td>1952</td>\n",
       "    </tr>\n",
       "    <tr>\n",
       "      <th>2</th>\n",
       "      <td>Figure Skating</td>\n",
       "      <td>1097</td>\n",
       "      <td>1924</td>\n",
       "    </tr>\n",
       "    <tr>\n",
       "      <th>3</th>\n",
       "      <td>Speed Skating</td>\n",
       "      <td>883</td>\n",
       "      <td>1960</td>\n",
       "    </tr>\n",
       "    <tr>\n",
       "      <th>4</th>\n",
       "      <td>Ice Hockey</td>\n",
       "      <td>754</td>\n",
       "      <td>1998</td>\n",
       "    </tr>\n",
       "    <tr>\n",
       "      <th>5</th>\n",
       "      <td>Biathlon</td>\n",
       "      <td>637</td>\n",
       "      <td>1992</td>\n",
       "    </tr>\n",
       "    <tr>\n",
       "      <th>6</th>\n",
       "      <td>Freestyle Skiing</td>\n",
       "      <td>432</td>\n",
       "      <td>1992</td>\n",
       "    </tr>\n",
       "    <tr>\n",
       "      <th>7</th>\n",
       "      <td>Snowboarding</td>\n",
       "      <td>372</td>\n",
       "      <td>1998</td>\n",
       "    </tr>\n",
       "    <tr>\n",
       "      <th>8</th>\n",
       "      <td>Luge</td>\n",
       "      <td>365</td>\n",
       "      <td>1964</td>\n",
       "    </tr>\n",
       "    <tr>\n",
       "      <th>9</th>\n",
       "      <td>Short Track Speed Skating</td>\n",
       "      <td>333</td>\n",
       "      <td>1992</td>\n",
       "    </tr>\n",
       "    <tr>\n",
       "      <th>10</th>\n",
       "      <td>Curling</td>\n",
       "      <td>222</td>\n",
       "      <td>1998</td>\n",
       "    </tr>\n",
       "    <tr>\n",
       "      <th>11</th>\n",
       "      <td>Bobsleigh</td>\n",
       "      <td>143</td>\n",
       "      <td>2002</td>\n",
       "    </tr>\n",
       "    <tr>\n",
       "      <th>12</th>\n",
       "      <td>Skeleton</td>\n",
       "      <td>66</td>\n",
       "      <td>2002</td>\n",
       "    </tr>\n",
       "    <tr>\n",
       "      <th>13</th>\n",
       "      <td>Ski Jumping</td>\n",
       "      <td>30</td>\n",
       "      <td>2014</td>\n",
       "    </tr>\n",
       "  </tbody>\n",
       "</table>\n",
       "</div>"
      ],
      "text/plain": [
       "                        Sport  Athletes  Debut\n",
       "0               Alpine Skiing      1524   1936\n",
       "1        Cross Country Skiing      1193   1952\n",
       "2              Figure Skating      1097   1924\n",
       "3               Speed Skating       883   1960\n",
       "4                  Ice Hockey       754   1998\n",
       "5                    Biathlon       637   1992\n",
       "6            Freestyle Skiing       432   1992\n",
       "7                Snowboarding       372   1998\n",
       "8                        Luge       365   1964\n",
       "9   Short Track Speed Skating       333   1992\n",
       "10                    Curling       222   1998\n",
       "11                  Bobsleigh       143   2002\n",
       "12                   Skeleton        66   2002\n",
       "13                Ski Jumping        30   2014"
      ]
     },
     "execution_count": 75,
     "metadata": {},
     "output_type": "execute_result"
    }
   ],
   "source": [
    "history = winter_sport_by_gender('F', womenOlympics, menOlympics)\n",
    "history"
   ]
  },
  {
   "cell_type": "markdown",
   "id": "96989e46-d30b-4bdb-9e30-66e70b247a93",
   "metadata": {},
   "source": [
    "Se procede a continuación a mostrar la participación (y el número de medallas) femenina, masculina y total por país participante y en general. Aquí el análisis radica en la comparación entre atletas y medallas a fin de determinar qué deporte es de mejor rendimiento, esto es #medallas por atleta participante."
   ]
  },
  {
   "cell_type": "code",
   "execution_count": 76,
   "id": "9a1c9d78-cb98-4332-971c-297fc675d68c",
   "metadata": {},
   "outputs": [],
   "source": [
    "def women_winter_medal(noc, womenOlympics, womenMedal):\n",
    "    if noc != 'Overall':\n",
    "        selected_df = womenOlympics[womenOlympics['Country'] == noc]\n",
    "        result = selected_df[['Name','Sport']].groupby('Sport',as_index=False).count().sort_values('Name', ascending=False)\n",
    "        result.rename(columns={'Name':'Athletes'}, inplace=True)\n",
    "        \n",
    "        selected_df2 = womenMedal[womenMedal['Country'] == noc]\n",
    "        result2 = selected_df2[['Name','Sport']].groupby('Sport',as_index=False).count().sort_values('Name', ascending=False)\n",
    "        result2.rename(columns={'Name':'Medals'}, inplace=True)\n",
    "    else:\n",
    "        selected_df = womenOlympics\n",
    "        result = selected_df[['Name','Sport']].groupby('Sport',as_index=False).count().sort_values('Name', ascending=False)\n",
    "        result.rename(columns={'Name':'Athletes'}, inplace=True)\n",
    "        \n",
    "        selected_df2 = womenMedal\n",
    "        result2 = selected_df2[['Name','Sport']].groupby('Sport',as_index=False).count().sort_values('Name', ascending=False)\n",
    "        result2.rename(columns={'Name':'Medals'}, inplace=True)        \n",
    "    \n",
    "    final = result2.merge(result, how='left', on='Sport')\n",
    "    \n",
    "    return result, result2, final"
   ]
  },
  {
   "cell_type": "markdown",
   "id": "6a51a5f3-9166-453b-8aa7-43742625f490",
   "metadata": {},
   "source": [
    "<ol>\n",
    "    <li>numberW: Atletas femeninas </li>\n",
    "    <li>medalW: Medallistas femeninas</li>\n",
    "    <li>totalW: Atletas y medallistas femeninas</li>\n",
    "</ol>"
   ]
  },
  {
   "cell_type": "code",
   "execution_count": 77,
   "id": "f2bada48-abc7-4b29-a277-89f71cb0427e",
   "metadata": {},
   "outputs": [
    {
     "data": {
      "text/html": [
       "<div>\n",
       "<style scoped>\n",
       "    .dataframe tbody tr th:only-of-type {\n",
       "        vertical-align: middle;\n",
       "    }\n",
       "\n",
       "    .dataframe tbody tr th {\n",
       "        vertical-align: top;\n",
       "    }\n",
       "\n",
       "    .dataframe thead th {\n",
       "        text-align: right;\n",
       "    }\n",
       "</style>\n",
       "<table border=\"1\" class=\"dataframe\">\n",
       "  <thead>\n",
       "    <tr style=\"text-align: right;\">\n",
       "      <th></th>\n",
       "      <th>Sport</th>\n",
       "      <th>Athletes</th>\n",
       "    </tr>\n",
       "  </thead>\n",
       "  <tbody>\n",
       "    <tr>\n",
       "      <th>9</th>\n",
       "      <td>Speed Skating</td>\n",
       "      <td>62</td>\n",
       "    </tr>\n",
       "    <tr>\n",
       "      <th>6</th>\n",
       "      <td>Ice Hockey</td>\n",
       "      <td>58</td>\n",
       "    </tr>\n",
       "    <tr>\n",
       "      <th>4</th>\n",
       "      <td>Figure Skating</td>\n",
       "      <td>32</td>\n",
       "    </tr>\n",
       "    <tr>\n",
       "      <th>7</th>\n",
       "      <td>Short Track Speed Skating</td>\n",
       "      <td>31</td>\n",
       "    </tr>\n",
       "    <tr>\n",
       "      <th>1</th>\n",
       "      <td>Biathlon</td>\n",
       "      <td>29</td>\n",
       "    </tr>\n",
       "    <tr>\n",
       "      <th>2</th>\n",
       "      <td>Cross Country Skiing</td>\n",
       "      <td>29</td>\n",
       "    </tr>\n",
       "    <tr>\n",
       "      <th>5</th>\n",
       "      <td>Freestyle Skiing</td>\n",
       "      <td>23</td>\n",
       "    </tr>\n",
       "    <tr>\n",
       "      <th>8</th>\n",
       "      <td>Snowboarding</td>\n",
       "      <td>9</td>\n",
       "    </tr>\n",
       "    <tr>\n",
       "      <th>0</th>\n",
       "      <td>Alpine Skiing</td>\n",
       "      <td>8</td>\n",
       "    </tr>\n",
       "    <tr>\n",
       "      <th>3</th>\n",
       "      <td>Curling</td>\n",
       "      <td>8</td>\n",
       "    </tr>\n",
       "  </tbody>\n",
       "</table>\n",
       "</div>"
      ],
      "text/plain": [
       "                       Sport  Athletes\n",
       "9              Speed Skating        62\n",
       "6                 Ice Hockey        58\n",
       "4             Figure Skating        32\n",
       "7  Short Track Speed Skating        31\n",
       "1                   Biathlon        29\n",
       "2       Cross Country Skiing        29\n",
       "5           Freestyle Skiing        23\n",
       "8               Snowboarding         9\n",
       "0              Alpine Skiing         8\n",
       "3                    Curling         8"
      ]
     },
     "execution_count": 77,
     "metadata": {},
     "output_type": "execute_result"
    }
   ],
   "source": [
    "numberW, medalW, totalW = women_winter_medal('China', womenOlympics, womenMedal)\n",
    "numberW"
   ]
  },
  {
   "cell_type": "code",
   "execution_count": 78,
   "id": "21c2253e-8f7e-4b78-bbb6-8d42e36dfa7b",
   "metadata": {},
   "outputs": [],
   "source": [
    "def men_winter_medal(noc, menOlympics, menMedal):\n",
    "    if noc != 'Overall':\n",
    "        selected_df = menOlympics[menOlympics['Country'] == noc]\n",
    "        result = selected_df[['Name','Sport']].groupby('Sport',as_index=False).count().sort_values('Name', ascending=False)\n",
    "        result.rename(columns={'Name':'Athletes'}, inplace=True)\n",
    "        \n",
    "        selected_df2 = menMedal[menMedal['Country'] == noc]\n",
    "        result2 = selected_df2[['Name','Sport']].groupby('Sport',as_index=False).count().sort_values('Name', ascending=False)\n",
    "        result2.rename(columns={'Name':'Medals'}, inplace=True)\n",
    "    else:\n",
    "        selected_df = menOlympics\n",
    "        result = selected_df[['Name','Sport']].groupby('Sport',as_index=False).count().sort_values('Name', ascending=False)\n",
    "        result.rename(columns={'Name':'Athletes'}, inplace=True)\n",
    "        \n",
    "        selected_df2 = menMedal\n",
    "        result2 = selected_df2[['Name','Sport']].groupby('Sport',as_index=False).count().sort_values('Name', ascending=False)\n",
    "        result2.rename(columns={'Name':'Medals'}, inplace=True)        \n",
    "    \n",
    "    final = result2.merge(result, how='left', on='Sport')\n",
    "    \n",
    "    return result, result2, final"
   ]
  },
  {
   "cell_type": "markdown",
   "id": "2a66ba21-1363-4247-9f9c-fbd9cdc88619",
   "metadata": {},
   "source": [
    "<ol>\n",
    "    <li>numberM: Atletas masculinos</li>\n",
    "    <li>medalM: Medallistas masculinos</li>\n",
    "    <li>totalM: Atletas y medallistas masculinos</li>\n",
    "</ol>"
   ]
  },
  {
   "cell_type": "code",
   "execution_count": 79,
   "id": "1241745d-e7c4-4172-b940-22b4fb1fc0c7",
   "metadata": {},
   "outputs": [
    {
     "data": {
      "text/html": [
       "<div>\n",
       "<style scoped>\n",
       "    .dataframe tbody tr th:only-of-type {\n",
       "        vertical-align: middle;\n",
       "    }\n",
       "\n",
       "    .dataframe tbody tr th {\n",
       "        vertical-align: top;\n",
       "    }\n",
       "\n",
       "    .dataframe thead th {\n",
       "        text-align: right;\n",
       "    }\n",
       "</style>\n",
       "<table border=\"1\" class=\"dataframe\">\n",
       "  <thead>\n",
       "    <tr style=\"text-align: right;\">\n",
       "      <th></th>\n",
       "      <th>Sport</th>\n",
       "      <th>Athletes</th>\n",
       "    </tr>\n",
       "  </thead>\n",
       "  <tbody>\n",
       "    <tr>\n",
       "      <th>9</th>\n",
       "      <td>Speed Skating</td>\n",
       "      <td>45</td>\n",
       "    </tr>\n",
       "    <tr>\n",
       "      <th>4</th>\n",
       "      <td>Figure Skating</td>\n",
       "      <td>32</td>\n",
       "    </tr>\n",
       "    <tr>\n",
       "      <th>6</th>\n",
       "      <td>Short Track Speed Skating</td>\n",
       "      <td>29</td>\n",
       "    </tr>\n",
       "    <tr>\n",
       "      <th>2</th>\n",
       "      <td>Cross Country Skiing</td>\n",
       "      <td>24</td>\n",
       "    </tr>\n",
       "    <tr>\n",
       "      <th>1</th>\n",
       "      <td>Biathlon</td>\n",
       "      <td>17</td>\n",
       "    </tr>\n",
       "    <tr>\n",
       "      <th>5</th>\n",
       "      <td>Freestyle Skiing</td>\n",
       "      <td>16</td>\n",
       "    </tr>\n",
       "    <tr>\n",
       "      <th>3</th>\n",
       "      <td>Curling</td>\n",
       "      <td>9</td>\n",
       "    </tr>\n",
       "    <tr>\n",
       "      <th>0</th>\n",
       "      <td>Alpine Skiing</td>\n",
       "      <td>7</td>\n",
       "    </tr>\n",
       "    <tr>\n",
       "      <th>7</th>\n",
       "      <td>Ski Jumping</td>\n",
       "      <td>4</td>\n",
       "    </tr>\n",
       "    <tr>\n",
       "      <th>8</th>\n",
       "      <td>Snowboarding</td>\n",
       "      <td>4</td>\n",
       "    </tr>\n",
       "  </tbody>\n",
       "</table>\n",
       "</div>"
      ],
      "text/plain": [
       "                       Sport  Athletes\n",
       "9              Speed Skating        45\n",
       "4             Figure Skating        32\n",
       "6  Short Track Speed Skating        29\n",
       "2       Cross Country Skiing        24\n",
       "1                   Biathlon        17\n",
       "5           Freestyle Skiing        16\n",
       "3                    Curling         9\n",
       "0              Alpine Skiing         7\n",
       "7                Ski Jumping         4\n",
       "8               Snowboarding         4"
      ]
     },
     "execution_count": 79,
     "metadata": {},
     "output_type": "execute_result"
    }
   ],
   "source": [
    "numberM, medalM, totalM = men_winter_medal('China', menOlympics, menMedal)\n",
    "numberM"
   ]
  },
  {
   "cell_type": "code",
   "execution_count": 80,
   "id": "aa4c6625-5139-4d53-8906-e800bc52de49",
   "metadata": {},
   "outputs": [],
   "source": [
    "def athletes_winter_medal(noc, df_winter, countMedal_winter):\n",
    "    if noc != 'Overall':\n",
    "        selected_df = df_winter[df_winter['Country'] == noc]\n",
    "        result = selected_df[['Name','Sport']].groupby('Sport',as_index=False).count().sort_values('Name', ascending=False)\n",
    "        result.rename(columns={'Name':'Athletes'}, inplace=True)\n",
    "        \n",
    "        selected_df2 = countMedal_winter[countMedal_winter['Country'] == noc]\n",
    "        result2 = selected_df2[['Name','Sport']].groupby('Sport',as_index=False).count().sort_values('Name', ascending=False)\n",
    "        result2.rename(columns={'Name':'Medals'}, inplace=True)\n",
    "    else:\n",
    "        selected_df = df_winter\n",
    "        result = selected_df[['Name','Sport']].groupby('Sport',as_index=False).count().sort_values('Name', ascending=False)\n",
    "        result.rename(columns={'Name':'Athletes'}, inplace=True)\n",
    "        \n",
    "        selected_df2 = countMedal_winter\n",
    "        result2 = selected_df2[['Name','Sport']].groupby('Sport',as_index=False).count().sort_values('Name', ascending=False)\n",
    "        result2.rename(columns={'Name':'Medals'}, inplace=True)        \n",
    "    \n",
    "    final = result2.merge(result, how='left', on='Sport')\n",
    "    \n",
    "    return result, result2, final"
   ]
  },
  {
   "cell_type": "markdown",
   "id": "c7d00ae2-7675-4660-a10d-7c06a9eeb98e",
   "metadata": {},
   "source": [
    "<ol>\n",
    "    <li>athW: Atletas femeninas</li>\n",
    "    <li>athM: Atletas masculinos</li>\n",
    "    <li>totWM: Atletas masculinos y femeninos con medalla</li>\n",
    "</ol>"
   ]
  },
  {
   "cell_type": "code",
   "execution_count": 81,
   "id": "c6ae5847-af17-4dc7-a947-4c564592c7d6",
   "metadata": {},
   "outputs": [
    {
     "data": {
      "text/html": [
       "<div>\n",
       "<style scoped>\n",
       "    .dataframe tbody tr th:only-of-type {\n",
       "        vertical-align: middle;\n",
       "    }\n",
       "\n",
       "    .dataframe tbody tr th {\n",
       "        vertical-align: top;\n",
       "    }\n",
       "\n",
       "    .dataframe thead th {\n",
       "        text-align: right;\n",
       "    }\n",
       "</style>\n",
       "<table border=\"1\" class=\"dataframe\">\n",
       "  <thead>\n",
       "    <tr style=\"text-align: right;\">\n",
       "      <th></th>\n",
       "      <th>Sport</th>\n",
       "      <th>Athletes</th>\n",
       "    </tr>\n",
       "  </thead>\n",
       "  <tbody>\n",
       "    <tr>\n",
       "      <th>10</th>\n",
       "      <td>Speed Skating</td>\n",
       "      <td>107</td>\n",
       "    </tr>\n",
       "    <tr>\n",
       "      <th>4</th>\n",
       "      <td>Figure Skating</td>\n",
       "      <td>64</td>\n",
       "    </tr>\n",
       "    <tr>\n",
       "      <th>7</th>\n",
       "      <td>Short Track Speed Skating</td>\n",
       "      <td>60</td>\n",
       "    </tr>\n",
       "    <tr>\n",
       "      <th>6</th>\n",
       "      <td>Ice Hockey</td>\n",
       "      <td>58</td>\n",
       "    </tr>\n",
       "    <tr>\n",
       "      <th>2</th>\n",
       "      <td>Cross Country Skiing</td>\n",
       "      <td>53</td>\n",
       "    </tr>\n",
       "    <tr>\n",
       "      <th>1</th>\n",
       "      <td>Biathlon</td>\n",
       "      <td>46</td>\n",
       "    </tr>\n",
       "    <tr>\n",
       "      <th>5</th>\n",
       "      <td>Freestyle Skiing</td>\n",
       "      <td>39</td>\n",
       "    </tr>\n",
       "    <tr>\n",
       "      <th>3</th>\n",
       "      <td>Curling</td>\n",
       "      <td>17</td>\n",
       "    </tr>\n",
       "    <tr>\n",
       "      <th>0</th>\n",
       "      <td>Alpine Skiing</td>\n",
       "      <td>15</td>\n",
       "    </tr>\n",
       "    <tr>\n",
       "      <th>9</th>\n",
       "      <td>Snowboarding</td>\n",
       "      <td>13</td>\n",
       "    </tr>\n",
       "    <tr>\n",
       "      <th>8</th>\n",
       "      <td>Ski Jumping</td>\n",
       "      <td>4</td>\n",
       "    </tr>\n",
       "  </tbody>\n",
       "</table>\n",
       "</div>"
      ],
      "text/plain": [
       "                        Sport  Athletes\n",
       "10              Speed Skating       107\n",
       "4              Figure Skating        64\n",
       "7   Short Track Speed Skating        60\n",
       "6                  Ice Hockey        58\n",
       "2        Cross Country Skiing        53\n",
       "1                    Biathlon        46\n",
       "5            Freestyle Skiing        39\n",
       "3                     Curling        17\n",
       "0               Alpine Skiing        15\n",
       "9                Snowboarding        13\n",
       "8                 Ski Jumping         4"
      ]
     },
     "execution_count": 81,
     "metadata": {},
     "output_type": "execute_result"
    }
   ],
   "source": [
    "athW, athM, totWM = athletes_winter_medal('China', hola, countMedal_winter)  #df_winter\n",
    "athW"
   ]
  },
  {
   "cell_type": "code",
   "execution_count": 82,
   "id": "2220cb67-2e41-4757-9e3d-6cdec029405f",
   "metadata": {},
   "outputs": [
    {
     "data": {
      "text/html": [
       "<div>\n",
       "<style scoped>\n",
       "    .dataframe tbody tr th:only-of-type {\n",
       "        vertical-align: middle;\n",
       "    }\n",
       "\n",
       "    .dataframe tbody tr th {\n",
       "        vertical-align: top;\n",
       "    }\n",
       "\n",
       "    .dataframe thead th {\n",
       "        text-align: right;\n",
       "    }\n",
       "</style>\n",
       "<table border=\"1\" class=\"dataframe\">\n",
       "  <thead>\n",
       "    <tr style=\"text-align: right;\">\n",
       "      <th></th>\n",
       "      <th>Sport</th>\n",
       "      <th>Medals</th>\n",
       "      <th>Athletes</th>\n",
       "    </tr>\n",
       "  </thead>\n",
       "  <tbody>\n",
       "    <tr>\n",
       "      <th>0</th>\n",
       "      <td>Short Track Speed Skating</td>\n",
       "      <td>30</td>\n",
       "      <td>60</td>\n",
       "    </tr>\n",
       "    <tr>\n",
       "      <th>1</th>\n",
       "      <td>Freestyle Skiing</td>\n",
       "      <td>8</td>\n",
       "      <td>39</td>\n",
       "    </tr>\n",
       "    <tr>\n",
       "      <th>2</th>\n",
       "      <td>Figure Skating</td>\n",
       "      <td>7</td>\n",
       "      <td>64</td>\n",
       "    </tr>\n",
       "    <tr>\n",
       "      <th>3</th>\n",
       "      <td>Speed Skating</td>\n",
       "      <td>7</td>\n",
       "      <td>107</td>\n",
       "    </tr>\n",
       "    <tr>\n",
       "      <th>4</th>\n",
       "      <td>Curling</td>\n",
       "      <td>1</td>\n",
       "      <td>17</td>\n",
       "    </tr>\n",
       "  </tbody>\n",
       "</table>\n",
       "</div>"
      ],
      "text/plain": [
       "                       Sport  Medals  Athletes\n",
       "0  Short Track Speed Skating      30        60\n",
       "1           Freestyle Skiing       8        39\n",
       "2             Figure Skating       7        64\n",
       "3              Speed Skating       7       107\n",
       "4                    Curling       1        17"
      ]
     },
     "execution_count": 82,
     "metadata": {},
     "output_type": "execute_result"
    }
   ],
   "source": [
    "totWM"
   ]
  },
  {
   "cell_type": "code",
   "execution_count": null,
   "id": "adb4adee-8c84-4e5f-9242-c0542c71a511",
   "metadata": {},
   "outputs": [],
   "source": []
  },
  {
   "cell_type": "code",
   "execution_count": 83,
   "id": "8451ac64-1ab2-4fce-bc7d-5b21ebdc9316",
   "metadata": {},
   "outputs": [],
   "source": [
    "def country_winter_medal(sport, df_winter, countMedal_winter):\n",
    "    if sport != 'Overall':\n",
    "        selected_df = df_winter[df_winter['Sport'] == sport]\n",
    "        result = selected_df[['Name','Country']].groupby('Country',as_index=False).count().sort_values('Name', ascending=False)\n",
    "        result.rename(columns={'Athletes':'Country', 'Name':'Atletes'}, inplace=True)\n",
    "        \n",
    "        selected_df2 = countMedal_winter[countMedal_winter['Sport'] == sport]\n",
    "        result2 = selected_df2[['Name','Country']].groupby('Country',as_index=False).count().sort_values('Name', ascending=False)\n",
    "        result2.rename(columns={'Athletes':'Country','Name':'Medals'}, inplace=True)\n",
    "    else:\n",
    "        selected_df = df_winter\n",
    "        result = selected_df[['Name','Country']].groupby('Country',as_index=False).count().sort_values('Name', ascending=False)\n",
    "        result.rename(columns={'Athletes':'Country', 'Name':'Atletes'}, inplace=True)\n",
    "        \n",
    "        selected_df2 = countMedal_winter\n",
    "        result2 = selected_df2[['Name','Country']].groupby('Country',as_index=False).count().sort_values('Name', ascending=False)\n",
    "        result2.rename(columns={'Athletes':'Country','Name':'Medals'}, inplace=True)        \n",
    "    \n",
    "    final = result2.merge(result, how='left', on='Country')\n",
    "    \n",
    "    return result, result2, final"
   ]
  },
  {
   "cell_type": "markdown",
   "id": "d886b358-c5ab-4d20-a760-4bd8dbe7bfc0",
   "metadata": {},
   "source": [
    "<ol>\n",
    "    <li>val1: Atletas por país</li>\n",
    "    <li>val2: Medallas por país</li>\n",
    "    <li>val3: Atletas por país y medallas</li>\n",
    "</ol>"
   ]
  },
  {
   "cell_type": "code",
   "execution_count": 84,
   "id": "29775cf0-00ab-4729-8d46-56b1e32ea9ff",
   "metadata": {},
   "outputs": [
    {
     "data": {
      "text/html": [
       "<div>\n",
       "<style scoped>\n",
       "    .dataframe tbody tr th:only-of-type {\n",
       "        vertical-align: middle;\n",
       "    }\n",
       "\n",
       "    .dataframe tbody tr th {\n",
       "        vertical-align: top;\n",
       "    }\n",
       "\n",
       "    .dataframe thead th {\n",
       "        text-align: right;\n",
       "    }\n",
       "</style>\n",
       "<table border=\"1\" class=\"dataframe\">\n",
       "  <thead>\n",
       "    <tr style=\"text-align: right;\">\n",
       "      <th></th>\n",
       "      <th>Country</th>\n",
       "      <th>Atletes</th>\n",
       "    </tr>\n",
       "  </thead>\n",
       "  <tbody>\n",
       "    <tr>\n",
       "      <th>23</th>\n",
       "      <td>Finland</td>\n",
       "      <td>254</td>\n",
       "    </tr>\n",
       "    <tr>\n",
       "      <th>66</th>\n",
       "      <td>Sweden</td>\n",
       "      <td>249</td>\n",
       "    </tr>\n",
       "    <tr>\n",
       "      <th>53</th>\n",
       "      <td>Norway</td>\n",
       "      <td>245</td>\n",
       "    </tr>\n",
       "    <tr>\n",
       "      <th>25</th>\n",
       "      <td>Germany</td>\n",
       "      <td>237</td>\n",
       "    </tr>\n",
       "    <tr>\n",
       "      <th>35</th>\n",
       "      <td>Italy</td>\n",
       "      <td>233</td>\n",
       "    </tr>\n",
       "    <tr>\n",
       "      <th>...</th>\n",
       "      <td>...</td>\n",
       "      <td>...</td>\n",
       "    </tr>\n",
       "    <tr>\n",
       "      <th>11</th>\n",
       "      <td>Cameroon</td>\n",
       "      <td>1</td>\n",
       "    </tr>\n",
       "    <tr>\n",
       "      <th>13</th>\n",
       "      <td>Chile</td>\n",
       "      <td>1</td>\n",
       "    </tr>\n",
       "    <tr>\n",
       "      <th>70</th>\n",
       "      <td>Togo</td>\n",
       "      <td>1</td>\n",
       "    </tr>\n",
       "    <tr>\n",
       "      <th>19</th>\n",
       "      <td>Dominica</td>\n",
       "      <td>1</td>\n",
       "    </tr>\n",
       "    <tr>\n",
       "      <th>44</th>\n",
       "      <td>Luxembourg</td>\n",
       "      <td>1</td>\n",
       "    </tr>\n",
       "  </tbody>\n",
       "</table>\n",
       "<p>74 rows × 2 columns</p>\n",
       "</div>"
      ],
      "text/plain": [
       "       Country  Atletes\n",
       "23     Finland      254\n",
       "66      Sweden      249\n",
       "53      Norway      245\n",
       "25     Germany      237\n",
       "35       Italy      233\n",
       "..         ...      ...\n",
       "11    Cameroon        1\n",
       "13       Chile        1\n",
       "70        Togo        1\n",
       "19    Dominica        1\n",
       "44  Luxembourg        1\n",
       "\n",
       "[74 rows x 2 columns]"
      ]
     },
     "execution_count": 84,
     "metadata": {},
     "output_type": "execute_result"
    }
   ],
   "source": [
    "val1, val2, val3 = country_winter_medal('Cross Country Skiing', hola, countMedal_winter)  #df_winter\n",
    "val1"
   ]
  },
  {
   "cell_type": "markdown",
   "id": "25faec56-300f-4638-a525-c44ebb33639a",
   "metadata": {},
   "source": [
    "A continuación, se muestra el gráfico de los 5 deportes con mayor cantidad de medallas ganadas por mujeres en WOG por país."
   ]
  },
  {
   "cell_type": "code",
   "execution_count": 85,
   "id": "15de22e7-30e8-4652-a1fa-7d68c599c488",
   "metadata": {},
   "outputs": [],
   "source": [
    "def top_country_winter_games(country, gender, medal):\n",
    "    if gender == 'Overall' and medal == 'Overall':\n",
    "        selected_df = countMedal_winter[countMedal_winter['Country'] == country]\n",
    "    if gender != 'Overall' and medal == 'Overall':\n",
    "        selected_df = countMedal_winter[countMedal_winter['Country'] == country]\n",
    "        selected_df = selected_df[selected_df['Sex'] == gender]\n",
    "    if gender == 'Overall' and medal != 'Overall':\n",
    "        selected_df = countMedal_winter[countMedal_winter['Country'] == country]\n",
    "        selected_df = selected_df[selected_df['Medal'] == medal]\n",
    "    if gender != 'Overall' and medal != 'Overall':\n",
    "        selected_df = countMedal_winter[countMedal_winter['Country'] == country]\n",
    "        selected_df = selected_df[selected_df['Sex'] == gender]\n",
    "        selected_df = selected_df[selected_df['Medal'] == medal]\n",
    "\n",
    "    fig, ax = plt.subplots(1,1, figsize=(10,4), facecolor='azure')\n",
    "    ax.set_facecolor('azure')\n",
    "    ax.set_axisbelow(True)\n",
    "\n",
    "    ax.tick_params(axis=u'both', which=u'both',length=0)\n",
    "    ax.set_ylabel(\"Sport\",fontfamily='monospace',loc='bottom',color='gray')\n",
    "    ax.set_xlabel(\"Total Medals\",fontfamily='monospace',loc='center',color='gray')\n",
    "    \n",
    "    ax.set_title('Deportes con más oros en: '+ country +', Género: ' + gender, fontsize=15,fontweight='bold',fontfamily='serif',color='#323232')\n",
    "    \n",
    "    counted_df_index = selected_df['Sport'].value_counts().index[0:15]\n",
    "    selected_df = selected_df[selected_df['Sport'].isin(counted_df_index)]\n",
    "    sns.countplot(y=\"Sport\", data=selected_df, order=counted_df_index, palette=sns.color_palette(\"mako\"))\n",
    "    return selected_df"
   ]
  },
  {
   "cell_type": "code",
   "execution_count": 86,
   "id": "faf511f9-c583-464f-838a-bec569eb8123",
   "metadata": {},
   "outputs": [
    {
     "data": {
      "text/plain": [
       "Cross Country Skiing    27\n",
       "Figure Skating          15\n",
       "Speed Skating           14\n",
       "Biathlon                 7\n",
       "Luge                     1\n",
       "Name: Sport, dtype: int64"
      ]
     },
     "execution_count": 86,
     "metadata": {},
     "output_type": "execute_result"
    },
    {
     "data": {
      "image/png": "[encoded data removed]",
      "text/plain": [
       "<Figure size 720x288 with 1 Axes>"
      ]
     },
     "metadata": {},
     "output_type": "display_data"
    }
   ],
   "source": [
    "ole = top_country_winter_games('Russia', 'F', 'Gold')\n",
    "ole['Sport'].value_counts()\n",
    "##Resaltar aporte medallas femeninas por país##"
   ]
  },
  {
   "cell_type": "markdown",
   "id": "34820d78-3d29-47f9-94ec-421981122e33",
   "metadata": {},
   "source": [
    "**5. ANALISIS DE DEPORTES OLÍMPICOS**"
   ]
  },
  {
   "cell_type": "markdown",
   "id": "0d7159c3-72d7-48c9-80db-1c08cd2c7ade",
   "metadata": {},
   "source": [
    "Este apartado se encuentra en una plantilla diferente llamada **sportOly.ipynb.**"
   ]
  },
  {
   "cell_type": "code",
   "execution_count": null,
   "id": "a13e71b5-2b90-46d3-b1d6-e8445d4d8a0f",
   "metadata": {},
   "outputs": [],
   "source": []
  }
 ],
 "metadata": {
  "kernelspec": {
   "display_name": "Python",
   "language": "python",
   "name": "conda-env-python-py"
  },
  "language_info": {
   "codemirror_mode": {
    "name": "ipython",
    "version": 3
   },
   "file_extension": ".py",
   "mimetype": "text/x-python",
   "name": "python",
   "nbconvert_exporter": "python",
   "pygments_lexer": "ipython3",
   "version": "3.7.12"
  }
 },
 "nbformat": 4,
 "nbformat_minor": 5
}
