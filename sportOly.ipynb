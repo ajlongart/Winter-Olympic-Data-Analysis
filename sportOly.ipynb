{
 "cells": [
  {
   "cell_type": "markdown",
   "id": "3b1d0e32-c409-43a5-a70b-21ccb9b27bd4",
   "metadata": {},
   "source": [
    "**Análisis de los deportes en Juegos Olímpicos de Invierno**"
   ]
  },
  {
   "cell_type": "markdown",
   "id": "63ae4367-553a-47cc-942d-4f000d440fa9",
   "metadata": {},
   "source": [
    "Declaraciones de librerías."
   ]
  },
  {
   "cell_type": "code",
   "execution_count": 1,
   "id": "2936b40b-ef20-45f0-a094-d72011b2b6e4",
   "metadata": {},
   "outputs": [],
   "source": [
    "import numpy as np  # muy útil para cálculos científicos con Python\n",
    "import pandas as pd # Librería para estructar datos primarios\n",
    "\n",
    "%matplotlib inline \n",
    "\n",
    "import matplotlib as mpl\n",
    "import matplotlib.pyplot as plt\n",
    "import seaborn as sns\n",
    "import plotly.figure_factory as ff\n",
    "import matplotlib.lines as mlines\n",
    "import matplotlib.gridspec as gridspec"
   ]
  },
  {
   "cell_type": "markdown",
   "id": "5a30ecd1-5a9f-4dfb-904e-cd1d52e9abfc",
   "metadata": {},
   "source": [
    "Lectura de los datos."
   ]
  },
  {
   "cell_type": "code",
   "execution_count": 2,
   "id": "276b9d02-f075-4ee1-8472-17ae693826f3",
   "metadata": {},
   "outputs": [
    {
     "name": "stdout",
     "output_type": "stream",
     "text": [
      "Data read into a pandas dataframe!\n"
     ]
    }
   ],
   "source": [
    "athletes = pd.read_csv(\"athlete_events_dataset.csv\") #pd.read_csv(\"athlete_events_dataset.csv\")\n",
    "regions = pd.read_csv(\"country_definitions.csv\")     #pd.read_csv(\"noc_regions.csv\") \n",
    "medal_2018 = pd.read_csv(\"pyeongchang_medal_2018.csv\")\n",
    "\n",
    "print('Data read into a pandas dataframe!')"
   ]
  },
  {
   "cell_type": "markdown",
   "id": "80dbd991-bd16-42b4-84cf-4a8662fc1964",
   "metadata": {},
   "source": [
    "Union de los dataframes."
   ]
  },
  {
   "cell_type": "code",
   "execution_count": 3,
   "id": "22f2e3d7-4d8d-4667-a4c3-439c2eef00c0",
   "metadata": {},
   "outputs": [
    {
     "data": {
      "text/html": [
       "<div>\n",
       "<style scoped>\n",
       "    .dataframe tbody tr th:only-of-type {\n",
       "        vertical-align: middle;\n",
       "    }\n",
       "\n",
       "    .dataframe tbody tr th {\n",
       "        vertical-align: top;\n",
       "    }\n",
       "\n",
       "    .dataframe thead th {\n",
       "        text-align: right;\n",
       "    }\n",
       "</style>\n",
       "<table border=\"1\" class=\"dataframe\">\n",
       "  <thead>\n",
       "    <tr style=\"text-align: right;\">\n",
       "      <th></th>\n",
       "      <th>ID</th>\n",
       "      <th>Name</th>\n",
       "      <th>Sex</th>\n",
       "      <th>Age</th>\n",
       "      <th>Height</th>\n",
       "      <th>Weight</th>\n",
       "      <th>Team</th>\n",
       "      <th>NOC</th>\n",
       "      <th>Games</th>\n",
       "      <th>Year</th>\n",
       "      <th>Season</th>\n",
       "      <th>City</th>\n",
       "      <th>Sport</th>\n",
       "      <th>Event</th>\n",
       "      <th>Medal</th>\n",
       "      <th>region</th>\n",
       "      <th>notes</th>\n",
       "    </tr>\n",
       "  </thead>\n",
       "  <tbody>\n",
       "    <tr>\n",
       "      <th>0</th>\n",
       "      <td>1</td>\n",
       "      <td>A Dijiang</td>\n",
       "      <td>M</td>\n",
       "      <td>24.0</td>\n",
       "      <td>180.0</td>\n",
       "      <td>80.0</td>\n",
       "      <td>China</td>\n",
       "      <td>CHN</td>\n",
       "      <td>1992 Summer</td>\n",
       "      <td>1992</td>\n",
       "      <td>Summer</td>\n",
       "      <td>Barcelona</td>\n",
       "      <td>Basketball</td>\n",
       "      <td>Basketball Men's Basketball</td>\n",
       "      <td>NaN</td>\n",
       "      <td>China</td>\n",
       "      <td>NaN</td>\n",
       "    </tr>\n",
       "    <tr>\n",
       "      <th>1</th>\n",
       "      <td>2</td>\n",
       "      <td>A Lamusi</td>\n",
       "      <td>M</td>\n",
       "      <td>23.0</td>\n",
       "      <td>170.0</td>\n",
       "      <td>60.0</td>\n",
       "      <td>China</td>\n",
       "      <td>CHN</td>\n",
       "      <td>2012 Summer</td>\n",
       "      <td>2012</td>\n",
       "      <td>Summer</td>\n",
       "      <td>London</td>\n",
       "      <td>Judo</td>\n",
       "      <td>Judo Men's Extra-Lightweight</td>\n",
       "      <td>NaN</td>\n",
       "      <td>China</td>\n",
       "      <td>NaN</td>\n",
       "    </tr>\n",
       "  </tbody>\n",
       "</table>\n",
       "</div>"
      ],
      "text/plain": [
       "   ID       Name Sex   Age  Height  Weight   Team  NOC        Games  Year  \\\n",
       "0   1  A Dijiang   M  24.0   180.0    80.0  China  CHN  1992 Summer  1992   \n",
       "1   2   A Lamusi   M  23.0   170.0    60.0  China  CHN  2012 Summer  2012   \n",
       "\n",
       "   Season       City       Sport                         Event Medal region  \\\n",
       "0  Summer  Barcelona  Basketball   Basketball Men's Basketball   NaN  China   \n",
       "1  Summer     London        Judo  Judo Men's Extra-Lightweight   NaN  China   \n",
       "\n",
       "  notes  \n",
       "0   NaN  \n",
       "1   NaN  "
      ]
     },
     "execution_count": 3,
     "metadata": {},
     "output_type": "execute_result"
    }
   ],
   "source": [
    "df_athletes = athletes.merge(regions, how='left', on='NOC')\n",
    "df_athletes.head(2)"
   ]
  },
  {
   "cell_type": "markdown",
   "id": "4fab72af-e24c-4d33-803a-85502aafedb6",
   "metadata": {},
   "source": [
    "Renombrado de las columnas."
   ]
  },
  {
   "cell_type": "code",
   "execution_count": 4,
   "id": "a2298efa-2d0f-4eed-92d2-ce50d203a79f",
   "metadata": {},
   "outputs": [
    {
     "data": {
      "text/html": [
       "<div>\n",
       "<style scoped>\n",
       "    .dataframe tbody tr th:only-of-type {\n",
       "        vertical-align: middle;\n",
       "    }\n",
       "\n",
       "    .dataframe tbody tr th {\n",
       "        vertical-align: top;\n",
       "    }\n",
       "\n",
       "    .dataframe thead th {\n",
       "        text-align: right;\n",
       "    }\n",
       "</style>\n",
       "<table border=\"1\" class=\"dataframe\">\n",
       "  <thead>\n",
       "    <tr style=\"text-align: right;\">\n",
       "      <th></th>\n",
       "      <th>ID</th>\n",
       "      <th>Name</th>\n",
       "      <th>Sex</th>\n",
       "      <th>Age</th>\n",
       "      <th>Height</th>\n",
       "      <th>Weight</th>\n",
       "      <th>Team</th>\n",
       "      <th>NOC</th>\n",
       "      <th>Games</th>\n",
       "      <th>Year</th>\n",
       "      <th>Season</th>\n",
       "      <th>City</th>\n",
       "      <th>Sport</th>\n",
       "      <th>Event</th>\n",
       "      <th>Medal</th>\n",
       "      <th>Country</th>\n",
       "      <th>Notes</th>\n",
       "    </tr>\n",
       "  </thead>\n",
       "  <tbody>\n",
       "    <tr>\n",
       "      <th>0</th>\n",
       "      <td>1</td>\n",
       "      <td>A Dijiang</td>\n",
       "      <td>M</td>\n",
       "      <td>24.0</td>\n",
       "      <td>180.0</td>\n",
       "      <td>80.0</td>\n",
       "      <td>China</td>\n",
       "      <td>CHN</td>\n",
       "      <td>1992 Summer</td>\n",
       "      <td>1992</td>\n",
       "      <td>Summer</td>\n",
       "      <td>Barcelona</td>\n",
       "      <td>Basketball</td>\n",
       "      <td>Basketball Men's Basketball</td>\n",
       "      <td>NaN</td>\n",
       "      <td>China</td>\n",
       "      <td>NaN</td>\n",
       "    </tr>\n",
       "    <tr>\n",
       "      <th>1</th>\n",
       "      <td>2</td>\n",
       "      <td>A Lamusi</td>\n",
       "      <td>M</td>\n",
       "      <td>23.0</td>\n",
       "      <td>170.0</td>\n",
       "      <td>60.0</td>\n",
       "      <td>China</td>\n",
       "      <td>CHN</td>\n",
       "      <td>2012 Summer</td>\n",
       "      <td>2012</td>\n",
       "      <td>Summer</td>\n",
       "      <td>London</td>\n",
       "      <td>Judo</td>\n",
       "      <td>Judo Men's Extra-Lightweight</td>\n",
       "      <td>NaN</td>\n",
       "      <td>China</td>\n",
       "      <td>NaN</td>\n",
       "    </tr>\n",
       "  </tbody>\n",
       "</table>\n",
       "</div>"
      ],
      "text/plain": [
       "   ID       Name Sex   Age  Height  Weight   Team  NOC        Games  Year  \\\n",
       "0   1  A Dijiang   M  24.0   180.0    80.0  China  CHN  1992 Summer  1992   \n",
       "1   2   A Lamusi   M  23.0   170.0    60.0  China  CHN  2012 Summer  2012   \n",
       "\n",
       "   Season       City       Sport                         Event Medal Country  \\\n",
       "0  Summer  Barcelona  Basketball   Basketball Men's Basketball   NaN   China   \n",
       "1  Summer     London        Judo  Judo Men's Extra-Lightweight   NaN   China   \n",
       "\n",
       "  Notes  \n",
       "0   NaN  \n",
       "1   NaN  "
      ]
     },
     "execution_count": 4,
     "metadata": {},
     "output_type": "execute_result"
    }
   ],
   "source": [
    "df_athletes.rename(columns={'region':'Country','notes':'Notes'}, inplace=True)\n",
    "df_athletes.head(2)"
   ]
  },
  {
   "cell_type": "markdown",
   "id": "2ed5d47e-1df2-4739-aee1-464461c9453b",
   "metadata": {},
   "source": [
    "Busqueda de valores nulos"
   ]
  },
  {
   "cell_type": "code",
   "execution_count": 5,
   "id": "cac025fc-3530-4dbd-976b-2aaf8e7b3d18",
   "metadata": {},
   "outputs": [
    {
     "name": "stdout",
     "output_type": "stream",
     "text": [
      "ID\n",
      "False    271116\n",
      "Name: ID, dtype: int64\n",
      "\n",
      "Name\n",
      "False    271116\n",
      "Name: Name, dtype: int64\n",
      "\n",
      "Sex\n",
      "False    271116\n",
      "Name: Sex, dtype: int64\n",
      "\n",
      "Age\n",
      "False    261642\n",
      "True       9474\n",
      "Name: Age, dtype: int64\n",
      "\n",
      "Height\n",
      "False    210945\n",
      "True      60171\n",
      "Name: Height, dtype: int64\n",
      "\n",
      "Weight\n",
      "False    208241\n",
      "True      62875\n",
      "Name: Weight, dtype: int64\n",
      "\n",
      "Team\n",
      "False    271116\n",
      "Name: Team, dtype: int64\n",
      "\n",
      "NOC\n",
      "False    271116\n",
      "Name: NOC, dtype: int64\n",
      "\n",
      "Games\n",
      "False    271116\n",
      "Name: Games, dtype: int64\n",
      "\n",
      "Year\n",
      "False    271116\n",
      "Name: Year, dtype: int64\n",
      "\n",
      "Season\n",
      "False    271116\n",
      "Name: Season, dtype: int64\n",
      "\n",
      "City\n",
      "False    271116\n",
      "Name: City, dtype: int64\n",
      "\n",
      "Sport\n",
      "False    271116\n",
      "Name: Sport, dtype: int64\n",
      "\n",
      "Event\n",
      "False    271116\n",
      "Name: Event, dtype: int64\n",
      "\n",
      "Medal\n",
      "True     231333\n",
      "False     39783\n",
      "Name: Medal, dtype: int64\n",
      "\n",
      "Country\n",
      "False    271114\n",
      "True          2\n",
      "Name: Country, dtype: int64\n",
      "\n",
      "Notes\n",
      "True     266077\n",
      "False      5039\n",
      "Name: Notes, dtype: int64\n",
      "\n"
     ]
    }
   ],
   "source": [
    "missing_data = df_athletes.isnull()\n",
    "\n",
    "for column in missing_data.columns.values.tolist():\n",
    "    print(column)\n",
    "    print (missing_data[column].value_counts())\n",
    "    print(\"\")"
   ]
  },
  {
   "cell_type": "markdown",
   "id": "edea58fe-ca33-4ace-95d3-ea0153043ae6",
   "metadata": {},
   "source": [
    "Con base en el resumen de arriba, cada columna tiene 27116 filas de datos, cinco columnas contienen información faltante:\n",
    "\n",
    "<ol>\n",
    "    <li>\"Age\": 9474 datos faltantes</li>\n",
    "    <li>\"Height\": 60171 datos faltantes</li>\n",
    "    <li>\"Weight\": 62875 datos faltantes</li>\n",
    "    <li>\"Country\" : 2 datos faltantes</li>\n",
    "    <li>\"Notes\": 5039 datos faltantes</li>\n",
    "</ol>\n",
    "\n",
    "Los datos faltantes de Edad, Peso y Altura, se sustituirán por la media de los mismos. Por su parte hay que revisar los datos de Country y Notes para determinar si amerita una sustitución."
   ]
  },
  {
   "cell_type": "code",
   "execution_count": 6,
   "id": "dc80e23a-36f1-4361-9248-4e06214dc304",
   "metadata": {},
   "outputs": [
    {
     "name": "stdout",
     "output_type": "stream",
     "text": [
      "Average of Age: 25.556898357297374\n"
     ]
    }
   ],
   "source": [
    "avg_age_loss = df_athletes[\"Age\"].astype(\"float\").mean(axis=0)\n",
    "print(\"Average of Age:\", avg_age_loss)\n",
    "\n",
    "df_athletes[\"Age\"].replace(np.nan, avg_age_loss, inplace=True)"
   ]
  },
  {
   "cell_type": "code",
   "execution_count": 7,
   "id": "ef42c0ca-875e-4098-b564-bc57a4a8f75f",
   "metadata": {},
   "outputs": [
    {
     "name": "stdout",
     "output_type": "stream",
     "text": [
      "Average of Height: 175.33896987366376\n"
     ]
    }
   ],
   "source": [
    "avg_height_loss = df_athletes[\"Height\"].astype(\"float\").mean(axis=0)\n",
    "print(\"Average of Height:\", avg_height_loss)\n",
    "\n",
    "df_athletes[\"Height\"].replace(np.nan, avg_height_loss, inplace=True)"
   ]
  },
  {
   "cell_type": "code",
   "execution_count": 8,
   "id": "84137ad6-8c68-4ee6-8bc0-6d933657bde8",
   "metadata": {},
   "outputs": [
    {
     "name": "stdout",
     "output_type": "stream",
     "text": [
      "Average of Weight: 70.70239290053351\n"
     ]
    }
   ],
   "source": [
    "avg_weight_loss = df_athletes[\"Weight\"].astype(\"float\").mean(axis=0)\n",
    "print(\"Average of Weight:\", avg_weight_loss)\n",
    "\n",
    "df_athletes[\"Weight\"].replace(np.nan, avg_weight_loss, inplace=True)"
   ]
  },
  {
   "cell_type": "markdown",
   "id": "f2e9e312-ee00-401a-a9c7-588a52c1ecf4",
   "metadata": {},
   "source": [
    "Se crea el dataset, el cual se usará para los Juegos de Invierno."
   ]
  },
  {
   "cell_type": "code",
   "execution_count": 9,
   "id": "950d1913-75bc-4ac9-a078-89aca8eea008",
   "metadata": {},
   "outputs": [],
   "source": [
    "df_winter = df_athletes[athletes['Season']=='Winter']\n",
    "df_winter.head(2)\n",
    "df = df_winter.copy()"
   ]
  },
  {
   "cell_type": "markdown",
   "id": "ecf7b7ed-6cc6-49c1-8f0e-d6b5ea13d433",
   "metadata": {},
   "source": [
    "Lista de deportes que forman el programa olímpico."
   ]
  },
  {
   "cell_type": "code",
   "execution_count": 10,
   "id": "6ea5fec3-d04d-470f-a1cd-9d5e52cbf740",
   "metadata": {},
   "outputs": [
    {
     "data": {
      "text/plain": [
       "array(['Speed Skating', 'Cross Country Skiing', 'Ice Hockey', 'Biathlon',\n",
       "       'Alpine Skiing', 'Luge', 'Bobsleigh', 'Figure Skating',\n",
       "       'Nordic Combined', 'Freestyle Skiing', 'Ski Jumping', 'Curling',\n",
       "       'Snowboarding', 'Short Track Speed Skating', 'Skeleton',\n",
       "       'Military Ski Patrol', 'Alpinism'], dtype=object)"
      ]
     },
     "execution_count": 10,
     "metadata": {},
     "output_type": "execute_result"
    }
   ],
   "source": [
    "winter_sport = df[df.Season=='Winter'].Sport.unique()\n",
    "winter_sport"
   ]
  },
  {
   "cell_type": "markdown",
   "id": "ebd4170f-e13d-4102-aaba-18271b0392f3",
   "metadata": {},
   "source": [
    "Función usada para listar los eventos de los deportes de invierno."
   ]
  },
  {
   "cell_type": "code",
   "execution_count": 11,
   "id": "05a8d3f8-5c58-4748-871e-64e3184cf3ec",
   "metadata": {},
   "outputs": [],
   "source": [
    "def olympic_event_sport(sport):\n",
    "    oly = df.loc[df['Sport']==sport] #Países con Medallas\n",
    "    oly_eve = oly['Event'].unique() #Eventos del deporte en cuestión\n",
    "\n",
    "    return oly_eve"
   ]
  },
  {
   "cell_type": "code",
   "execution_count": 12,
   "id": "8ea921cb-adb0-402f-8647-fae44eced92d",
   "metadata": {},
   "outputs": [
    {
     "data": {
      "text/plain": [
       "array([\"Luge Women's Singles\", \"Luge Men's Singles\",\n",
       "       \"Luge Mixed (Men)'s Doubles\", 'Luge Mixed Team Relay'],\n",
       "      dtype=object)"
      ]
     },
     "execution_count": 12,
     "metadata": {},
     "output_type": "execute_result"
    }
   ],
   "source": [
    "olympic_event_sport('Luge') #Colocar el deporte a visualizar"
   ]
  },
  {
   "cell_type": "markdown",
   "id": "ecf1cd73-b291-4cc5-8ce2-0f7c8bc2cf20",
   "metadata": {},
   "source": [
    "Listado de TODOS los eventos olímpicos de invierno"
   ]
  },
  {
   "cell_type": "code",
   "execution_count": 13,
   "id": "8e255efc-a0d6-4495-a120-3a77177a886b",
   "metadata": {},
   "outputs": [
    {
     "data": {
      "text/plain": [
       "array([\"Speed Skating Women's 500 metres\",\n",
       "       \"Speed Skating Women's 1,000 metres\",\n",
       "       \"Cross Country Skiing Men's 10 kilometres\",\n",
       "       \"Cross Country Skiing Men's 50 kilometres\",\n",
       "       \"Cross Country Skiing Men's 10/15 kilometres Pursuit\",\n",
       "       \"Cross Country Skiing Men's 4 x 10 kilometres Relay\",\n",
       "       \"Cross Country Skiing Men's 30 kilometres\",\n",
       "       \"Ice Hockey Men's Ice Hockey\",\n",
       "       \"Biathlon Women's 7.5 kilometres Sprint\",\n",
       "       \"Alpine Skiing Men's Downhill\", \"Alpine Skiing Men's Super G\",\n",
       "       \"Alpine Skiing Men's Giant Slalom\", \"Alpine Skiing Men's Slalom\",\n",
       "       \"Alpine Skiing Men's Combined\", \"Speed Skating Men's 500 metres\",\n",
       "       \"Speed Skating Men's 1,500 metres\", \"Luge Women's Singles\",\n",
       "       \"Bobsleigh Men's Four\", \"Speed Skating Men's 5,000 metres\",\n",
       "       \"Speed Skating Men's 10,000 metres\",\n",
       "       \"Cross Country Skiing Men's 15 kilometres\",\n",
       "       \"Alpine Skiing Women's Slalom\", \"Figure Skating Men's Singles\",\n",
       "       'Figure Skating Mixed Team', \"Bobsleigh Men's Two\",\n",
       "       \"Nordic Combined Men's Team\", \"Nordic Combined Men's Individual\",\n",
       "       \"Biathlon Men's 10 kilometres Sprint\",\n",
       "       \"Biathlon Men's 20 kilometres\",\n",
       "       \"Biathlon Men's 4 x 7.5 kilometres Relay\",\n",
       "       \"Freestyle Skiing Men's Moguls\", 'Figure Skating Mixed Pairs',\n",
       "       \"Freestyle Skiing Men's Aerials\",\n",
       "       \"Alpine Skiing Women's Giant Slalom\",\n",
       "       \"Alpine Skiing Women's Super G\",\n",
       "       \"Cross Country Skiing Women's 5 kilometres\",\n",
       "       \"Cross Country Skiing Women's 10 kilometres\",\n",
       "       \"Cross Country Skiing Women's 20 kilometres\",\n",
       "       \"Biathlon Men's 12.5 kilometres Pursuit\",\n",
       "       'Biathlon Mixed 2 x 6 kilometres and 2 x 7.5 kilometres Relay',\n",
       "       \"Speed Skating Women's 1,500 metres\",\n",
       "       \"Speed Skating Women's Team Pursuit (6 laps)\",\n",
       "       \"Cross Country Skiing Men's Sprint\",\n",
       "       \"Figure Skating Women's Singles\",\n",
       "       \"Speed Skating Men's 1,000 metres\",\n",
       "       \"Cross Country Skiing Women's 3 x 5 kilometres Relay\",\n",
       "       \"Nordic Combined Men's Sprint\", \"Alpine Skiing Women's Combined\",\n",
       "       \"Ski Jumping Men's Normal Hill, Individual\",\n",
       "       \"Ice Hockey Women's Ice Hockey\", \"Curling Men's Curling\",\n",
       "       \"Biathlon Women's 15 kilometres\",\n",
       "       \"Biathlon Women's 3 x 7.5 kilometres Relay\",\n",
       "       \"Biathlon Women's 4 x 7.5 kilometres Relay\",\n",
       "       \"Curling Women's Curling\", \"Freestyle Skiing Men's Slopestyle\",\n",
       "       \"Alpine Skiing Women's Downhill\",\n",
       "       \"Freestyle Skiing Women's Halfpipe\",\n",
       "       \"Cross Country Skiing Men's 18 kilometres\",\n",
       "       'Figure Skating Mixed Ice Dancing',\n",
       "       \"Cross Country Skiing Women's 30 kilometres\",\n",
       "       \"Cross Country Skiing Women's 15 km Skiathlon\",\n",
       "       \"Snowboarding Men's Halfpipe\",\n",
       "       \"Ski Jumping Men's Large Hill, Individual\",\n",
       "       \"Ski Jumping Men's Large Hill, Team\",\n",
       "       \"Freestyle Skiing Women's Aerials\",\n",
       "       \"Short Track Speed Skating Men's 5,000 metres Relay\",\n",
       "       \"Biathlon Women's 10 kilometres Pursuit\",\n",
       "       \"Biathlon Women's 12.5 kilometres Mass Start\",\n",
       "       \"Biathlon Women's 4 x 6 kilometres Relay\",\n",
       "       \"Skeleton Men's Skeleton\", \"Luge Men's Singles\",\n",
       "       \"Luge Mixed (Men)'s Doubles\", \"Speed Skating Women's 3,000 metres\",\n",
       "       \"Cross Country Skiing Women's 5/10 kilometres Pursuit\",\n",
       "       \"Cross Country Skiing Women's 4 x 5 kilometres Relay\",\n",
       "       \"Cross Country Skiing Women's 15 kilometres\",\n",
       "       \"Cross Country Skiing Women's 5/5 kilometres Pursuit\",\n",
       "       \"Skeleton Women's Skeleton\", \"Bobsleigh Men's Four/Five\",\n",
       "       \"Short Track Speed Skating Women's 3,000 metres Relay\",\n",
       "       \"Freestyle Skiing Women's Moguls\",\n",
       "       \"Short Track Speed Skating Men's 500 metres\",\n",
       "       \"Cross Country Skiing Men's 10/10 kilometres Pursuit\",\n",
       "       \"Ski Jumping Women's Normal Hill, Individual\",\n",
       "       \"Short Track Speed Skating Men's 1,000 metres\",\n",
       "       \"Short Track Speed Skating Men's 1,500 metres\",\n",
       "       \"Cross Country Skiing Men's Team Sprint\",\n",
       "       \"Snowboarding Women's Halfpipe\",\n",
       "       \"Cross Country Skiing Women's Sprint\",\n",
       "       \"Snowboarding Women's Slopestyle\",\n",
       "       \"Snowboarding Men's Giant Slalom\",\n",
       "       \"Snowboarding Men's Parallel Giant Slalom\",\n",
       "       \"Snowboarding Men's Boardercross\",\n",
       "       \"Snowboarding Men's Parallel Slalom\",\n",
       "       \"Cross Country Skiing Women's Team Sprint\",\n",
       "       \"Biathlon Men's 15 kilometres Mass Start\",\n",
       "       \"Cross Country Skiing Men's 30 km Skiathlon\",\n",
       "       \"Speed Skating Men's Team Pursuit (8 laps)\",\n",
       "       \"Speed Skating Women's 5,000 metres\",\n",
       "       \"Snowboarding Women's Boardercross\", 'Luge Mixed Team Relay',\n",
       "       \"Bobsleigh Women's Two\",\n",
       "       \"Military Ski Patrol Men's Military Ski Patrol\",\n",
       "       \"Freestyle Skiing Women's Slopestyle\",\n",
       "       \"Short Track Speed Skating Women's 500 metres\",\n",
       "       \"Short Track Speed Skating Women's 1,000 metres\",\n",
       "       \"Freestyle Skiing Women's Ski Cross\",\n",
       "       \"Freestyle Skiing Men's Ski Cross\",\n",
       "       \"Nordic Combined Men's Normal Hill / 10 km, Individual\",\n",
       "       \"Nordic Combined Men's Large Hill / 10 km, Individual\",\n",
       "       \"Short Track Speed Skating Women's 1,500 metres\",\n",
       "       \"Snowboarding Women's Giant Slalom\",\n",
       "       \"Snowboarding Men's Slopestyle\", \"Freestyle Skiing Men's Halfpipe\",\n",
       "       \"Snowboarding Women's Parallel Giant Slalom\",\n",
       "       \"Speed Skating Men's Allround\",\n",
       "       \"Snowboarding Women's Parallel Slalom\", 'Alpinism Mixed Alpinism'],\n",
       "      dtype=object)"
      ]
     },
     "execution_count": 13,
     "metadata": {},
     "output_type": "execute_result"
    }
   ],
   "source": [
    "df_winter['Event'].unique()"
   ]
  },
  {
   "cell_type": "markdown",
   "id": "a3542e8a-7943-4883-9f7a-d2068bc0fa00",
   "metadata": {},
   "source": [
    "En este punto, se renombran los eventos sin distinción de gnénero (salvo algunos deportes) y eliminando detalles concretos. A fin de generalizar los mismos."
   ]
  },
  {
   "cell_type": "code",
   "execution_count": 14,
   "id": "d4924619-5e14-48b2-8a60-9d7bd9361138",
   "metadata": {},
   "outputs": [
    {
     "data": {
      "text/plain": [
       "\"\\n#df_winter['Event'] = df_winter['Event'].str.replace('Speed Skating Women's 1,000 metres','Individual')\\ndf_winter['Event'] = df_winter['Event'].str.replace('Cross Country Skiing Men's 4 x 10 kilometres Relay','Relay')\\ndf_winter['Event'] = df_winter['Event'].str.replace('Ice Hockey Men's Ice Hockey','Men')\\ndf_winter['Event'] = df_winter['Event'].str.replace('Cross Country Skiing Men's 30 kilometres','Individual')\\ndf_winter['Event'] = df_winter['Event'].str.replace('Biathlon Women's 7.5 kilometres Sprint','Sprint')\\ndf_winter['Event'] = df_winter['Event'].str.replace('Alpine Skiing Men's Slalom','Slalom') \\ndf_winter['Event'] = df_winter['Event'].str.replace('Alpine Skiing Men's Combined','Combined')\\ndf_winter['Event'] = df_winter['Event'].str.replace('Alpine Skiing Men's Super G','Super G') \\n#df_winter['Event'] = df_winter['Event'].str.replace('Speed Skating Men's 1,500 metres','Individual')\\ndf_winter['Event'] = df_winter['Event'].str.replace('Luge Women's Singles',' Women Singles') \\ndf_winter['Event'] = df_winter['Event'].str.replace('Bobsleigh Men's Four','Four Men')\\n#df_winter['Event'] = df_winter['Event'].str.replace('Speed Skating Men's 5,000 metres','Individual')\\n#df_winter['Event'] = df_winter['Event'].str.replace('Speed Skating Men's 10,000 metres','Individual')\\ndf_winter['Event'] = df_winter['Event'].str.replace('Cross Country Skiing Men's 50 kilometres','Individual')\\ndf_winter['Event'] = df_winter['Event'].str.replace('Alpine Skiing Men's Giant Slalom','Giant Slalom') \\ndf_winter['Event'] = df_winter['Event'].str.replace('Alpine Skiing Women's Slalom','Slalom')\\ndf_winter['Event'] = df_winter['Event'].str.replace('Figure Skating Men's Singles','Men Singles') \\ndf_winter['Event'] = df_winter['Event'].str.replace('Figure Skating Mixed Team','Mixed team')\\ndf_winter['Event'] = df_winter['Event'].str.replace('Nordic Combined Men's Individual','Individual')\\ndf_winter['Event'] = df_winter['Event'].str.replace('Biathlon Men's 4 x 7.5 kilometres Relay','Relay')\\ndf_winter['Event'] = df_winter['Event'].str.replace('Freestyle Skiing Men's Moguls','Moguls') \\ndf_winter['Event'] = df_winter['Event'].str.replace('Figure Skating Mixed Pairs','Mixed Pairs')\\ndf_winter['Event'] = df_winter['Event'].str.replace('Freestyle Skiing Men's Aerials','Aerials')\\ndf_winter['Event'] = df_winter['Event'].str.replace('Alpine Skiing Women's Giant Slalom','Giant Slalom')\\ndf_winter['Event'] = df_winter['Event'].str.replace('Cross Country Skiing Women's 20 kilometres','Individual')\\n#df_winter['Event'] = df_winter['Event'].str.replace('Speed Skating Women's Team Pursuit (6 laps)','Team Pursuit')\\n#df_winter['Event'] = df_winter['Event'].str.replace('Speed Skating Women's 1,500 metres','Individual')\\ndf_winter['Event'] = df_winter['Event'].str.replace('Cross Country Skiing Men's 15 kilometres','Individual')\\ndf_winter['Event'] = df_winter['Event'].str.replace('Figure Skating Women's Singles','Women Singles')\\n#df_winter['Event'] = df_winter['Event'].str.replace('Speed Skating Men's 1,000 metres','Individual')\\ndf_winter['Event'] = df_winter['Event'].str.replace('Cross Country Skiing Women's 5 kilometres','Individual')\\ndf_winter['Event'] = df_winter['Event'].str.replace('Cross Country Skiing Women's 3 x 5 kilometres Relay','Relay')\\ndf_winter['Event'] = df_winter['Event'].str.replace('Nordic Combined Men's Sprint','Sprint') \\ndf_winter['Event'] = df_winter['Event'].str.replace('Bobsleigh Men's Two','Two Men')\\ndf_winter['Event'] = df_winter['Event'].str.replace('Alpine Skiing Women's Combined','Combined')\\ndf_winter['Event'] = df_winter['Event'].str.replace('Ski Jumping Men's Normal Hill, Individual','Normal Hill Individual')\\ndf_winter['Event'] = df_winter['Event'].str.replace('Ice Hockey Women's Ice Hockey','Women') \\ndf_winter['Event'] = df_winter['Event'].str.replace('Curling Men's Curling','Men')\\ndf_winter['Event'] = df_winter['Event'].str.replace('Biathlon Women's 3 x 7.5 kilometres Relay','Relay')\\ndf_winter['Event'] = df_winter['Event'].str.replace('Biathlon Women's 4 x 7.5 kilometres Relay','Relay')\\ndf_winter['Event'] = df_winter['Event'].str.replace('Curling Women's Curling','Women')\\ndf_winter['Event'] = df_winter['Event'].str.replace('Cross Country Skiing Women's 10 kilometres','Individual')\\ndf_winter['Event'] = df_winter['Event'].str.replace('Freestyle Skiing Men's Slopestyle','Slopestyle')\\ndf_winter['Event'] = df_winter['Event'].str.replace('Freestyle Skiing Women's Halfpipe','Halfpipe')\\ndf_winter['Event'] = df_winter['Event'].str.replace('Figure Skating Mixed Ice Dancing','Mixed Ice Dancing') \\ndf_winter['Event'] = df_winter['Event'].str.replace('Biathlon Men's 20 kilometres','Individual')\\ndf_winter['Event'] = df_winter['Event'].str.replace('Cross Country Skiing Women's 15 km Skiathlon','Skiathlon')\\ndf_winter['Event'] = df_winter['Event'].str.replace('Snowboarding Men's Halfpipe','Halfpipe')\\ndf_winter['Event'] = df_winter['Event'].str.replace('Cross Country Skiing Men's 10/15 kilometres Pursuit','Pursuit')\\ndf_winter['Event'] = df_winter['Event'].str.replace('Ski Jumping Men's Large Hill, Team','Large Hill Team')\\ndf_winter['Event'] = df_winter['Event'].str.replace('Ski Jumping Men's Large Hill, Individual','Harge Hill Individual')\\ndf_winter['Event'] = df_winter['Event'].str.replace('Freestyle Skiing Women's Aerials','Aerials')\\n#df_winter['Event'] = df_winter['Event'].str.replace('Short Track Speed Skating Men's 5,000 metres Relay','Relay')\\ndf_winter['Event'] = df_winter['Event'].str.replace('Biathlon Women's 4 x 6 kilometres Relay','Relay')\\ndf_winter['Event'] = df_winter['Event'].str.replace('Skeleton Men's Skeleton','Men') \\ndf_winter['Event'] = df_winter['Event'].str.replace('Luge Men's Singles','Sigles')\\ndf_winter['Event'] = df_winter['Event'].str.replace('Alpine Skiing Men's Downhill','Downhill') \\ndf_winter['Event'] = df_winter['Event'].str.replace('Luge Mixed (Men)'s Doubles','Mixed Men')\\n#df_winter['Event'] = df_winter['Event'].str.replace('Speed Skating Women's 3,000 metres','Individual')\\ndf_winter['Event'] = df_winter['Event'].str.replace('Cross Country Skiing Women's 4 x 5 kilometres Relay','Relay')\\ndf_winter['Event'] = df_winter['Event'].str.replace('Skeleton Women's Skeleton','Women') \\ndf_winter['Event'] = df_winter['Event'].str.replace('Bobsleigh Men's Four/Five','Four Man') #Four/Five\\ndf_winter['Event'] = df_winter['Event'].str.replace('Cross Country Skiing Women's 5/10 kilometres Pursuit','Pursuit')\\ndf_winter['Event'] = df_winter['Event'].str.replace('Alpine Skiing Women's Super G','Super G')\\n#df_winter['Event'] = df_winter['Event'].str.replace('Short Track Speed Skating Women's 3,000 metres Relay','Relay')\\ndf_winter['Event'] = df_winter['Event'].str.replace('Freestyle Skiing Women's Moguls','Moguls')\\n#df_winter['Event'] = df_winter['Event'].str.replace('Short Track Speed Skating Men's 500 metres','Individual')\\ndf_winter['Event'] = df_winter['Event'].str.replace('Ski Jumping Women's Normal Hill, Individual','Normal Hill Individual')\\ndf_winter['Event'] = df_winter['Event'].str.replace('Cross Country Skiing Men's Team Sprint','Team Sprint')\\ndf_winter['Event'] = df_winter['Event'].str.replace('Snowboarding Women's Halfpipe','Halfpipe')\\n#df_winter['Event'] = df_winter['Event'].str.replace('Speed Skating Women's 500 metres','Individual')\\n#df_winter['Event'] = df_winter['Event'].str.replace('Short Track Speed Skating Men's 1,500 metres','Individual')\\ndf_winter['Event'] = df_winter['Event'].str.replace('Biathlon Women's 15 kilometres','Individual')\\ndf_winter['Event'] = df_winter['Event'].str.replace('Biathlon Men's 10 kilometres Sprint','Sprint')\\ndf_winter['Event'] = df_winter['Event'].str.replace('Cross Country Skiing Men's 18 kilometres','Individual')\\ndf_winter['Event'] = df_winter['Event'].str.replace('Snowboarding Women's Slopestyle','Slopestyle')\\ndf_winter['Event'] = df_winter['Event'].str.replace('Snowboarding Men's Giant Slalom','Giant Slalom')\\ndf_winter['Event'] = df_winter['Event'].str.replace('Snowboarding Men's Parallel Giant Slalom','Parallel Giant Slalom')\\ndf_winter['Event'] = df_winter['Event'].str.replace('Snowboarding Men's Boardercross','Boardercross')\\ndf_winter['Event'] = df_winter['Event'].str.replace('Snowboarding Men's Parallel Slalom','Parallel Slalom')\\ndf_winter['Event'] = df_winter['Event'].str.replace('Cross Country Skiing Women's Team Sprint','Team Sprint')\\ndf_winter['Event'] = df_winter['Event'].str.replace('Cross Country Skiing Men's 30 km Skiathlon','Skiathlon')\\n#df_winter['Event'] = df_winter['Event'].str.replace('Speed Skating Men's Team Pursuit (8 laps)','Team Pursuit')\\ndf_winter['Event'] = df_winter['Event'].str.replace('Cross Country Skiing Men's Sprint','Sprint')\\ndf_winter['Event'] = df_winter['Event'].str.replace('Cross Country Skiing Women's Sprint','Sprint')\\n#df_winter['Event'] = df_winter['Event'].str.replace('Speed Skating Women's 5,000 metres','Individual')\\ndf_winter['Event'] = df_winter['Event'].str.replace('Cross Country Skiing Men's 10/10 kilometres Pursuit','Pursuit')\\ndf_winter['Event'] = df_winter['Event'].str.replace('Snowboarding Women's Boardercross','Boardercross') \\ndf_winter['Event'] = df_winter['Event'].str.replace('Luge Mixed Team Relay','Mixed Team Relay')\\ndf_winter['Event'] = df_winter['Event'].str.replace('Bobsleigh Women's Two','Two Women') \\ndf_winter['Event'] = df_winter['Event'].str.replace('Alpine Skiing Women's Downhill','Downhill')\\n#df_winter['Event'] = df_winter['Event'].str.replace('Speed Skating Men's 500 metres','Individual')\\ndf_winter['Event'] = df_winter['Event'].str.replace('Cross Country Skiing Women's 5/5 kilometres Pursuit','Pursuit')\\ndf_winter['Event'] = df_winter['Event'].str.replace('Freestyle Skiing Women's Slopestyle','Slopestyle')\\n#df_winter['Event'] = df_winter['Event'].str.replace('Short Track Speed Skating Women's 500 metres','Individual')\\ndf_winter['Event'] = df_winter['Event'].str.replace('Freestyle Skiing Women's Ski Cross','Ski Cross')\\n#df_winter['Event'] = df_winter['Event'].str.replace('Freestyle Skiing Men's Ski Cross','Ski Cross')\\n#df_winter['Event'] = df_winter['Event'].str.replace('Short Track Speed Skating Men's 1,000 metres','Individual')\\ndf_winter['Event'] = df_winter['Event'].str.replace('Nordic Combined Men's Team','Team') \\ndf_winter['Event'] = df_winter['Event'].str.replace('Snowboarding Women's Giant Slalom','Giant Slalom')\\n#df_winter['Event'] = df_winter['Event'].str.replace('Short Track Speed Skating Women's 1,500 metres','Individual')\\ndf_winter['Event'] = df_winter['Event'].str.replace('Snowboarding Men's Slopestyle','Slopestyle')\\ndf_winter['Event'] = df_winter['Event'].str.replace('Nordic Combined Men's Large Hill / 10 km, Individual','Large Hill Individual')\\ndf_winter['Event'] = df_winter['Event'].str.replace('Military Ski Patrol Men's Military Ski Patrol','Military Ski Patrol')\\ndf_winter['Event'] = df_winter['Event'].str.replace('Freestyle Skiing Men's Halfpipe','Halfpipe')\\ndf_winter['Event'] = df_winter['Event'].str.replace('Cross Country Skiing Women's 30 kilometres','Individual')\\ndf_winter['Event'] = df_winter['Event'].str.replace('Cross Country Skiing Men's 10 kilometres','Individual')\\ndf_winter['Event'] = df_winter['Event'].str.replace('Snowboarding Women's Parallel Giant Slalom','Parallel Giant Slalom')\\n#df_winter['Event'] = df_winter['Event'].str.replace('Speed Skating Men's Allround','Allround')\\ndf_winter['Event'] = df_winter['Event'].str.replace('Snowboarding Women's Parallel Slalom','Parallel Slalom')\\ndf_winter['Event'] = df_winter['Event'].str.replace('Biathlon Women's 10 kilometres Pursuit','Pursuit')\\ndf_winter['Event'] = df_winter['Event'].str.replace('Cross Country Skiing Women's 15 kilometres','Individual')\\ndf_winter['Event'] = df_winter['Event'].str.replace('Alpinism Mixed Alpinism','Mixed')\\ndf_winter['Event'] = df_winter['Event'].str.replace('Biathlon Women's 12.5 kilometres Mass Start','Mass Start')\\ndf_winter['Event'] = df_winter['Event'].str.replace('Biathlon Mixed 2 x 6 kilometres and 2 x 7.5 kilometres Relay','Relay')\\n#df_winter['Event'] = df_winter['Event'].str.replace('Short Track Speed Skating Women's 1,000 metres','Individual')\\ndf_winter['Event'] = df_winter['Event'].str.replace('Nordic Combined Men's Normal Hill / 10 km, Individual','Normal Hill Individual')\\ndf_winter['Event'] = df_winter['Event'].str.replace('Biathlon Men's 12.5 kilometres Pursuit','Pursuit')\\ndf_winter['Event'] = df_winter['Event'].str.replace('Biathlon Men's 15 kilometres Mass Start','Mass Start')\\n\""
      ]
     },
     "execution_count": 14,
     "metadata": {},
     "output_type": "execute_result"
    }
   ],
   "source": [
    "'''\n",
    "#df_winter['Event'] = df_winter['Event'].str.replace('Speed Skating Women\\'s 1,000 metres','Individual')\n",
    "df_winter['Event'] = df_winter['Event'].str.replace('Cross Country Skiing Men\\'s 4 x 10 kilometres Relay','Relay')\n",
    "df_winter['Event'] = df_winter['Event'].str.replace('Ice Hockey Men\\'s Ice Hockey','Men')\n",
    "df_winter['Event'] = df_winter['Event'].str.replace('Cross Country Skiing Men\\'s 30 kilometres','Individual')\n",
    "df_winter['Event'] = df_winter['Event'].str.replace('Biathlon Women\\'s 7.5 kilometres Sprint','Sprint')\n",
    "df_winter['Event'] = df_winter['Event'].str.replace('Alpine Skiing Men\\'s Slalom','Slalom') \n",
    "df_winter['Event'] = df_winter['Event'].str.replace('Alpine Skiing Men\\'s Combined','Combined')\n",
    "df_winter['Event'] = df_winter['Event'].str.replace('Alpine Skiing Men\\'s Super G','Super G') \n",
    "#df_winter['Event'] = df_winter['Event'].str.replace('Speed Skating Men\\'s 1,500 metres','Individual')\n",
    "df_winter['Event'] = df_winter['Event'].str.replace('Luge Women\\'s Singles',' Women Singles') \n",
    "df_winter['Event'] = df_winter['Event'].str.replace('Bobsleigh Men\\'s Four','Four Men')\n",
    "#df_winter['Event'] = df_winter['Event'].str.replace('Speed Skating Men\\'s 5,000 metres','Individual')\n",
    "#df_winter['Event'] = df_winter['Event'].str.replace('Speed Skating Men\\'s 10,000 metres','Individual')\n",
    "df_winter['Event'] = df_winter['Event'].str.replace('Cross Country Skiing Men\\'s 50 kilometres','Individual')\n",
    "df_winter['Event'] = df_winter['Event'].str.replace('Alpine Skiing Men\\'s Giant Slalom','Giant Slalom') \n",
    "df_winter['Event'] = df_winter['Event'].str.replace('Alpine Skiing Women\\'s Slalom','Slalom')\n",
    "df_winter['Event'] = df_winter['Event'].str.replace('Figure Skating Men\\'s Singles','Men Singles') \n",
    "df_winter['Event'] = df_winter['Event'].str.replace('Figure Skating Mixed Team','Mixed team')\n",
    "df_winter['Event'] = df_winter['Event'].str.replace('Nordic Combined Men\\'s Individual','Individual')\n",
    "df_winter['Event'] = df_winter['Event'].str.replace('Biathlon Men\\'s 4 x 7.5 kilometres Relay','Relay')\n",
    "df_winter['Event'] = df_winter['Event'].str.replace('Freestyle Skiing Men\\'s Moguls','Moguls') \n",
    "df_winter['Event'] = df_winter['Event'].str.replace('Figure Skating Mixed Pairs','Mixed Pairs')\n",
    "df_winter['Event'] = df_winter['Event'].str.replace('Freestyle Skiing Men\\'s Aerials','Aerials')\n",
    "df_winter['Event'] = df_winter['Event'].str.replace('Alpine Skiing Women\\'s Giant Slalom','Giant Slalom')\n",
    "df_winter['Event'] = df_winter['Event'].str.replace('Cross Country Skiing Women\\'s 20 kilometres','Individual')\n",
    "#df_winter['Event'] = df_winter['Event'].str.replace('Speed Skating Women\\'s Team Pursuit (6 laps)','Team Pursuit')\n",
    "#df_winter['Event'] = df_winter['Event'].str.replace('Speed Skating Women\\'s 1,500 metres','Individual')\n",
    "df_winter['Event'] = df_winter['Event'].str.replace('Cross Country Skiing Men\\'s 15 kilometres','Individual')\n",
    "df_winter['Event'] = df_winter['Event'].str.replace('Figure Skating Women\\'s Singles','Women Singles')\n",
    "#df_winter['Event'] = df_winter['Event'].str.replace('Speed Skating Men\\'s 1,000 metres','Individual')\n",
    "df_winter['Event'] = df_winter['Event'].str.replace('Cross Country Skiing Women\\'s 5 kilometres','Individual')\n",
    "df_winter['Event'] = df_winter['Event'].str.replace('Cross Country Skiing Women\\'s 3 x 5 kilometres Relay','Relay')\n",
    "df_winter['Event'] = df_winter['Event'].str.replace('Nordic Combined Men\\'s Sprint','Sprint') \n",
    "df_winter['Event'] = df_winter['Event'].str.replace('Bobsleigh Men\\'s Two','Two Men')\n",
    "df_winter['Event'] = df_winter['Event'].str.replace('Alpine Skiing Women\\'s Combined','Combined')\n",
    "df_winter['Event'] = df_winter['Event'].str.replace('Ski Jumping Men\\'s Normal Hill, Individual','Normal Hill Individual')\n",
    "df_winter['Event'] = df_winter['Event'].str.replace('Ice Hockey Women\\'s Ice Hockey','Women') \n",
    "df_winter['Event'] = df_winter['Event'].str.replace('Curling Men\\'s Curling','Men')\n",
    "df_winter['Event'] = df_winter['Event'].str.replace('Biathlon Women\\'s 3 x 7.5 kilometres Relay','Relay')\n",
    "df_winter['Event'] = df_winter['Event'].str.replace('Biathlon Women\\'s 4 x 7.5 kilometres Relay','Relay')\n",
    "df_winter['Event'] = df_winter['Event'].str.replace('Curling Women\\'s Curling','Women')\n",
    "df_winter['Event'] = df_winter['Event'].str.replace('Cross Country Skiing Women\\'s 10 kilometres','Individual')\n",
    "df_winter['Event'] = df_winter['Event'].str.replace('Freestyle Skiing Men\\'s Slopestyle','Slopestyle')\n",
    "df_winter['Event'] = df_winter['Event'].str.replace('Freestyle Skiing Women\\'s Halfpipe','Halfpipe')\n",
    "df_winter['Event'] = df_winter['Event'].str.replace('Figure Skating Mixed Ice Dancing','Mixed Ice Dancing') \n",
    "df_winter['Event'] = df_winter['Event'].str.replace('Biathlon Men\\'s 20 kilometres','Individual')\n",
    "df_winter['Event'] = df_winter['Event'].str.replace('Cross Country Skiing Women\\'s 15 km Skiathlon','Skiathlon')\n",
    "df_winter['Event'] = df_winter['Event'].str.replace('Snowboarding Men\\'s Halfpipe','Halfpipe')\n",
    "df_winter['Event'] = df_winter['Event'].str.replace('Cross Country Skiing Men\\'s 10/15 kilometres Pursuit','Pursuit')\n",
    "df_winter['Event'] = df_winter['Event'].str.replace('Ski Jumping Men\\'s Large Hill, Team','Large Hill Team')\n",
    "df_winter['Event'] = df_winter['Event'].str.replace('Ski Jumping Men\\'s Large Hill, Individual','Harge Hill Individual')\n",
    "df_winter['Event'] = df_winter['Event'].str.replace('Freestyle Skiing Women\\'s Aerials','Aerials')\n",
    "#df_winter['Event'] = df_winter['Event'].str.replace('Short Track Speed Skating Men\\'s 5,000 metres Relay','Relay')\n",
    "df_winter['Event'] = df_winter['Event'].str.replace('Biathlon Women\\'s 4 x 6 kilometres Relay','Relay')\n",
    "df_winter['Event'] = df_winter['Event'].str.replace('Skeleton Men\\'s Skeleton','Men') \n",
    "df_winter['Event'] = df_winter['Event'].str.replace('Luge Men\\'s Singles','Sigles')\n",
    "df_winter['Event'] = df_winter['Event'].str.replace('Alpine Skiing Men\\'s Downhill','Downhill') \n",
    "df_winter['Event'] = df_winter['Event'].str.replace('Luge Mixed (Men)\\'s Doubles','Mixed Men')\n",
    "#df_winter['Event'] = df_winter['Event'].str.replace('Speed Skating Women\\'s 3,000 metres','Individual')\n",
    "df_winter['Event'] = df_winter['Event'].str.replace('Cross Country Skiing Women\\'s 4 x 5 kilometres Relay','Relay')\n",
    "df_winter['Event'] = df_winter['Event'].str.replace('Skeleton Women\\'s Skeleton','Women') \n",
    "df_winter['Event'] = df_winter['Event'].str.replace('Bobsleigh Men\\'s Four/Five','Four Man') #Four/Five\n",
    "df_winter['Event'] = df_winter['Event'].str.replace('Cross Country Skiing Women\\'s 5/10 kilometres Pursuit','Pursuit')\n",
    "df_winter['Event'] = df_winter['Event'].str.replace('Alpine Skiing Women\\'s Super G','Super G')\n",
    "#df_winter['Event'] = df_winter['Event'].str.replace('Short Track Speed Skating Women\\'s 3,000 metres Relay','Relay')\n",
    "df_winter['Event'] = df_winter['Event'].str.replace('Freestyle Skiing Women\\'s Moguls','Moguls')\n",
    "#df_winter['Event'] = df_winter['Event'].str.replace('Short Track Speed Skating Men\\'s 500 metres','Individual')\n",
    "df_winter['Event'] = df_winter['Event'].str.replace('Ski Jumping Women\\'s Normal Hill, Individual','Normal Hill Individual')\n",
    "df_winter['Event'] = df_winter['Event'].str.replace('Cross Country Skiing Men\\'s Team Sprint','Team Sprint')\n",
    "df_winter['Event'] = df_winter['Event'].str.replace('Snowboarding Women\\'s Halfpipe','Halfpipe')\n",
    "#df_winter['Event'] = df_winter['Event'].str.replace('Speed Skating Women\\'s 500 metres','Individual')\n",
    "#df_winter['Event'] = df_winter['Event'].str.replace('Short Track Speed Skating Men\\'s 1,500 metres','Individual')\n",
    "df_winter['Event'] = df_winter['Event'].str.replace('Biathlon Women\\'s 15 kilometres','Individual')\n",
    "df_winter['Event'] = df_winter['Event'].str.replace('Biathlon Men\\'s 10 kilometres Sprint','Sprint')\n",
    "df_winter['Event'] = df_winter['Event'].str.replace('Cross Country Skiing Men\\'s 18 kilometres','Individual')\n",
    "df_winter['Event'] = df_winter['Event'].str.replace('Snowboarding Women\\'s Slopestyle','Slopestyle')\n",
    "df_winter['Event'] = df_winter['Event'].str.replace('Snowboarding Men\\'s Giant Slalom','Giant Slalom')\n",
    "df_winter['Event'] = df_winter['Event'].str.replace('Snowboarding Men\\'s Parallel Giant Slalom','Parallel Giant Slalom')\n",
    "df_winter['Event'] = df_winter['Event'].str.replace('Snowboarding Men\\'s Boardercross','Boardercross')\n",
    "df_winter['Event'] = df_winter['Event'].str.replace('Snowboarding Men\\'s Parallel Slalom','Parallel Slalom')\n",
    "df_winter['Event'] = df_winter['Event'].str.replace('Cross Country Skiing Women\\'s Team Sprint','Team Sprint')\n",
    "df_winter['Event'] = df_winter['Event'].str.replace('Cross Country Skiing Men\\'s 30 km Skiathlon','Skiathlon')\n",
    "#df_winter['Event'] = df_winter['Event'].str.replace('Speed Skating Men\\'s Team Pursuit (8 laps)','Team Pursuit')\n",
    "df_winter['Event'] = df_winter['Event'].str.replace('Cross Country Skiing Men\\'s Sprint','Sprint')\n",
    "df_winter['Event'] = df_winter['Event'].str.replace('Cross Country Skiing Women\\'s Sprint','Sprint')\n",
    "#df_winter['Event'] = df_winter['Event'].str.replace('Speed Skating Women\\'s 5,000 metres','Individual')\n",
    "df_winter['Event'] = df_winter['Event'].str.replace('Cross Country Skiing Men\\'s 10/10 kilometres Pursuit','Pursuit')\n",
    "df_winter['Event'] = df_winter['Event'].str.replace('Snowboarding Women\\'s Boardercross','Boardercross') \n",
    "df_winter['Event'] = df_winter['Event'].str.replace('Luge Mixed Team Relay','Mixed Team Relay')\n",
    "df_winter['Event'] = df_winter['Event'].str.replace('Bobsleigh Women\\'s Two','Two Women') \n",
    "df_winter['Event'] = df_winter['Event'].str.replace('Alpine Skiing Women\\'s Downhill','Downhill')\n",
    "#df_winter['Event'] = df_winter['Event'].str.replace('Speed Skating Men\\'s 500 metres','Individual')\n",
    "df_winter['Event'] = df_winter['Event'].str.replace('Cross Country Skiing Women\\'s 5/5 kilometres Pursuit','Pursuit')\n",
    "df_winter['Event'] = df_winter['Event'].str.replace('Freestyle Skiing Women\\'s Slopestyle','Slopestyle')\n",
    "#df_winter['Event'] = df_winter['Event'].str.replace('Short Track Speed Skating Women\\'s 500 metres','Individual')\n",
    "df_winter['Event'] = df_winter['Event'].str.replace('Freestyle Skiing Women\\'s Ski Cross','Ski Cross')\n",
    "#df_winter['Event'] = df_winter['Event'].str.replace('Freestyle Skiing Men\\'s Ski Cross','Ski Cross')\n",
    "#df_winter['Event'] = df_winter['Event'].str.replace('Short Track Speed Skating Men\\'s 1,000 metres','Individual')\n",
    "df_winter['Event'] = df_winter['Event'].str.replace('Nordic Combined Men\\'s Team','Team') \n",
    "df_winter['Event'] = df_winter['Event'].str.replace('Snowboarding Women\\'s Giant Slalom','Giant Slalom')\n",
    "#df_winter['Event'] = df_winter['Event'].str.replace('Short Track Speed Skating Women\\'s 1,500 metres','Individual')\n",
    "df_winter['Event'] = df_winter['Event'].str.replace('Snowboarding Men\\'s Slopestyle','Slopestyle')\n",
    "df_winter['Event'] = df_winter['Event'].str.replace('Nordic Combined Men\\'s Large Hill / 10 km, Individual','Large Hill Individual')\n",
    "df_winter['Event'] = df_winter['Event'].str.replace('Military Ski Patrol Men\\'s Military Ski Patrol','Military Ski Patrol')\n",
    "df_winter['Event'] = df_winter['Event'].str.replace('Freestyle Skiing Men\\'s Halfpipe','Halfpipe')\n",
    "df_winter['Event'] = df_winter['Event'].str.replace('Cross Country Skiing Women\\'s 30 kilometres','Individual')\n",
    "df_winter['Event'] = df_winter['Event'].str.replace('Cross Country Skiing Men\\'s 10 kilometres','Individual')\n",
    "df_winter['Event'] = df_winter['Event'].str.replace('Snowboarding Women\\'s Parallel Giant Slalom','Parallel Giant Slalom')\n",
    "#df_winter['Event'] = df_winter['Event'].str.replace('Speed Skating Men\\'s Allround','Allround')\n",
    "df_winter['Event'] = df_winter['Event'].str.replace('Snowboarding Women\\'s Parallel Slalom','Parallel Slalom')\n",
    "df_winter['Event'] = df_winter['Event'].str.replace('Biathlon Women\\'s 10 kilometres Pursuit','Pursuit')\n",
    "df_winter['Event'] = df_winter['Event'].str.replace('Cross Country Skiing Women\\'s 15 kilometres','Individual')\n",
    "df_winter['Event'] = df_winter['Event'].str.replace('Alpinism Mixed Alpinism','Mixed')\n",
    "df_winter['Event'] = df_winter['Event'].str.replace('Biathlon Women\\'s 12.5 kilometres Mass Start','Mass Start')\n",
    "df_winter['Event'] = df_winter['Event'].str.replace('Biathlon Mixed 2 x 6 kilometres and 2 x 7.5 kilometres Relay','Relay')\n",
    "#df_winter['Event'] = df_winter['Event'].str.replace('Short Track Speed Skating Women\\'s 1,000 metres','Individual')\n",
    "df_winter['Event'] = df_winter['Event'].str.replace('Nordic Combined Men\\'s Normal Hill / 10 km, Individual','Normal Hill Individual')\n",
    "df_winter['Event'] = df_winter['Event'].str.replace('Biathlon Men\\'s 12.5 kilometres Pursuit','Pursuit')\n",
    "df_winter['Event'] = df_winter['Event'].str.replace('Biathlon Men\\'s 15 kilometres Mass Start','Mass Start')\n",
    "'''"
   ]
  },
  {
   "cell_type": "markdown",
   "id": "daef0118-c0f8-4bf1-81e6-541490d0fad9",
   "metadata": {},
   "source": [
    "Atletas en los Juegos de Verano."
   ]
  },
  {
   "cell_type": "code",
   "execution_count": 15,
   "id": "f7a85dd9-174d-4ae2-8e03-a24c2352c583",
   "metadata": {},
   "outputs": [
    {
     "data": {
      "text/html": [
       "<div>\n",
       "<style scoped>\n",
       "    .dataframe tbody tr th:only-of-type {\n",
       "        vertical-align: middle;\n",
       "    }\n",
       "\n",
       "    .dataframe tbody tr th {\n",
       "        vertical-align: top;\n",
       "    }\n",
       "\n",
       "    .dataframe thead th {\n",
       "        text-align: right;\n",
       "    }\n",
       "</style>\n",
       "<table border=\"1\" class=\"dataframe\">\n",
       "  <thead>\n",
       "    <tr style=\"text-align: right;\">\n",
       "      <th></th>\n",
       "      <th>ID</th>\n",
       "      <th>Name</th>\n",
       "      <th>Sex</th>\n",
       "      <th>Age</th>\n",
       "      <th>Height</th>\n",
       "      <th>Weight</th>\n",
       "      <th>Team</th>\n",
       "      <th>NOC</th>\n",
       "      <th>Games</th>\n",
       "      <th>Year</th>\n",
       "      <th>Season</th>\n",
       "      <th>City</th>\n",
       "      <th>Sport</th>\n",
       "      <th>Event</th>\n",
       "      <th>Medal</th>\n",
       "      <th>Country</th>\n",
       "      <th>Notes</th>\n",
       "    </tr>\n",
       "  </thead>\n",
       "  <tbody>\n",
       "    <tr>\n",
       "      <th>0</th>\n",
       "      <td>1</td>\n",
       "      <td>A Dijiang</td>\n",
       "      <td>M</td>\n",
       "      <td>24.0</td>\n",
       "      <td>180.0</td>\n",
       "      <td>80.0</td>\n",
       "      <td>China</td>\n",
       "      <td>CHN</td>\n",
       "      <td>1992 Summer</td>\n",
       "      <td>1992</td>\n",
       "      <td>Summer</td>\n",
       "      <td>Barcelona</td>\n",
       "      <td>Basketball</td>\n",
       "      <td>Basketball Men's Basketball</td>\n",
       "      <td>NaN</td>\n",
       "      <td>China</td>\n",
       "      <td>NaN</td>\n",
       "    </tr>\n",
       "    <tr>\n",
       "      <th>1</th>\n",
       "      <td>2</td>\n",
       "      <td>A Lamusi</td>\n",
       "      <td>M</td>\n",
       "      <td>23.0</td>\n",
       "      <td>170.0</td>\n",
       "      <td>60.0</td>\n",
       "      <td>China</td>\n",
       "      <td>CHN</td>\n",
       "      <td>2012 Summer</td>\n",
       "      <td>2012</td>\n",
       "      <td>Summer</td>\n",
       "      <td>London</td>\n",
       "      <td>Judo</td>\n",
       "      <td>Judo Men's Extra-Lightweight</td>\n",
       "      <td>NaN</td>\n",
       "      <td>China</td>\n",
       "      <td>NaN</td>\n",
       "    </tr>\n",
       "  </tbody>\n",
       "</table>\n",
       "</div>"
      ],
      "text/plain": [
       "   ID       Name Sex   Age  Height  Weight   Team  NOC        Games  Year  \\\n",
       "0   1  A Dijiang   M  24.0   180.0    80.0  China  CHN  1992 Summer  1992   \n",
       "1   2   A Lamusi   M  23.0   170.0    60.0  China  CHN  2012 Summer  2012   \n",
       "\n",
       "   Season       City       Sport                         Event Medal Country  \\\n",
       "0  Summer  Barcelona  Basketball   Basketball Men's Basketball   NaN   China   \n",
       "1  Summer     London        Judo  Judo Men's Extra-Lightweight   NaN   China   \n",
       "\n",
       "  Notes  \n",
       "0   NaN  \n",
       "1   NaN  "
      ]
     },
     "execution_count": 15,
     "metadata": {},
     "output_type": "execute_result"
    }
   ],
   "source": [
    "df_summer = df_athletes[athletes['Season']=='Summer']\n",
    "df_summer.head(2)"
   ]
  },
  {
   "cell_type": "markdown",
   "id": "a7b23a14-e6aa-4e94-bc2e-03c29b241ee7",
   "metadata": {},
   "source": [
    "Luego de la separación de los dataframes, se depura los atletas que no ganaron medallas en WOG y SOG."
   ]
  },
  {
   "cell_type": "code",
   "execution_count": 16,
   "id": "787ff042-9ddb-4382-aba5-f30881a30171",
   "metadata": {},
   "outputs": [
    {
     "data": {
      "text/plain": [
       "Index(['Season'], dtype='object')"
      ]
     },
     "execution_count": 16,
     "metadata": {},
     "output_type": "execute_result"
    }
   ],
   "source": [
    "athletesSummer = df_summer.dropna(subset=['Medal'])\n",
    "athletesSummer.columns[athletesSummer.nunique() <= 1]"
   ]
  },
  {
   "cell_type": "code",
   "execution_count": 17,
   "id": "a2f4d5a6-a1c9-43ef-823c-e1abbb19c6c9",
   "metadata": {},
   "outputs": [
    {
     "data": {
      "text/plain": [
       "Index(['Season', 'Notes'], dtype='object')"
      ]
     },
     "execution_count": 17,
     "metadata": {},
     "output_type": "execute_result"
    }
   ],
   "source": [
    "athletesWinter = df_winter.dropna(subset=['Medal'])\n",
    "athletesWinter.columns[athletesWinter.nunique() <= 1]"
   ]
  },
  {
   "cell_type": "markdown",
   "id": "c7b7c360-51dd-48ae-8992-c3a51122c989",
   "metadata": {},
   "source": [
    "Ahora, se procederá a eliminar las medallas duplicadas. Esto aplica principalmente en los deportes de conjunto (Como Hockey sobre Hielo) ya que las medallas se otorgan al país ganador mientras que en el dataset, cada jugador de Hockey (siguiendo con el ejemplo) suma medalla y, a la larga, aumenta artificialmente la cantidad de preseas ganadas en los WOG y SOG."
   ]
  },
  {
   "cell_type": "code",
   "execution_count": 18,
   "id": "7062c7e0-e2a8-46f0-87af-277946b09c27",
   "metadata": {},
   "outputs": [
    {
     "data": {
      "text/html": [
       "<div>\n",
       "<style scoped>\n",
       "    .dataframe tbody tr th:only-of-type {\n",
       "        vertical-align: middle;\n",
       "    }\n",
       "\n",
       "    .dataframe tbody tr th {\n",
       "        vertical-align: top;\n",
       "    }\n",
       "\n",
       "    .dataframe thead th {\n",
       "        text-align: right;\n",
       "    }\n",
       "</style>\n",
       "<table border=\"1\" class=\"dataframe\">\n",
       "  <thead>\n",
       "    <tr style=\"text-align: right;\">\n",
       "      <th></th>\n",
       "      <th>Bronze</th>\n",
       "      <th>Gold</th>\n",
       "      <th>Silver</th>\n",
       "    </tr>\n",
       "  </thead>\n",
       "  <tbody>\n",
       "    <tr>\n",
       "      <th>40</th>\n",
       "      <td>1</td>\n",
       "      <td>0</td>\n",
       "      <td>0</td>\n",
       "    </tr>\n",
       "    <tr>\n",
       "      <th>60</th>\n",
       "      <td>0</td>\n",
       "      <td>1</td>\n",
       "      <td>0</td>\n",
       "    </tr>\n",
       "    <tr>\n",
       "      <th>61</th>\n",
       "      <td>1</td>\n",
       "      <td>0</td>\n",
       "      <td>0</td>\n",
       "    </tr>\n",
       "    <tr>\n",
       "      <th>63</th>\n",
       "      <td>0</td>\n",
       "      <td>0</td>\n",
       "      <td>1</td>\n",
       "    </tr>\n",
       "    <tr>\n",
       "      <th>64</th>\n",
       "      <td>1</td>\n",
       "      <td>0</td>\n",
       "      <td>0</td>\n",
       "    </tr>\n",
       "    <tr>\n",
       "      <th>...</th>\n",
       "      <td>...</td>\n",
       "      <td>...</td>\n",
       "      <td>...</td>\n",
       "    </tr>\n",
       "    <tr>\n",
       "      <th>270641</th>\n",
       "      <td>0</td>\n",
       "      <td>1</td>\n",
       "      <td>0</td>\n",
       "    </tr>\n",
       "    <tr>\n",
       "      <th>270827</th>\n",
       "      <td>0</td>\n",
       "      <td>0</td>\n",
       "      <td>1</td>\n",
       "    </tr>\n",
       "    <tr>\n",
       "      <th>270876</th>\n",
       "      <td>0</td>\n",
       "      <td>1</td>\n",
       "      <td>0</td>\n",
       "    </tr>\n",
       "    <tr>\n",
       "      <th>270878</th>\n",
       "      <td>1</td>\n",
       "      <td>0</td>\n",
       "      <td>0</td>\n",
       "    </tr>\n",
       "    <tr>\n",
       "      <th>270886</th>\n",
       "      <td>1</td>\n",
       "      <td>0</td>\n",
       "      <td>0</td>\n",
       "    </tr>\n",
       "  </tbody>\n",
       "</table>\n",
       "<p>5695 rows × 3 columns</p>\n",
       "</div>"
      ],
      "text/plain": [
       "        Bronze  Gold  Silver\n",
       "40           1     0       0\n",
       "60           0     1       0\n",
       "61           1     0       0\n",
       "63           0     0       1\n",
       "64           1     0       0\n",
       "...        ...   ...     ...\n",
       "270641       0     1       0\n",
       "270827       0     0       1\n",
       "270876       0     1       0\n",
       "270878       1     0       0\n",
       "270886       1     0       0\n",
       "\n",
       "[5695 rows x 3 columns]"
      ]
     },
     "execution_count": 18,
     "metadata": {},
     "output_type": "execute_result"
    }
   ],
   "source": [
    "pd.get_dummies(athletesSummer['Medal'])\n",
    "pd.get_dummies(athletesWinter['Medal'])\n",
    "\n",
    "athletesSummer.duplicated().sum()\n",
    "athletesWinter.duplicated().sum()\n",
    "\n",
    "athletesSummer.drop_duplicates(inplace=True)\n",
    "athletesWinter.drop_duplicates(inplace=True)\n",
    "\n",
    "pd.get_dummies(athletesSummer['Medal'])\n",
    "pd.get_dummies(athletesWinter['Medal'])"
   ]
  },
  {
   "cell_type": "code",
   "execution_count": 19,
   "id": "661f9b0d-e715-4bf2-864a-f8f22e51d54b",
   "metadata": {},
   "outputs": [],
   "source": [
    "summer = pd.concat([athletesSummer,pd.get_dummies(athletesSummer['Medal'])],axis=1)\n",
    "#winter.head(2)\n",
    "winter = pd.concat([athletesWinter,pd.get_dummies(athletesWinter['Medal'])],axis=1)\n",
    "#summer.head(2)"
   ]
  },
  {
   "cell_type": "markdown",
   "id": "0ddaf4df-4096-4747-ab48-81e2b2bc445b",
   "metadata": {},
   "source": [
    "Dataframe con los atletas que ganaron medalla en invierno."
   ]
  },
  {
   "cell_type": "code",
   "execution_count": 20,
   "id": "6211fccd-1496-4e6d-b474-3eea50b5b80d",
   "metadata": {},
   "outputs": [
    {
     "data": {
      "text/html": [
       "<div>\n",
       "<style scoped>\n",
       "    .dataframe tbody tr th:only-of-type {\n",
       "        vertical-align: middle;\n",
       "    }\n",
       "\n",
       "    .dataframe tbody tr th {\n",
       "        vertical-align: top;\n",
       "    }\n",
       "\n",
       "    .dataframe thead th {\n",
       "        text-align: right;\n",
       "    }\n",
       "</style>\n",
       "<table border=\"1\" class=\"dataframe\">\n",
       "  <thead>\n",
       "    <tr style=\"text-align: right;\">\n",
       "      <th></th>\n",
       "      <th>ID</th>\n",
       "      <th>Name</th>\n",
       "      <th>Sex</th>\n",
       "      <th>Age</th>\n",
       "      <th>Height</th>\n",
       "      <th>Weight</th>\n",
       "      <th>Team</th>\n",
       "      <th>NOC</th>\n",
       "      <th>Games</th>\n",
       "      <th>Year</th>\n",
       "      <th>Season</th>\n",
       "      <th>City</th>\n",
       "      <th>Sport</th>\n",
       "      <th>Event</th>\n",
       "      <th>Medal</th>\n",
       "      <th>Country</th>\n",
       "      <th>Notes</th>\n",
       "      <th>Bronze</th>\n",
       "      <th>Gold</th>\n",
       "      <th>Silver</th>\n",
       "    </tr>\n",
       "  </thead>\n",
       "  <tbody>\n",
       "    <tr>\n",
       "      <th>40</th>\n",
       "      <td>16</td>\n",
       "      <td>Juhamatti Tapio Aaltonen</td>\n",
       "      <td>M</td>\n",
       "      <td>28.0</td>\n",
       "      <td>184.0</td>\n",
       "      <td>85.0</td>\n",
       "      <td>Finland</td>\n",
       "      <td>FIN</td>\n",
       "      <td>2014 Winter</td>\n",
       "      <td>2014</td>\n",
       "      <td>Winter</td>\n",
       "      <td>Sochi</td>\n",
       "      <td>Ice Hockey</td>\n",
       "      <td>Ice Hockey Men's Ice Hockey</td>\n",
       "      <td>Bronze</td>\n",
       "      <td>Finland</td>\n",
       "      <td>NaN</td>\n",
       "      <td>1</td>\n",
       "      <td>0</td>\n",
       "      <td>0</td>\n",
       "    </tr>\n",
       "    <tr>\n",
       "      <th>60</th>\n",
       "      <td>20</td>\n",
       "      <td>Kjetil Andr Aamodt</td>\n",
       "      <td>M</td>\n",
       "      <td>20.0</td>\n",
       "      <td>176.0</td>\n",
       "      <td>85.0</td>\n",
       "      <td>Norway</td>\n",
       "      <td>NOR</td>\n",
       "      <td>1992 Winter</td>\n",
       "      <td>1992</td>\n",
       "      <td>Winter</td>\n",
       "      <td>Albertville</td>\n",
       "      <td>Alpine Skiing</td>\n",
       "      <td>Alpine Skiing Men's Super G</td>\n",
       "      <td>Gold</td>\n",
       "      <td>Norway</td>\n",
       "      <td>NaN</td>\n",
       "      <td>0</td>\n",
       "      <td>1</td>\n",
       "      <td>0</td>\n",
       "    </tr>\n",
       "  </tbody>\n",
       "</table>\n",
       "</div>"
      ],
      "text/plain": [
       "    ID                      Name Sex   Age  Height  Weight     Team  NOC  \\\n",
       "40  16  Juhamatti Tapio Aaltonen   M  28.0   184.0    85.0  Finland  FIN   \n",
       "60  20        Kjetil Andr Aamodt   M  20.0   176.0    85.0   Norway  NOR   \n",
       "\n",
       "          Games  Year  Season         City          Sport  \\\n",
       "40  2014 Winter  2014  Winter        Sochi     Ice Hockey   \n",
       "60  1992 Winter  1992  Winter  Albertville  Alpine Skiing   \n",
       "\n",
       "                          Event   Medal  Country Notes  Bronze  Gold  Silver  \n",
       "40  Ice Hockey Men's Ice Hockey  Bronze  Finland   NaN       1     0       0  \n",
       "60  Alpine Skiing Men's Super G    Gold   Norway   NaN       0     1       0  "
      ]
     },
     "execution_count": 20,
     "metadata": {},
     "output_type": "execute_result"
    }
   ],
   "source": [
    "countMedal_winter = winter.drop_duplicates(subset=['Team','NOC','Country','Games','Year','City','Sport','Event','Medal'])\n",
    "countMedal_winter.head(2)"
   ]
  },
  {
   "cell_type": "markdown",
   "id": "bd7d2b79-951c-4886-8c6b-df35d5ebb2d0",
   "metadata": {},
   "source": [
    "Antes de trabajar en la participación de los atletas en WOG, se realiza una depuración de los atletas duplicados en una misma edición de los juegos de invierno. Si tomamos el caso de que un atleta participa en distintos eventos de un mismo deporte (por ejemplo Biatlón), se debe descartar su inclusión en el contador de atletas participantes ya que se estaría, por lo menos, duplicando su participacíon."
   ]
  },
  {
   "cell_type": "code",
   "execution_count": 21,
   "id": "ecd3ecc9-0a58-4279-902d-dc4ddc361f53",
   "metadata": {},
   "outputs": [],
   "source": [
    "hola = df_winter.drop_duplicates(subset=['Name', 'Year'], keep='last')\n",
    "#hola.info()\n",
    "\n",
    "#Atletas femeninas en JJOO Invierno\n",
    "womenOlympics = hola[(hola.Sex=='F') & (hola.Season=='Winter')]\n",
    "\n",
    "#Dataset medallistas femeninas\n",
    "womenMedal = winter[(winter.Sex=='F')] #womenMedal = countMedal_winter[(countMedal_winter.Sex=='F')]\n",
    "\n",
    "#Atletas masculinos en JJOO Invierno\n",
    "menOlympics = hola[(hola.Sex=='M') & (hola.Season=='Winter')]\n",
    "\n",
    "#Dataset medallistas masculinos\n",
    "menMedal = winter[(winter.Sex=='M')] #menMedal = countMedal_winter[(countMedal_winter.Sex=='M')]"
   ]
  },
  {
   "cell_type": "markdown",
   "id": "59e50fc3-9a95-4548-be77-80e1b17b090e",
   "metadata": {},
   "source": [
    "En este apartado, se desea mostrar qué países son potencia en los deportes que forman (o formaron) parte de los Juegos Olímpicos de Invierno. Para ello, se agrupan los deportes con la mayor cantidad de medallas ganadas por los países participantes."
   ]
  },
  {
   "cell_type": "code",
   "execution_count": 22,
   "id": "74adcd0d-4ecb-4cc9-891a-88d7576d9b5c",
   "metadata": {},
   "outputs": [
    {
     "name": "stdout",
     "output_type": "stream",
     "text": [
      "Alpine Skiing --- Austria\n",
      "Alpinism --- Great Britain\n",
      "Biathlon --- Germany\n",
      "Bobsleigh --- Germany\n",
      "Cross Country Skiing --- Russia\n",
      "Curling --- Canada\n",
      "Figure Skating --- Russia\n",
      "Freestyle Skiing --- United States of America\n",
      "Ice Hockey --- Canada\n",
      "Luge --- Germany\n",
      "Military Ski Patrol --- Switzerland\n",
      "Nordic Combined --- Norway\n",
      "Short Track Speed Skating --- South Korea\n",
      "Skeleton --- United States of America\n",
      "Ski Jumping --- Norway\n",
      "Snowboarding --- United States of America\n",
      "Speed Skating --- Netherlands\n"
     ]
    }
   ],
   "source": [
    "data_groupby = countMedal_winter.groupby(['Sport'])\n",
    "data_groupby.head(10)\n",
    "selected_sport_country = {}\n",
    "for key, item in data_groupby:\n",
    "    selected_df = data_groupby.get_group(key)\n",
    "    selected_df = selected_df[selected_df['Medal'] != 'None'] # != None\n",
    "    \n",
    "    selected_sport_country[key] = selected_df['Country'].value_counts().index[0]\n",
    "    selected_sport_country[key]\n",
    "\n",
    "for key in selected_sport_country.keys():\n",
    "    print(key, '---', selected_sport_country[key])"
   ]
  },
  {
   "cell_type": "markdown",
   "id": "b3825233-88d6-4dce-860b-7f98e51240fc",
   "metadata": {},
   "source": [
    "La función top_sport_winter_games muestra el top 5 de países con menjor rendimiento en determinado deporte olímpico. Estos datos son hasta los juegos de Sochi 2014."
   ]
  },
  {
   "cell_type": "code",
   "execution_count": 23,
   "id": "4d75c0d7-8cbc-4da0-b178-bd545e18edff",
   "metadata": {},
   "outputs": [],
   "source": [
    "def top_sport_winter_games(sport, gender, medal):\n",
    "    if gender == 'Overall' and medal == 'Overall':\n",
    "        selected_df = countMedal_winter[countMedal_winter['Sport'] == sport]\n",
    "    if gender != 'Overall' and medal == 'Overall':\n",
    "        selected_df = countMedal_winter[countMedal_winter['Sport'] == sport]\n",
    "        selected_df = selected_df[selected_df['Sex'] == gender]\n",
    "    if gender == 'Overall' and medal != 'Overall':\n",
    "        selected_df = countMedal_winter[countMedal_winter['Sport'] == sport]\n",
    "        selected_df = selected_df[selected_df['Medal'] == medal]\n",
    "    if gender != 'Overall' and medal != 'Overall':\n",
    "        selected_df = countMedal_winter[countMedal_winter['Sport'] == sport]\n",
    "        selected_df = selected_df[selected_df['Sex'] == gender]\n",
    "        selected_df = selected_df[selected_df['Medal'] == medal]\n",
    "\n",
    "    fig, ax = plt.subplots(1,1, figsize=(10,4), facecolor='azure')\n",
    "    ax.set_facecolor('azure')\n",
    "    ax.set_axisbelow(True)\n",
    "\n",
    "    ax.tick_params(axis=u'both', which=u'both',length=0)\n",
    "    ax.set_ylabel(\"Country\",fontfamily='monospace',loc='bottom',color='gray')\n",
    "    ax.set_xlabel(\"Total Medals\",fontfamily='monospace',loc='center',color='gray')\n",
    "    \n",
    "    ax.set_title('Top 5 countries in: '+ sport +', Gender: ' + gender +', Medal: ' + medal, fontsize=15,fontweight='bold',fontfamily='serif',color='#323232')\n",
    "    \n",
    "    counted_df_index = selected_df['Country'].value_counts().index[0:5]\n",
    "    selected_df = selected_df[selected_df['Country'].isin(counted_df_index)]\n",
    "    sns.countplot(y=\"Country\", data=selected_df, order=counted_df_index, palette=sns.color_palette(\"mako\"))"
   ]
  },
  {
   "cell_type": "code",
   "execution_count": 24,
   "id": "79d78a2c-052e-4389-b6b6-c0bd8e1811ad",
   "metadata": {},
   "outputs": [
    {
     "data": {
      "image/png": "[encoded data removed]",
      "text/plain": [
       "<Figure size 720x288 with 1 Axes>"
      ]
     },
     "metadata": {},
     "output_type": "display_data"
    }
   ],
   "source": [
    "top_sport_winter_games('Luge','Overall','Gold') #Colocar deporte, género: \"M\", \"F\", \"Overall\" y medalla: \"Overall\", \"Gold\", \"Silver\", \"Bronze\""
   ]
  },
  {
   "cell_type": "markdown",
   "id": "951119b4-3ba3-4f8b-a3a7-16008f88756a",
   "metadata": {},
   "source": [
    "La función sport_years grafica el comportamiento de las disciplinas olímpicas a lo largo del tiempo, destacando los 5 países con mejores resultados."
   ]
  },
  {
   "cell_type": "code",
   "execution_count": 25,
   "id": "1a63c1c3-2440-4741-ba62-691e47d449a7",
   "metadata": {},
   "outputs": [],
   "source": [
    "def sport_years(sport):\n",
    "    selected_df = winter[winter['Sport'] == sport]\n",
    "    years = selected_df['Year'].sort_values().unique()\n",
    "    default_medal_df = pd.DataFrame(columns=['Year', 'Medal_Num'])\n",
    "    default_medal_df['Year'] = years\n",
    "    default_medal_df['Medal_Num'] = 0\n",
    "    default_medal_df = default_medal_df.set_index('Year')\n",
    "    selected_country = selected_sport_country[sport]\n",
    "    \n",
    "    counted_df_index = selected_df['Country'].value_counts().index[0:5]\n",
    "    selected_df = selected_df[selected_df['Country'].isin(counted_df_index)]\n",
    "    \n",
    "    counted_df_index\n",
    "    \n",
    "    fig, ax = plt.subplots(1,1, figsize=(10,4), facecolor='azure')\n",
    "    ax.set_facecolor('azure')\n",
    "    ax.set_axisbelow(True)\n",
    "\n",
    "    ax.tick_params(axis=u'both', which=u'both',length=0)\n",
    "    ax.set_ylabel(\"Total Medals\",fontfamily='monospace',loc='bottom',color='gray')\n",
    "    ax.set_xlabel(\"\")\n",
    "    \n",
    "    ax.set_title('Top 5 countries in '+ sport, fontsize=15,fontweight='bold',fontfamily='serif',color='#323232')\n",
    "        \n",
    "    for team in selected_df['Country'].unique():\n",
    "        temp_df = selected_df[selected_df['Country'] == team]\n",
    "        temp_df['Medal_Num'] = 1\n",
    "        temp_group_df = temp_df.groupby(['Year']).sum()\n",
    "        temp_group_df = temp_group_df.reset_index()\n",
    "        temp_group_df = temp_group_df[['Year', 'Medal_Num']]\n",
    "        temp_group_df = temp_group_df.set_index('Year')\n",
    "\n",
    "        olympics_df = temp_group_df.add(default_medal_df, fill_value=0)\n",
    "        \n",
    "        if team == selected_country:\n",
    "            sns.lineplot(data=olympics_df, x=olympics_df.index, y=\"Medal_Num\", label=team, linewidth=5) #.set_title(sport)\n",
    "            #plt.axvline(1988, color='r') #Ultimos Juegos URSS\n",
    "            #plt.axvline(1992, color='g') #Equipo Unificado tras caída URSS\n",
    "            #plt.axvline(1994, color='b') #Priemros Juegos Rusia\n",
    "        else:\n",
    "            sns.lineplot(data=olympics_df, x=olympics_df.index, y=\"Medal_Num\", label=team, alpha=0.7, linewidth=2, markers=True, dashes=False) #.set_title(sport)"
   ]
  },
  {
   "cell_type": "code",
   "execution_count": 26,
   "id": "85df1b84-9f3d-482f-860c-3d5c1e919d9a",
   "metadata": {},
   "outputs": [
    {
     "data": {
      "image/png": "[encoded data removed]",
      "text/plain": [
       "<Figure size 720x288 with 1 Axes>"
      ]
     },
     "metadata": {},
     "output_type": "display_data"
    }
   ],
   "source": [
    "sport_years('Luge') #Colocar deporte"
   ]
  },
  {
   "cell_type": "markdown",
   "id": "387e787f-54f1-4ffc-bca3-9f70d937bddd",
   "metadata": {},
   "source": [
    "Función que muestra las medallas ganadas por los países en WOG por deporte."
   ]
  },
  {
   "cell_type": "code",
   "execution_count": 27,
   "id": "ae5036b3-bf8f-41dd-9560-3ff5ec7ac11b",
   "metadata": {},
   "outputs": [],
   "source": [
    "def noc_winter(noc, gender):\n",
    "    if gender == 'Overall':\n",
    "        selected_df = countMedal_winter[countMedal_winter['Country'] == noc]\n",
    "    if gender != 'Overall':\n",
    "        selected_df = countMedal_winter[countMedal_winter['Country'] == noc]\n",
    "        selected_df = selected_df[selected_df['Sex'] == gender]\n",
    "    \n",
    "    counted_df_index = selected_df['Country'].value_counts().index[0:5]\n",
    "    selected_df = selected_df[selected_df['Country'].isin(counted_df_index)]\n",
    "    \n",
    "    return selected_df"
   ]
  },
  {
   "cell_type": "code",
   "execution_count": 28,
   "id": "819720a8-b02c-4946-8e0e-3dcf6db471f9",
   "metadata": {},
   "outputs": [
    {
     "data": {
      "text/html": [
       "<div>\n",
       "<style scoped>\n",
       "    .dataframe tbody tr th:only-of-type {\n",
       "        vertical-align: middle;\n",
       "    }\n",
       "\n",
       "    .dataframe tbody tr th {\n",
       "        vertical-align: top;\n",
       "    }\n",
       "\n",
       "    .dataframe thead th {\n",
       "        text-align: right;\n",
       "    }\n",
       "</style>\n",
       "<table border=\"1\" class=\"dataframe\">\n",
       "  <thead>\n",
       "    <tr style=\"text-align: right;\">\n",
       "      <th></th>\n",
       "      <th>Sport</th>\n",
       "      <th>Gold</th>\n",
       "      <th>Silver</th>\n",
       "      <th>Bronze</th>\n",
       "      <th>Total</th>\n",
       "    </tr>\n",
       "  </thead>\n",
       "  <tbody>\n",
       "    <tr>\n",
       "      <th>7</th>\n",
       "      <td>Luge</td>\n",
       "      <td>31</td>\n",
       "      <td>23</td>\n",
       "      <td>21</td>\n",
       "      <td>75</td>\n",
       "    </tr>\n",
       "    <tr>\n",
       "      <th>12</th>\n",
       "      <td>Speed Skating</td>\n",
       "      <td>25</td>\n",
       "      <td>28</td>\n",
       "      <td>19</td>\n",
       "      <td>72</td>\n",
       "    </tr>\n",
       "    <tr>\n",
       "      <th>1</th>\n",
       "      <td>Biathlon</td>\n",
       "      <td>20</td>\n",
       "      <td>26</td>\n",
       "      <td>15</td>\n",
       "      <td>61</td>\n",
       "    </tr>\n",
       "    <tr>\n",
       "      <th>0</th>\n",
       "      <td>Alpine Skiing</td>\n",
       "      <td>17</td>\n",
       "      <td>13</td>\n",
       "      <td>10</td>\n",
       "      <td>40</td>\n",
       "    </tr>\n",
       "    <tr>\n",
       "      <th>2</th>\n",
       "      <td>Bobsleigh</td>\n",
       "      <td>16</td>\n",
       "      <td>13</td>\n",
       "      <td>11</td>\n",
       "      <td>40</td>\n",
       "    </tr>\n",
       "    <tr>\n",
       "      <th>8</th>\n",
       "      <td>Nordic Combined</td>\n",
       "      <td>8</td>\n",
       "      <td>5</td>\n",
       "      <td>8</td>\n",
       "      <td>21</td>\n",
       "    </tr>\n",
       "    <tr>\n",
       "      <th>10</th>\n",
       "      <td>Ski Jumping</td>\n",
       "      <td>8</td>\n",
       "      <td>6</td>\n",
       "      <td>4</td>\n",
       "      <td>18</td>\n",
       "    </tr>\n",
       "    <tr>\n",
       "      <th>4</th>\n",
       "      <td>Figure Skating</td>\n",
       "      <td>6</td>\n",
       "      <td>6</td>\n",
       "      <td>9</td>\n",
       "      <td>21</td>\n",
       "    </tr>\n",
       "    <tr>\n",
       "      <th>3</th>\n",
       "      <td>Cross Country Skiing</td>\n",
       "      <td>4</td>\n",
       "      <td>10</td>\n",
       "      <td>5</td>\n",
       "      <td>19</td>\n",
       "    </tr>\n",
       "    <tr>\n",
       "      <th>11</th>\n",
       "      <td>Snowboarding</td>\n",
       "      <td>1</td>\n",
       "      <td>3</td>\n",
       "      <td>1</td>\n",
       "      <td>5</td>\n",
       "    </tr>\n",
       "    <tr>\n",
       "      <th>5</th>\n",
       "      <td>Freestyle Skiing</td>\n",
       "      <td>0</td>\n",
       "      <td>1</td>\n",
       "      <td>0</td>\n",
       "      <td>1</td>\n",
       "    </tr>\n",
       "    <tr>\n",
       "      <th>6</th>\n",
       "      <td>Ice Hockey</td>\n",
       "      <td>0</td>\n",
       "      <td>0</td>\n",
       "      <td>2</td>\n",
       "      <td>2</td>\n",
       "    </tr>\n",
       "    <tr>\n",
       "      <th>9</th>\n",
       "      <td>Skeleton</td>\n",
       "      <td>0</td>\n",
       "      <td>1</td>\n",
       "      <td>1</td>\n",
       "      <td>2</td>\n",
       "    </tr>\n",
       "  </tbody>\n",
       "</table>\n",
       "</div>"
      ],
      "text/plain": [
       "                   Sport  Gold  Silver  Bronze  Total\n",
       "7                   Luge    31      23      21     75\n",
       "12         Speed Skating    25      28      19     72\n",
       "1               Biathlon    20      26      15     61\n",
       "0          Alpine Skiing    17      13      10     40\n",
       "2              Bobsleigh    16      13      11     40\n",
       "8        Nordic Combined     8       5       8     21\n",
       "10           Ski Jumping     8       6       4     18\n",
       "4         Figure Skating     6       6       9     21\n",
       "3   Cross Country Skiing     4      10       5     19\n",
       "11          Snowboarding     1       3       1      5\n",
       "5       Freestyle Skiing     0       1       0      1\n",
       "6             Ice Hockey     0       0       2      2\n",
       "9               Skeleton     0       1       1      2"
      ]
     },
     "execution_count": 28,
     "metadata": {},
     "output_type": "execute_result"
    }
   ],
   "source": [
    "w = noc_winter('Germany', 'Overall') #´Colocar país y género: \"M\", \"F\" \"Overall\"\n",
    "winterNOC = w.groupby('Sport').sum()[['Gold','Silver','Bronze']].reset_index() #.sort_values('Gold', ascending=False)\n",
    "winterNOC['Total'] = winterNOC['Gold'] + winterNOC['Silver'] + winterNOC['Bronze']\n",
    "winterNOC = winterNOC.sort_values('Gold', ascending=False)  #Se ordena por medallas de Oro ganadas; Gold. Si se quiere graficar el total, ordenar por Total\n",
    "winterNOC"
   ]
  },
  {
   "cell_type": "markdown",
   "id": "5bb41e6e-9511-4a18-8dd4-22c07d8f2612",
   "metadata": {},
   "source": [
    "Luego, se grafica el resultado en forma de torta para enfatizar el %."
   ]
  },
  {
   "cell_type": "code",
   "execution_count": 29,
   "id": "aaa1ed85-baad-45ae-99c0-bcb61956c9e4",
   "metadata": {},
   "outputs": [
    {
     "data": {
      "image/png": "[encoded data removed]",
      "text/plain": [
       "<Figure size 1080x504 with 1 Axes>"
      ]
     },
     "metadata": {},
     "output_type": "display_data"
    }
   ],
   "source": [
    "fig, ax = plt.subplots(1,1, figsize=(15,7), facecolor='azure')\n",
    "ax.set_facecolor('azure')\n",
    "ax.set_axisbelow(True)\n",
    "\n",
    "ax.tick_params(axis=u'both', which=u'both',length=0)\n",
    "#ax.set_ylabel(\"NOC\",fontfamily='monospace',loc='bottom',color='gray')\n",
    "#ax.set_xlabel(\"Total Medals\",fontfamily='monospace',loc='center',color='gray')\n",
    "\n",
    "#Cambiar el país \n",
    "ax.set_title('% Porcentaje de medallas de Oro ganadas por Alemania en JJOO de Invierno', fontsize=15,fontweight='bold',fontfamily='serif',color='#323232')\n",
    "\n",
    "#Cambiar Gold por Total para graficar el porcentaje de medallas totales\n",
    "plt.pie(winterNOC['Total'], colors = sns.color_palette('mako'), autopct='%1.1f%%',pctdistance=1.1)\n",
    "plt.legend(labels=winterNOC['Sport'], loc='best', bbox_to_anchor=(0.9, 0., 0.75, 0.75), shadow=True) \n",
    "plt.show()"
   ]
  },
  {
   "cell_type": "markdown",
   "id": "63aaa512-515e-4f6f-a1fd-a19e41c1e36c",
   "metadata": {},
   "source": [
    "Función que grafica la distribución (como dispersión) del peso y altura de los deportistas (y medallistas) de los deportes olímpicos de invierno."
   ]
  },
  {
   "cell_type": "code",
   "execution_count": 30,
   "id": "dd17292c-193b-468c-abf5-9e8b74fc421b",
   "metadata": {},
   "outputs": [],
   "source": [
    "def sport_hw(sport, countMedal_winter, df_winter):\n",
    "    fig = plt.figure(figsize=(20,7))\n",
    "    ax0 = fig.add_subplot(1, 2, 1) # añadir sub gráfica 1 (1 fila, 2 columnas, primer gráfica)\n",
    "    ax0.set_facecolor('azure')\n",
    "    ax1 = fig.add_subplot(1, 2, 2) # añadir sub gráfica 2 (1 fila, 2 columnas, segunda gráfica)\n",
    "    ax1.set_facecolor('azure')\n",
    "    \n",
    "    df_winter['Medal'].fillna('No Medal', inplace=True)\n",
    "\n",
    "    ax0.tick_params(axis=u'both', which=u'both',length=0)\n",
    "    ax0.set_title('Distribución de altura (cm) y peso (kg) de los atletas participantes en ' + sport, fontsize=11,fontweight='bold',fontfamily='serif',color='#323232')\n",
    "    sport_df_part = df_winter[df_winter['Sport'] == sport]\n",
    "    sns.scatterplot(sport_df_part['Weight'], sport_df_part['Height'], style=sport_df_part['Sex'], ax=ax0)\n",
    "\n",
    "    ax1.tick_params(axis=u'both', which=u'both',length=0)\n",
    "    ax1.set_title('Distribución de altura (cm) y peso (kg) de los medallistas en ' + sport, fontsize=11,fontweight='bold',fontfamily='serif',color='#323232')\n",
    "    sport_df = countMedal_winter[countMedal_winter['Sport'] == sport]\n",
    "    sns.scatterplot(sport_df['Weight'], sport_df['Height'], hue=sport_df['Medal'], style=sport_df_part['Sex'], ax=ax1)"
   ]
  },
  {
   "cell_type": "code",
   "execution_count": 31,
   "id": "b20dc5af-aac1-4e15-825d-9dc96c85d01a",
   "metadata": {},
   "outputs": [
    {
     "data": {
      "image/png": "[encoded data removed]",
      "text/plain": [
       "<Figure size 1440x504 with 2 Axes>"
      ]
     },
     "metadata": {
      "needs_background": "light"
     },
     "output_type": "display_data"
    }
   ],
   "source": [
    "sport_hw('Luge', countMedal_winter, df_winter) #Colocar el deporte a graficar"
   ]
  },
  {
   "cell_type": "markdown",
   "id": "07e9fc57-eecf-4c80-a5fc-0c6446d82953",
   "metadata": {},
   "source": [
    "Función que calcula la media, como diagrama de caja en función del tiempo, de los atletas y medallistas de los deportes olímpicos de invierno."
   ]
  },
  {
   "cell_type": "code",
   "execution_count": 32,
   "id": "6820876c-d4f8-4fe1-b46f-0e8a1929e57c",
   "metadata": {},
   "outputs": [],
   "source": [
    "def sport_age(sport, countMedal_winter, df_winter):\n",
    "    fig  = plt.figure(figsize=(20,10), facecolor='azure')\n",
    "    gs1 = gridspec.GridSpec(2, 1, figure=fig)\n",
    "    ax0 = fig.add_subplot(gs1[0])\n",
    "    ax0.set_facecolor('azure')\n",
    "    ax1 = fig.add_subplot(gs1[1])    \n",
    "    ax1.set_facecolor('azure')\n",
    "    #fig.tight_layout(h_pad=2)\n",
    "    \n",
    "    df_winter['Medal'].fillna('No Medal', inplace=True)\n",
    "\n",
    "    ax0.tick_params(axis=u'both', which=u'both',length=0)\n",
    "    ax0.set_title('Media de edad de los atletas participantes en ' + sport, fontsize=15,fontweight='bold',fontfamily='serif',color='#323232')\n",
    "    sns.boxplot('Year', 'Age', data=df_winter[df_winter['Sport'] == sport], ax=ax0)\n",
    "\n",
    "    ax1.tick_params(axis=u'both', which=u'both',length=0)\n",
    "    ax1.set_title('Media de edad de los medallistas en ' + sport, fontsize=15,fontweight='bold',fontfamily='serif',color='#323232')\n",
    "    sns.boxplot('Year', 'Age', data=countMedal_winter[countMedal_winter['Sport'] == sport], ax=ax1)"
   ]
  },
  {
   "cell_type": "code",
   "execution_count": 33,
   "id": "bd024964-86d8-488c-a0d1-91afb91fb3a0",
   "metadata": {},
   "outputs": [
    {
     "data": {
      "image/png": "[encoded data removed]",
      "text/plain": [
       "<Figure size 1440x720 with 2 Axes>"
      ]
     },
     "metadata": {},
     "output_type": "display_data"
    }
   ],
   "source": [
    "sport_age('Luge', countMedal_winter, df_winter) #Colocar el deporte a graficar"
   ]
  },
  {
   "cell_type": "markdown",
   "id": "2cebcdca-2c7a-48b3-92f9-829e9eb7c890",
   "metadata": {},
   "source": [
    "Función que tiene como salida lo siguiente, en función del deporte a analizar:\n",
    "<ol>\n",
    "    <li>oly: Lista de países con medalla olímpica en el deporte a analizar</li>\n",
    "    <li>oly_part: Lista de países participantes en el deporte a analizar</li>\n",
    "    <li>oly_eve: Lista con el eventos del deporte a analizar</li>\n",
    "    <li>df_medal: dataframe de los deportistas con medalla</li>\n",
    "    <li>df_párt: dataframe de los atletas participantes</li>\n",
    "</ol>"
   ]
  },
  {
   "cell_type": "code",
   "execution_count": 34,
   "id": "b33e0310-2907-4479-bf50-b25c2950ea7b",
   "metadata": {},
   "outputs": [],
   "source": [
    "def olympic_event(sport):\n",
    "    oly = countMedal_winter.loc[countMedal_winter['Sport']==sport] #Lista de Países con Medallas\n",
    "    oly_part = hola.loc[hola['Sport']==sport] # Lista de Países participantes\n",
    "    oly_eve = oly_part['Event'].unique() #Eventos del deporte en cuestión\n",
    "    \n",
    "    df_medal = countMedal_winter.loc[countMedal_winter['Sport']==sport] #Dataframe medallistas\n",
    "    df_part = hola.loc[hola['Sport']==sport] #Dataframe atletas participantes\n",
    "    \n",
    "    return oly, oly_part, oly_eve, df_medal, df_part"
   ]
  },
  {
   "cell_type": "markdown",
   "id": "8919b16d-5bec-4d46-98f6-9612671a5e5f",
   "metadata": {},
   "source": [
    "Lista de eventos simplificados."
   ]
  },
  {
   "cell_type": "code",
   "execution_count": 35,
   "id": "91a508da-2d21-477d-9e13-bede727b4ae1",
   "metadata": {},
   "outputs": [
    {
     "data": {
      "text/plain": [
       "array([\"Luge Women's Singles\", \"Luge Men's Singles\",\n",
       "       \"Luge Mixed (Men)'s Doubles\", 'Luge Mixed Team Relay'],\n",
       "      dtype=object)"
      ]
     },
     "execution_count": 35,
     "metadata": {},
     "output_type": "execute_result"
    }
   ],
   "source": [
    "country_event, ath_country_event, event, df_medal, df_part = olympic_event('Luge')  #Colocar el deporte a obtener la información\n",
    "event"
   ]
  },
  {
   "cell_type": "markdown",
   "id": "08f0c76c-5e90-45ec-99a2-6833af655f11",
   "metadata": {},
   "source": [
    "Listado de países con medalla en el deporte seleccionado en la función olympic_event."
   ]
  },
  {
   "cell_type": "code",
   "execution_count": 36,
   "id": "a9f43b12-690e-4fa1-b89b-679039616394",
   "metadata": {},
   "outputs": [
    {
     "data": {
      "text/plain": [
       "array(['Russia', 'Germany', 'Italy', 'Austria',\n",
       "       'United States of America', 'Latvia'], dtype=object)"
      ]
     },
     "execution_count": 36,
     "metadata": {},
     "output_type": "execute_result"
    }
   ],
   "source": [
    "country_event['Country'].unique()"
   ]
  },
  {
   "cell_type": "markdown",
   "id": "5e7e38c6-7663-48ff-a5c6-2cc4f0b4ea23",
   "metadata": {},
   "source": [
    "Listado de países participantes en el deporte seleccionado en la función olympic_event."
   ]
  },
  {
   "cell_type": "code",
   "execution_count": 37,
   "id": "f1806aec-1a26-4944-9ddb-3f6ea155aa03",
   "metadata": {},
   "outputs": [
    {
     "data": {
      "text/plain": [
       "array(['Norway', 'Virgin Islands US', 'Kazakhstan', 'Germany', 'Canada',\n",
       "       'Russia', 'Italy', 'Switzerland', 'Romania', 'Latvia', 'Japan',\n",
       "       'Ukraine', 'Bulgaria', 'Tonga', 'France',\n",
       "       'United States of America', 'Liechtenstein', 'Czech Republic',\n",
       "       'Austria', 'Serbia', 'Bosnia and Herzegovina', 'Sweden',\n",
       "       'Venezuela', 'Great Britain', 'Poland', 'Australia', 'Moldova',\n",
       "       'Taiwan', 'Argentina', 'South Korea', 'Spain', 'Slovakia', 'India',\n",
       "       'Individual Olympic Athletes', 'Brazil', 'Puerto Rico', 'Estonia',\n",
       "       'Philippines', 'New Zealand', 'Bermuda', 'Greece', 'Slovenia',\n",
       "       'Georgia'], dtype=object)"
      ]
     },
     "execution_count": 37,
     "metadata": {},
     "output_type": "execute_result"
    }
   ],
   "source": [
    "ath_country_event['Country'].unique()"
   ]
  },
  {
   "cell_type": "markdown",
   "id": "39e43625-9d86-4c6a-9342-e5293eab968c",
   "metadata": {},
   "source": [
    "Contador con los países con mayor cantidad de atletas en el deporte seleccionado en la función olympic_event (top10)."
   ]
  },
  {
   "cell_type": "code",
   "execution_count": 38,
   "id": "070f58f9-71af-44c5-8a73-f9c07b0e6b2d",
   "metadata": {},
   "outputs": [
    {
     "data": {
      "text/plain": [
       "Germany                     182\n",
       "United States of America    134\n",
       "Italy                       123\n",
       "Austria                     119\n",
       "Russia                      105\n",
       "Canada                       79\n",
       "Latvia                       59\n",
       "Poland                       49\n",
       "Japan                        48\n",
       "Czech Republic               42\n",
       "Name: Country, dtype: int64"
      ]
     },
     "execution_count": 38,
     "metadata": {},
     "output_type": "execute_result"
    }
   ],
   "source": [
    "ath_country_event['Country'].value_counts().head(10)"
   ]
  },
  {
   "cell_type": "markdown",
   "id": "55a58b9c-94d7-4922-8124-bd41270db345",
   "metadata": {},
   "source": [
    "Función que grafica el % de medallas de Oro y el medallero del evento seleccionado en la función event_sports. "
   ]
  },
  {
   "cell_type": "markdown",
   "id": "7865b4a7-63dc-4ce5-bef0-43e971e329f3",
   "metadata": {},
   "source": [
    "Esta depende del deporte seleccionado en la función olympic_event"
   ]
  },
  {
   "cell_type": "code",
   "execution_count": 39,
   "id": "42299306-e4cd-4fd9-a2aa-74345c84f2b8",
   "metadata": {},
   "outputs": [],
   "source": [
    "def events_sports(sport, event, df_sport):\n",
    "    events = df_sport.loc[df_sport['Event']==event,]\n",
    "    events.reset_index(drop=True, inplace=True)\n",
    "    \n",
    "    fig, ax = plt.subplots(1,1, figsize=(15,7), facecolor='azure')\n",
    "    ax.set_facecolor('azure')\n",
    "    ax.set_axisbelow(True)\n",
    "    ax.tick_params(axis=u'both', which=u'both',length=0)\n",
    "    ax.set_title('% Medallas de Oro en ' + sport + ': '+ event, fontsize=15,fontweight='bold',fontfamily='serif',color='#323232')\n",
    "\n",
    "    winterNOC = events.groupby('Country').sum()[['Gold','Silver','Bronze']].reset_index() #.sort_values('Gold', ascending=False)\n",
    "    winterNOC['Total'] = winterNOC['Gold'] + winterNOC['Silver'] + winterNOC['Bronze']\n",
    "    winterNOC = winterNOC.sort_values('Gold', ascending=False)\n",
    "    plt.pie(winterNOC['Gold'], colors = sns.color_palette('mako'), autopct='%1.1f%%',pctdistance=1.1)\n",
    "    plt.legend(labels=winterNOC['Country'], loc='best', bbox_to_anchor=(0.9, 0., 0.75, 0.75), shadow=True) \n",
    "    plt.show()\n",
    "    return winterNOC"
   ]
  },
  {
   "cell_type": "code",
   "execution_count": 40,
   "id": "1963b95d-fb81-4231-a2cc-9267abce3e1f",
   "metadata": {},
   "outputs": [
    {
     "data": {
      "image/png": "[encoded data removed]",
      "text/plain": [
       "<Figure size 1080x504 with 1 Axes>"
      ]
     },
     "metadata": {},
     "output_type": "display_data"
    },
    {
     "data": {
      "text/html": [
       "<div>\n",
       "<style scoped>\n",
       "    .dataframe tbody tr th:only-of-type {\n",
       "        vertical-align: middle;\n",
       "    }\n",
       "\n",
       "    .dataframe tbody tr th {\n",
       "        vertical-align: top;\n",
       "    }\n",
       "\n",
       "    .dataframe thead th {\n",
       "        text-align: right;\n",
       "    }\n",
       "</style>\n",
       "<table border=\"1\" class=\"dataframe\">\n",
       "  <thead>\n",
       "    <tr style=\"text-align: right;\">\n",
       "      <th></th>\n",
       "      <th>Country</th>\n",
       "      <th>Gold</th>\n",
       "      <th>Silver</th>\n",
       "      <th>Bronze</th>\n",
       "      <th>Total</th>\n",
       "    </tr>\n",
       "  </thead>\n",
       "  <tbody>\n",
       "    <tr>\n",
       "      <th>1</th>\n",
       "      <td>Germany</td>\n",
       "      <td>10</td>\n",
       "      <td>7</td>\n",
       "      <td>6</td>\n",
       "      <td>23</td>\n",
       "    </tr>\n",
       "    <tr>\n",
       "      <th>2</th>\n",
       "      <td>Italy</td>\n",
       "      <td>3</td>\n",
       "      <td>2</td>\n",
       "      <td>3</td>\n",
       "      <td>8</td>\n",
       "    </tr>\n",
       "    <tr>\n",
       "      <th>0</th>\n",
       "      <td>Austria</td>\n",
       "      <td>1</td>\n",
       "      <td>2</td>\n",
       "      <td>2</td>\n",
       "      <td>5</td>\n",
       "    </tr>\n",
       "    <tr>\n",
       "      <th>3</th>\n",
       "      <td>Latvia</td>\n",
       "      <td>0</td>\n",
       "      <td>0</td>\n",
       "      <td>1</td>\n",
       "      <td>1</td>\n",
       "    </tr>\n",
       "    <tr>\n",
       "      <th>4</th>\n",
       "      <td>Russia</td>\n",
       "      <td>0</td>\n",
       "      <td>3</td>\n",
       "      <td>2</td>\n",
       "      <td>5</td>\n",
       "    </tr>\n",
       "  </tbody>\n",
       "</table>\n",
       "</div>"
      ],
      "text/plain": [
       "   Country  Gold  Silver  Bronze  Total\n",
       "1  Germany    10       7       6     23\n",
       "2    Italy     3       2       3      8\n",
       "0  Austria     1       2       2      5\n",
       "3   Latvia     0       0       1      1\n",
       "4   Russia     0       3       2      5"
      ]
     },
     "execution_count": 40,
     "metadata": {},
     "output_type": "execute_result"
    }
   ],
   "source": [
    "top = events_sports('Luge','Luge Men\\'s Singles', countMedal_winter) #Colocar el evento [Nombre exacto] y el deporte\n",
    "top "
   ]
  },
  {
   "cell_type": "markdown",
   "id": "8dc63b8c-1885-4ca8-97fc-2ff8e412d559",
   "metadata": {},
   "source": [
    "Grafica del rendimiento histórico del evento (o general) por país."
   ]
  },
  {
   "cell_type": "code",
   "execution_count": 41,
   "id": "7017238e-a3a1-454a-b687-f5bdfb60562e",
   "metadata": {},
   "outputs": [],
   "source": [
    "def medal_event(df_medal, country, sport, event):\n",
    "    if event != 'Overall':\n",
    "        temp_df_aux = df_medal[df_medal['Country'] == country]\n",
    "        temp_df = temp_df_aux[temp_df_aux['Event'] == event]\n",
    "    else:\n",
    "        temp_df = df_medal[df_medal['Country'] == country]\n",
    "    \n",
    "    fig, ax = plt.subplots(1, 1, figsize=(18, 5), facecolor='azure')\n",
    "    ax.set_facecolor('azure')\n",
    "    \n",
    "    color = [\"#a97142\", \"lightgray\", '#f0c05a']\n",
    "    medals_list = ['Bronze', 'Silver', 'Gold']\n",
    "    \n",
    "    for i, medal in enumerate(medals_list):\n",
    "        temp = temp_df.groupby(['Year'])['Gold','Silver','Bronze'].sum().cumsum(axis=1)[medal]\n",
    "        ax.bar(temp.index, temp, color=color[i],width=1.5,ec='black')\n",
    "    \n",
    "    Xstart, Xend = ax.get_xlim()\n",
    "    Ystart, Yend = ax.get_ylim()\n",
    "    \n",
    "    ax.text(Xstart+3,Yend+1, 'Medallas Olímpicas de ' + country +' en ' + sport + ': '+ event, fontsize=18,fontweight='bold',fontfamily='serif',color='#323232')\n",
    "\n",
    "    ax.set_xlim(Xstart+2, Xend)\n",
    "    ax.grid(which='both', axis='x', zorder=5, color='gray', linestyle=':', dashes=(1,5))\n",
    "    ax.set_axisbelow(True)\n",
    "    \n",
    "    #Aplica SOLO si se quere analizar Rusia\n",
    "    #plt.axvline(1988, color='r') #Ultimos Juegos URSS\n",
    "    #plt.axvline(1992, color='g') #Equipo Unificado tras caída URSS\n",
    "    #plt.axvline(1994, color='b') #Priemros Juegos Rusia\n",
    "    \n",
    "    for s in ['top', 'right']:\n",
    "        ax.spines[s].set_visible(False)\n",
    "    \n",
    "    plt.show()"
   ]
  },
  {
   "cell_type": "code",
   "execution_count": 42,
   "id": "760054f2-f0b5-463c-9a7a-c15671fc478e",
   "metadata": {},
   "outputs": [
    {
     "name": "stderr",
     "output_type": "stream",
     "text": [
      "/home/jupyterlab/conda/envs/python/lib/python3.7/site-packages/ipykernel_launcher.py:15: FutureWarning: Indexing with multiple keys (implicitly converted to a tuple of keys) will be deprecated, use a list instead.\n",
      "  from ipykernel import kernelapp as app\n"
     ]
    },
    {
     "data": {
      "image/png": "[encoded data removed]",
      "text/plain": [
       "<Figure size 1296x360 with 1 Axes>"
      ]
     },
     "metadata": {},
     "output_type": "display_data"
    }
   ],
   "source": [
    "medal_event(df_medal, 'Germany', 'Luge', 'Overall') #Colocar país y evento: el evento puede ser uno en concreto o Overall (total). Depende del deporte selecionado previamente."
   ]
  },
  {
   "cell_type": "code",
   "execution_count": null,
   "id": "cf6b9dd9-f6e6-4d4a-bf22-d7ef5c5b6540",
   "metadata": {},
   "outputs": [],
   "source": []
  }
 ],
 "metadata": {
  "kernelspec": {
   "display_name": "Python",
   "language": "python",
   "name": "conda-env-python-py"
  },
  "language_info": {
   "codemirror_mode": {
    "name": "ipython",
    "version": 3
   },
   "file_extension": ".py",
   "mimetype": "text/x-python",
   "name": "python",
   "nbconvert_exporter": "python",
   "pygments_lexer": "ipython3",
   "version": "3.7.12"
  }
 },
 "nbformat": 4,
 "nbformat_minor": 5
}
